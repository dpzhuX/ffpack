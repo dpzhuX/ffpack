{
 "cells": [
  {
   "cell_type": "markdown",
   "id": "579711aa",
   "metadata": {},
   "source": [
    "# Load cycle counting ( lcc )"
   ]
  },
  {
   "cell_type": "markdown",
   "id": "8906c100",
   "metadata": {},
   "source": [
    "## ASTM level crossing counting"
   ]
  },
  {
   "cell_type": "code",
   "execution_count": 1,
   "id": "1c2f7173",
   "metadata": {},
   "outputs": [],
   "source": [
    "from ffpack.lcc import levelCrossingCounting"
   ]
  },
  {
   "cell_type": "code",
   "execution_count": 2,
   "id": "3c84d765",
   "metadata": {},
   "outputs": [],
   "source": [
    "sequenceData = [ -0.8, 1.3, 0.7, 3.4, 0.7, 2.5, -1.4, -0.5, -2.3, \n",
    "                 -2.2, -2.6, -2.4, -3.3, 1.5, 0.6, 3.4, -0.5 ]\n",
    "\n",
    "lccData = levelCrossingCounting( sequenceData )"
   ]
  },
  {
   "cell_type": "code",
   "execution_count": 3,
   "id": "81eca673",
   "metadata": {},
   "outputs": [
    {
     "name": "stdout",
     "output_type": "stream",
     "text": [
      "[[-3.0, 1.0], [-2.0, 1.0], [-1.0, 2.0], [0.0, 2.0], [1.0, 5.0], [2.0, 3.0], [3.0, 2.0]]\n"
     ]
    }
   ],
   "source": [
    "print( lccData )"
   ]
  },
  {
   "cell_type": "markdown",
   "id": "a1ce797a",
   "metadata": {},
   "source": [
    "## ASTM peak counting"
   ]
  },
  {
   "cell_type": "code",
   "execution_count": 4,
   "id": "c90c1fab",
   "metadata": {},
   "outputs": [],
   "source": [
    "from ffpack.lcc import peakCounting"
   ]
  },
  {
   "cell_type": "code",
   "execution_count": 5,
   "id": "0a00a2ee",
   "metadata": {},
   "outputs": [],
   "source": [
    "sequenceData = [ 0.0, 1.5, 0.5, 3.5, 0.5, 2.5, -1.5, -0.5, -2.5, \n",
    "                 -2.0, -2.7, -2.5, -3.5, 1.5, 0.5, 3.5, -0.5 ]\n",
    "\n",
    "pcData = peakCounting( sequenceData )"
   ]
  },
  {
   "cell_type": "code",
   "execution_count": 6,
   "id": "47ecc8f3",
   "metadata": {},
   "outputs": [
    {
     "name": "stdout",
     "output_type": "stream",
     "text": [
      "[[-3.5, 1.0], [-2.7, 1.0], [-2.5, 1.0], [-1.5, 1.0], [1.5, 2.0], [2.5, 1.0], [3.5, 2.0]]\n"
     ]
    }
   ],
   "source": [
    "print( pcData )"
   ]
  },
  {
   "cell_type": "markdown",
   "id": "80247990",
   "metadata": {},
   "source": [
    "## ASTM simple range counting"
   ]
  },
  {
   "cell_type": "code",
   "execution_count": 7,
   "id": "43a43eef",
   "metadata": {},
   "outputs": [],
   "source": [
    "from ffpack.lcc import simpleRangeCounting"
   ]
  },
  {
   "cell_type": "code",
   "execution_count": 8,
   "id": "8abd6681",
   "metadata": {},
   "outputs": [],
   "source": [
    "sequenceData = [ -2.0, 1.0, -3.0, 5.0, -1.0, 3.0, -4.0, 4.0, -2.0 ]\n",
    "\n",
    "srcData = simpleRangeCounting( sequenceData )"
   ]
  },
  {
   "cell_type": "code",
   "execution_count": 9,
   "id": "c2115db6",
   "metadata": {},
   "outputs": [
    {
     "name": "stdout",
     "output_type": "stream",
     "text": [
      "[[3.0, 0.5], [4.0, 1.0], [6.0, 1.0], [7.0, 0.5], [8.0, 1.0]]\n"
     ]
    }
   ],
   "source": [
    "print( srcData )"
   ]
  },
  {
   "cell_type": "markdown",
   "id": "66386063",
   "metadata": {},
   "source": [
    "## ASTM rainflow counting"
   ]
  },
  {
   "cell_type": "code",
   "execution_count": 10,
   "id": "cb745797",
   "metadata": {},
   "outputs": [],
   "source": [
    "from ffpack.lcc import rainflowCounting"
   ]
  },
  {
   "cell_type": "code",
   "execution_count": 11,
   "id": "60970fb0",
   "metadata": {},
   "outputs": [],
   "source": [
    "sequenceData = [ -2.0, 1.0, -3.0, 5.0, -1.0, 3.0, -4.0, 4.0, -2.0 ]\n",
    "\n",
    "rfcData = rainflowCounting( sequenceData )"
   ]
  },
  {
   "cell_type": "code",
   "execution_count": 12,
   "id": "5926e745",
   "metadata": {},
   "outputs": [
    {
     "name": "stdout",
     "output_type": "stream",
     "text": [
      "[[3.0, 0.5], [4.0, 1.5], [6.0, 0.5], [8.0, 1.0], [9.0, 0.5]]\n"
     ]
    }
   ],
   "source": [
    "print( rfcData )"
   ]
  }
 ],
 "metadata": {
  "kernelspec": {
   "display_name": "Python 3 (ipykernel)",
   "language": "python",
   "name": "python3"
  },
  "language_info": {
   "codemirror_mode": {
    "name": "ipython",
    "version": 3
   },
   "file_extension": ".py",
   "mimetype": "text/x-python",
   "name": "python",
   "nbconvert_exporter": "python",
   "pygments_lexer": "ipython3",
   "version": "3.9.15"
  }
 },
 "nbformat": 4,
 "nbformat_minor": 5
}
