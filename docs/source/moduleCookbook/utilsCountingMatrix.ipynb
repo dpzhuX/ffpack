{
 "cells": [
  {
   "cell_type": "markdown",
   "id": "ad078293-3485-4702-9470-a9a0e2ac999e",
   "metadata": {},
   "source": [
    "## Counting matrix"
   ]
  },
  {
   "cell_type": "code",
   "execution_count": 1,
   "id": "7a7ae508",
   "metadata": {},
   "outputs": [],
   "source": [
    "# Import auxiliary libraries for demonstration\n",
    "\n",
    "import matplotlib as mpl\n",
    "import matplotlib.pyplot as plt\n",
    "import numpy as np\n",
    "\n",
    "plt.rcParams[ \"figure.figsize\" ] = [ 5, 4 ]\n",
    "plt.style.use( \"default\" )\n",
    "\n",
    "plt.rcParams[ \"figure.dpi\" ] = 80\n",
    "plt.rcParams[ \"font.family\" ] = \"Times New Roman\"\n",
    "plt.rcParams[ \"font.size\" ] = '14'"
   ]
  },
  {
   "cell_type": "markdown",
   "id": "1f271605",
   "metadata": {},
   "source": [
    "### Counting results to counting matrix"
   ]
  },
  {
   "cell_type": "markdown",
   "id": "6ffe32b8-494a-4ce1-af6c-9ed780fc0e99",
   "metadata": {},
   "source": [
    "Function `countingRstToCountingMatrix` returns the cycle counting matrix and corresponding index from the cycle counting results."
   ]
  },
  {
   "cell_type": "markdown",
   "id": "59581b3f-1291-4cac-a563-7d1d9f38eb4f",
   "metadata": {},
   "source": [
    "#### Function help"
   ]
  },
  {
   "cell_type": "code",
   "execution_count": 2,
   "id": "ea8d30eb-9a9a-462c-80bb-88d0880a009a",
   "metadata": {},
   "outputs": [
    {
     "name": "stdout",
     "output_type": "stream",
     "text": [
      "Help on function countingRstToCountingMatrix in module ffpack.utils.lsmUtils:\n",
      "\n",
      "countingRstToCountingMatrix(countingRst)\n",
      "    Calculate counting matrix from rainflow counting result.\n",
      "    \n",
      "    Parameters\n",
      "    ----------\n",
      "    countingRst: 2d array\n",
      "        Cycle counting result in form of [ [ rangeStart1, rangeEnd1, count1 ], \n",
      "        [ rangeStart2, rangeEnd2, count2 ], ... ].\n",
      "    \n",
      "    Returns\n",
      "    -------\n",
      "    rst: 2d array\n",
      "        A matrix contains the counting results.\n",
      "    matrixIndexKey: 1d array\n",
      "        A sorted array contains the index keys for the counting matrix.\n",
      "    \n",
      "    Raises\n",
      "    ------\n",
      "    ValueError\n",
      "        If the data dimension is not 2.\n",
      "        If the data is not empty and not in dimension of n by 3.\n",
      "    \n",
      "    Examples\n",
      "    --------\n",
      "    >>> from ffpack.lsm import countingRstToCountingMatrix\n",
      "    >>> countingRst = [ [ -2.0, 1.0, 1.0 ], [ 5.0, -1.0, 3.0 ], [ -4.0, 4.0, 0.5 ] ]\n",
      "    >>> rst, matrixIndexKey = countingRstToCountingMatrix( countingRst )\n",
      "\n"
     ]
    }
   ],
   "source": [
    "from ffpack.utils import countingRstToCountingMatrix\n",
    "help( countingRstToCountingMatrix )"
   ]
  },
  {
   "cell_type": "markdown",
   "id": "915aee20-7026-4fec-94fe-cd8315064b28",
   "metadata": {},
   "source": [
    "#### Example with default values"
   ]
  },
  {
   "cell_type": "code",
   "execution_count": 3,
   "id": "4cc014cd-2ed5-4db6-9835-96e09335d5f1",
   "metadata": {},
   "outputs": [],
   "source": [
    "cctcmRst = [ [ -2.0, 1.0, 1.0 ], [ 5.0, -1.0, 3.0 ], [ -4.0, 4.0, 0.5 ] ]\n",
    "cctcmMat, cctcmMatIndexKey = countingRstToCountingMatrix( cctcmRst )\n",
    "\n",
    "cctcmMat = np.array( cctcmMat )\n",
    "cctcmMatIndex = np.array( cctcmMatIndexKey ).astype( float )"
   ]
  },
  {
   "cell_type": "code",
   "execution_count": 4,
   "id": "c8e13e5d-6539-45b3-bf89-4236c643aca3",
   "metadata": {},
   "outputs": [
    {
     "name": "stdout",
     "output_type": "stream",
     "text": [
      "Cycle counting matrix\n",
      "[[0.  0.  0.  0.  0.5 0. ]\n",
      " [0.  0.  0.  1.  0.  0. ]\n",
      " [0.  0.  0.  0.  0.  0. ]\n",
      " [0.  0.  0.  0.  0.  0. ]\n",
      " [0.  0.  0.  0.  0.  0. ]\n",
      " [0.  0.  3.  0.  0.  0. ]]\n",
      "\n",
      "Matrix index\n",
      "[-4. -2. -1.  1.  4.  5.]\n"
     ]
    }
   ],
   "source": [
    "print( \"Cycle counting matrix\" )\n",
    "print( cctcmMat )\n",
    "print()\n",
    "print( \"Matrix index\" )\n",
    "print( cctcmMatIndex )"
   ]
  }
 ],
 "metadata": {
  "kernelspec": {
   "display_name": "Python 3 (ipykernel)",
   "language": "python",
   "name": "python3"
  },
  "language_info": {
   "codemirror_mode": {
    "name": "ipython",
    "version": 3
   },
   "file_extension": ".py",
   "mimetype": "text/x-python",
   "name": "python",
   "nbconvert_exporter": "python",
   "pygments_lexer": "ipython3",
   "version": "3.9.13"
  }
 },
 "nbformat": 4,
 "nbformat_minor": 5
}
