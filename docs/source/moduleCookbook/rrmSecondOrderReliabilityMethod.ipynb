{
 "cells": [
  {
   "cell_type": "markdown",
   "id": "03b36a94-c81d-47dd-b99d-0f50c656a4f3",
   "metadata": {},
   "source": [
    "## Second order reliability method"
   ]
  },
  {
   "cell_type": "markdown",
   "id": "76ab8a81-2528-4606-a152-5daf4131a50d",
   "metadata": {},
   "source": [
    "For the second order reliability method, the random variables $X$ first should be transformed to standard normal uncorrelated variables $U$. Then, the limit state function $g(U)$ can be approximated with a second order Taylor expansion,\n",
    "\n",
    "$$\n",
    "g(U) \\approx g(U^*) + \\nabla g(U^*)^T(U-U^*) + \\frac{1}{2}(U-U^*)^T  \\nabla^2 g(U^*) (U-U^*)\n",
    "$$\n",
    "\n",
    "where $U^*$ is the design point or most probable failure point (MPP); $\\nabla^2 g(U^*)$ represent the Hessian matrix evaluated at the design point, it can be represented by,\n",
    "\n",
    "$$\n",
    "\\nabla^2 g(U^*)_{ij} = \\frac{\\partial g(U^*)}{\\partial u_i \\partial u_j}\n",
    "$$\n",
    "\n",
    "Since $g(U^*)=0$, the second order Taylor expansion can be represented by,\n",
    "\n",
    "$$\n",
    "g(U) \\approx \\nabla g(U^*)^T(U-U^*) + \\frac{1}{2}(U-U^*)^T  \\nabla^2 g(U^*) (U-U^*)\n",
    "$$\n",
    "\n",
    "To solve the problem, a transformation $Y=HU$ is performed so that the last coordinate coincides with the vector $U^*$ from the origin to the design point ($\\beta$ vector). $H$ can be obtained by a Gram-Schmidt orthogonalization. Thus, the Taylor expansion is,\n",
    "\n",
    "$$\n",
    "g(Y) \\approx -y_n + \\beta + \\frac{1}{2}(Y-Y^*)^T H \\frac{\\nabla^2 g(U^*)}{||\\nabla g(U^*) ||} H^T (Y-Y^*)\n",
    "$$\n",
    "\n",
    "where $Y^* = \\{0,0,\\dots, \\beta\\}^T$ is the design point in $Y$ space corresponding to the design point $U^*$ in $U$ space; $(Y-Y^*) = \\{y_1,y_2,\\dots, y_n-\\beta\\}^T$.\n",
    "\n",
    "The main curvatures $k_i$ can be obtained by transforming the $(n-1)\\times(n-1)$ order matrix of $H \\frac{\\nabla^2 g(U^*)}{||\\nabla g(U^*) ||} H^T$ to a diagonal matrix (i.e., eigenvalues).\n",
    "\n",
    "References:\n",
    "\n",
    "* Choi, S.K., Canfield, R.A. and Grandhi, R.V., 2007. Reliability-Based Structural Design. Springer London."
   ]
  },
  {
   "cell_type": "code",
   "execution_count": 1,
   "id": "4f4f5d78-0a54-4ec1-ac14-4aa4eaf53012",
   "metadata": {},
   "outputs": [],
   "source": [
    "# Import auxiliary libraries for demonstration\n",
    "\n",
    "import matplotlib as mpl\n",
    "import matplotlib.pyplot as plt\n",
    "import numpy as np\n",
    "from scipy import stats\n",
    "\n",
    "plt.rcParams[ \"figure.figsize\" ] = [ 5, 4 ]\n",
    "\n",
    "plt.rcParams[ \"figure.dpi\" ] = 80\n",
    "plt.rcParams[ \"font.family\" ] = \"Times New Roman\"\n",
    "plt.rcParams[ \"font.size\" ] = '14'"
   ]
  },
  {
   "cell_type": "markdown",
   "id": "ba5cfab2-1586-41f9-81fb-38b6aa3899ae",
   "metadata": {
    "tags": []
   },
   "source": [
    "### Breitung SORM"
   ]
  },
  {
   "cell_type": "markdown",
   "id": "aeba2833-9e15-493f-ac0b-9a6e33bda0c5",
   "metadata": {},
   "source": [
    "With the $n-1$ main curvatures $k_i$ and first order reliability index $\\beta$, Breitung proposed the parabolic approximation of probability of failure,\n",
    "\n",
    "$$\n",
    "p_f = \\Phi(-\\beta) \\prod_{i=1}^{n-1}  (1+k_i \\beta)^{-1/2}\n",
    "$$\n",
    "\n",
    "where $\\Phi(\\cdot)$ is the standard normal Cumulative Distribution Function (CDF); $\\beta$ is the first order reliability index; $k_i$ is the main curvatures of the limit-state function at design point; It should be noted that Breitung formula is applicable for large $\\beta$.\n",
    "\n",
    "Function `breitungSORM` implements the SORM with Breitung algorithm. The Nataf transformation is used in the method to map the random variables from X space to U space.\n",
    "\n",
    "References:\n",
    "\n",
    "* Breitung, K., 1984. Asymptotic approximations for multinormal integrals. Journal of Engineering Mechanics, 110(3), pp.357-366.\n",
    "* Hu, Z., Mansour, R., Olsson, M. and Du, X., 2021. Second-order reliability methods: a review and comparative study. Structural and Multidisciplinary Optimization, 64(6), pp.3233-3263.\n",
    "* Bourinet, J.M., 2018. Reliability analysis and optimal design under uncertainty-Focus on adaptive surrogate-based approaches (Doctoral dissertation, Université Clermont Auvergne)."
   ]
  },
  {
   "cell_type": "markdown",
   "id": "8933072a-1d10-4036-98fc-4392753596da",
   "metadata": {},
   "source": [
    "#### Function help"
   ]
  },
  {
   "cell_type": "code",
   "execution_count": 2,
   "id": "b59f8eeb-40cc-487d-970f-7fc97e6a591c",
   "metadata": {},
   "outputs": [
    {
     "name": "stdout",
     "output_type": "stream",
     "text": [
      "Help on function breitungSORM in module ffpack.rrm.secondOrderReliabilityMethod:\n",
      "\n",
      "breitungSORM(dim, g, dg, distObjs, corrMat, quadDeg=99, quadRange=8, dx=1e-06)\n",
      "    Second order reliability method based on Breitung algorithm.\n",
      "    \n",
      "    Parameters\n",
      "    ----------\n",
      "    dim: integer\n",
      "        Space dimension ( number of random variables ).\n",
      "    g: function\n",
      "        Limit state function. It will be called like g( [ x1, x2, ... ] ).\n",
      "    dg: array_like of function \n",
      "        Gradient of the limit state function. It should be an array_like of function\n",
      "        like dg = [ dg_dx1, dg_dx2, ... ]. To get the derivative of i-th random \n",
      "        variable at ( x1*, x2*, ... ), dg[ i ]( x1*, x2*, ... ) will be called.\n",
      "        dg can be None, see the following Notes.\n",
      "    distObjs: array_like of distributions\n",
      "        Marginal distribution objects. It should be the freezed distribution \n",
      "        objects with pdf, cdf, ppf. We recommend to use scipy.stats functions.\n",
      "    corrMat: 2d matrix\n",
      "        Correlation matrix of the marginal distributions.\n",
      "    quadDeg: integer\n",
      "        Quadrature degree for Nataf transformation\n",
      "    quadRange: scalar\n",
      "        Quadrature range for Nataf transformation. The integral will be performed \n",
      "        in the range [ -quadRange, quadRange ].\n",
      "    dx : scalar, optional\n",
      "        Spacing for auto differentiation. Not required if dg is provided.\n",
      "    \n",
      "    Returns\n",
      "    -------\n",
      "    beta: scalar\n",
      "        Reliability index.\n",
      "    pf: scalar\n",
      "        Probability of failure.\n",
      "    uCoord: 1d array\n",
      "        Design point coordinate in U space.\n",
      "    xCoord: 1d array\n",
      "        Design point coordinate in X space.\n",
      "    \n",
      "    Raises\n",
      "    ------\n",
      "    ValueError\n",
      "        If the dim is less than 1.\n",
      "        If the dim does not match the disObjs and corrMat.\n",
      "        If corrMat is not 2d matrix.\n",
      "        If corrMat is not positive definite.\n",
      "        If corrMat is not symmetric.\n",
      "        If corrMat diagonal is not 1.\n",
      "    \n",
      "    Notes\n",
      "    -----\n",
      "    If dg is None, the numerical differentiation will be used. The tolerance of the \n",
      "    numerical differentiation can be changed in globalConfig.\n",
      "    \n",
      "    Examples\n",
      "    --------\n",
      "    >>> from ffpack.rrm import breitungSORM\n",
      "    >>> dim = 2\n",
      "    >>> g = lambda X: -np.sum( X ) + 1\n",
      "    >>> dg = [ lambda X: -1, lambda X: -1 ]\n",
      "    >>> distObjs = [ stats.norm(), stats.norm() ]\n",
      "    >>> corrMat = np.eye( dim )\n",
      "    >>> beta, pf, uCoord, xCoord = breitungSORM( dim, g, dg, distObjs, corrMat )\n",
      "\n"
     ]
    }
   ],
   "source": [
    "from ffpack.rrm import breitungSORM\n",
    "help( breitungSORM )"
   ]
  },
  {
   "cell_type": "markdown",
   "id": "50b248f2-c448-41de-8091-90c69deb20cf",
   "metadata": {},
   "source": [
    "#### Example with explicit derivative of LSF"
   ]
  },
  {
   "cell_type": "code",
   "execution_count": 3,
   "id": "14c575c2-ca10-44d1-8c4a-142a2b8454a5",
   "metadata": {},
   "outputs": [],
   "source": [
    "# Define the dimension for the FORM problem\n",
    "dim = 2\n",
    "\n",
    "# Define the limit state function (LSF) g\n",
    "g = lambda X: X[ 0 ] ** 4 + 2 * X[ 1 ] ** 4 - 20\n",
    "\n",
    "# Explicit derivative of LSF\n",
    "# dg is a list in which each element is a partial derivative function of g w.r.t. X\n",
    "# dg[0] = partial g / partial X[0]\n",
    "# dg[1] = partial g / partial X[1]\n",
    "dg = [ lambda X: 4 * X[ 0 ] ** 3, lambda X: 8 * X[ 1 ] ** 3 ] \n",
    "\n",
    "# Marginal distributions and correlation Matrix of the random variables\n",
    "distObjs = [ stats.norm( 5.0, 5.0 ), stats.norm( 5.0, 5.0 ) ]\n",
    "corrMat = np.eye( dim )\n",
    "\n",
    "beta, pf, uCoord, xCoord = breitungSORM( dim, g, dg, distObjs, corrMat )"
   ]
  },
  {
   "cell_type": "code",
   "execution_count": 4,
   "id": "831375b4-9531-41bd-9d9a-440a8ec51a27",
   "metadata": {},
   "outputs": [
    {
     "name": "stdout",
     "output_type": "stream",
     "text": [
      "Reliability index: \n",
      "0.9519628114174661\n",
      "\n",
      "Failure probability: \n",
      "0.06374492261292942\n",
      "\n",
      "Design point coordinate in U space: \n",
      "[-0.6398897170780924, -0.7048222075811494]\n",
      "\n",
      "Design point coordinate in X space: \n",
      "[1.8005514146095387, 1.4758889620942535]\n"
     ]
    }
   ],
   "source": [
    "print( \"Reliability index: \" )\n",
    "print( beta )\n",
    "print()\n",
    "print( \"Failure probability: \" )\n",
    "print( pf )\n",
    "print()\n",
    "print( \"Design point coordinate in U space: \" )\n",
    "print( uCoord )\n",
    "print()\n",
    "print( \"Design point coordinate in X space: \" )\n",
    "print( xCoord )"
   ]
  },
  {
   "cell_type": "markdown",
   "id": "b31cdee5-34d8-43f3-ab05-8522b65dbf0e",
   "metadata": {},
   "source": [
    "#### Example with automatic differentiation of LSF"
   ]
  },
  {
   "cell_type": "code",
   "execution_count": 5,
   "id": "6925afe8-cfa0-43de-8c14-c15c6e1ab6eb",
   "metadata": {},
   "outputs": [],
   "source": [
    "# Define the dimension for the FORM problem\n",
    "dim = 2\n",
    "\n",
    "# Define the limit state function (LSF) g\n",
    "g = lambda X: X[ 0 ] ** 4 + 2 * X[ 1 ] ** 4 - 20\n",
    "\n",
    "# If dg is None, the internal automatic differentiation algorithm will be used\n",
    "dg = None\n",
    "\n",
    "# Marginal distributions and correlation Matrix of the random variables\n",
    "distObjs = [ stats.norm( 5.0, 5.0 ), stats.norm( 5.0, 5.0 ) ]\n",
    "corrMat = np.eye( dim )\n",
    "\n",
    "beta, pf, uCoord, xCoord = breitungSORM( dim, g, dg, distObjs, corrMat )"
   ]
  },
  {
   "cell_type": "code",
   "execution_count": 6,
   "id": "590316da-53c1-4d7a-8fbf-8036551d37ef",
   "metadata": {},
   "outputs": [
    {
     "name": "stdout",
     "output_type": "stream",
     "text": [
      "Reliability index: \n",
      "0.9519628114174661\n",
      "\n",
      "Failure probability: \n",
      "0.06374492260984004\n",
      "\n",
      "Design point coordinate in U space: \n",
      "[-0.6398897170780924, -0.7048222075811494]\n",
      "\n",
      "Design point coordinate in X space: \n",
      "[1.8005514146095387, 1.4758889620942535]\n"
     ]
    }
   ],
   "source": [
    "print( \"Reliability index: \" )\n",
    "print( beta )\n",
    "print()\n",
    "print( \"Failure probability: \" )\n",
    "print( pf )\n",
    "print()\n",
    "print( \"Design point coordinate in U space: \" )\n",
    "print( uCoord )\n",
    "print()\n",
    "print( \"Design point coordinate in X space: \" )\n",
    "print( xCoord )"
   ]
  },
  {
   "cell_type": "markdown",
   "id": "819262f3-9516-40b2-aa34-786af92b3426",
   "metadata": {},
   "source": [
    "### Tvedt SORM"
   ]
  },
  {
   "cell_type": "markdown",
   "id": "16403f72-6b74-47ab-8b62-a35259557376",
   "metadata": {},
   "source": [
    "Tvedt further derived a three-term approximation by ignoring terms of orders higher than two,\n",
    "\n",
    "$$\n",
    "T_1 = \\Phi(-\\beta) \\prod_{i=1}^{n-1} (1+k_i \\beta)^{-1/2}\n",
    "$$\n",
    "\n",
    "$$\n",
    "T_2 = \\left[ \\beta \\Phi(-\\beta) - \\phi(\\beta) \\right] \\left[ \\prod_{i=1}^{n-1} (1+k_i \\beta)^{-1/2} - \\prod_{i=1}^{n-1} (1+k_i (\\beta+1))^{-1/2} \\right]\n",
    "$$\n",
    "\n",
    "$$\n",
    "T_3 = (\\beta + 1) \\left[ \\beta \\Phi(-\\beta) - \\phi(\\beta) \\right] \\left[ \\prod_{i=1}^{n-1} (1+k_i \\beta)^{-1/2} - \\text{Re} \\left[ \\prod_{i=1}^{n-1} (1+k_i (\\beta+1))^{-1/2} \\right] \\right]\n",
    "$$\n",
    "\n",
    "$$\n",
    "p_f = T_1 + T_2 + T_3\n",
    "$$\n",
    "\n",
    "where $\\Phi(\\cdot)$ is the standard normal Cumulative Distribution Function (CDF); $\\phi(\\cdot)$ is the standard normal Probabilistic Distribution Function (PDF); $\\beta$ is the first order reliability index; $k_i$ is the main curvatures of the limit-state function at design point; $\\text{Re}$ is the real part of a complex number. It can be found that the $T_1$ is the Breitung's equation. The $T_2$ and $T_3$ can be interpreted as the correctors to the Breitung’s formula to increase the accuracy for moderate values of $\\beta$.\n",
    "\n",
    "References:\n",
    "\n",
    "* Tvedt, L., 1990. Distribution of quadratic forms in normal space—application to structural reliability. Journal of engineering mechanics, 116(6), pp.1183-1197.\n",
    "* Hu, Z., Mansour, R., Olsson, M. and Du, X., 2021. Second-order reliability methods: a review and comparative study. Structural and Multidisciplinary Optimization, 64(6), pp.3233-3263.\n",
    "* Bourinet, J.M., 2018. Reliability analysis and optimal design under uncertainty-Focus on adaptive surrogate-based approaches (Doctoral dissertation, Université Clermont Auvergne)."
   ]
  },
  {
   "cell_type": "markdown",
   "id": "b4ed533c-07ca-495e-8561-f020ef683b2b",
   "metadata": {},
   "source": [
    "#### Function help"
   ]
  },
  {
   "cell_type": "code",
   "execution_count": 7,
   "id": "a04e8289-6785-4fe6-967f-256e6dd2e3b5",
   "metadata": {},
   "outputs": [
    {
     "name": "stdout",
     "output_type": "stream",
     "text": [
      "Help on function tvedtSORM in module ffpack.rrm.secondOrderReliabilityMethod:\n",
      "\n",
      "tvedtSORM(dim, g, dg, distObjs, corrMat, quadDeg=99, quadRange=8, dx=1e-06)\n",
      "    Second order reliability method based on Tvedt algorithm.\n",
      "    \n",
      "    Parameters\n",
      "    ----------\n",
      "    dim: integer\n",
      "        Space dimension ( number of random variables ).\n",
      "    g: function\n",
      "        Limit state function. It will be called like g( [ x1, x2, ... ] ).\n",
      "    dg: array_like of function \n",
      "        Gradient of the limit state function. It should be an array_like of function\n",
      "        like dg = [ dg_dx1, dg_dx2, ... ]. To get the derivative of i-th random \n",
      "        variable at ( x1*, x2*, ... ), dg[ i ]( x1*, x2*, ... ) will be called.\n",
      "        dg can be None, see the following Notes.\n",
      "    distObjs: array_like of distributions\n",
      "        Marginal distribution objects. It should be the freezed distribution \n",
      "        objects with pdf, cdf, ppf. We recommend to use scipy.stats functions.\n",
      "    corrMat: 2d matrix\n",
      "        Correlation matrix of the marginal distributions.\n",
      "    quadDeg: integer\n",
      "        Quadrature degree for Nataf transformation\n",
      "    quadRange: scalar\n",
      "        Quadrature range for Nataf transformation. The integral will be performed \n",
      "        in the range [ -quadRange, quadRange ].\n",
      "    dx : scalar, optional\n",
      "        Spacing for auto differentiation. Not required if dg is provided.\n",
      "    \n",
      "    Returns\n",
      "    -------\n",
      "    beta: scalar\n",
      "        Reliability index.\n",
      "    pf: scalar\n",
      "        Probability of failure.\n",
      "    uCoord: 1d array\n",
      "        Design point coordinate in U space.\n",
      "    xCoord: 1d array\n",
      "        Design point coordinate in X space.\n",
      "    \n",
      "    Raises\n",
      "    ------\n",
      "    ValueError\n",
      "        If the dim is less than 1.\n",
      "        If the dim does not match the disObjs and corrMat.\n",
      "        If corrMat is not 2d matrix.\n",
      "        If corrMat is not positive definite.\n",
      "        If corrMat is not symmetric.\n",
      "        If corrMat diagonal is not 1.\n",
      "    \n",
      "    Notes\n",
      "    -----\n",
      "    If dg is None, the numerical differentiation will be used. The tolerance of the \n",
      "    numerical differentiation can be changed in globalConfig.\n",
      "    \n",
      "    Examples\n",
      "    --------\n",
      "    >>> from ffpack.rrm import tvedtSORM\n",
      "    >>> dim = 2\n",
      "    >>> g = lambda X: -np.sum( X ) + 1\n",
      "    >>> dg = [ lambda X: -1, lambda X: -1 ]\n",
      "    >>> distObjs = [ stats.norm(), stats.norm() ]\n",
      "    >>> corrMat = np.eye( dim )\n",
      "    >>> beta, pf, uCoord, xCoord = tvedtSORM( dim, g, dg, distObjs, corrMat )\n",
      "\n"
     ]
    }
   ],
   "source": [
    "from ffpack.rrm import tvedtSORM\n",
    "help( tvedtSORM )"
   ]
  },
  {
   "cell_type": "markdown",
   "id": "d352e670-01dc-4536-922b-7a9b087e8c4c",
   "metadata": {},
   "source": [
    "#### Example with explicit derivative of LSF"
   ]
  },
  {
   "cell_type": "code",
   "execution_count": 8,
   "id": "c4808440-8427-4d3d-9019-763fd3dca97a",
   "metadata": {},
   "outputs": [],
   "source": [
    "# Define the dimension for the FORM problem\n",
    "dim = 2\n",
    "\n",
    "# Define the limit state function (LSF) g\n",
    "g = lambda X: X[ 0 ] ** 4 + 2 * X[ 1 ] ** 4 - 20\n",
    "\n",
    "# Explicit derivative of LSF\n",
    "# dg is a list in which each element is a partial derivative function of g w.r.t. X\n",
    "# dg[0] = partial g / partial X[0]\n",
    "# dg[1] = partial g / partial X[1]\n",
    "dg = [ lambda X: 4 * X[ 0 ] ** 3, lambda X: 8 * X[ 1 ] ** 3 ]\n",
    "\n",
    "# Marginal distributions and correlation Matrix of the random variables\n",
    "distObjs = [ stats.norm( 5.0, 5.0 ), stats.norm( 5.0, 5.0 ) ]\n",
    "corrMat = np.eye( dim )\n",
    "\n",
    "beta, pf, uCoord, xCoord = tvedtSORM( dim, g, dg, distObjs, corrMat )"
   ]
  },
  {
   "cell_type": "code",
   "execution_count": 9,
   "id": "8a2c8ee2-87e6-4667-835f-4351154dc7d6",
   "metadata": {},
   "outputs": [
    {
     "name": "stdout",
     "output_type": "stream",
     "text": [
      "Reliability index: \n",
      "0.9519628114174661\n",
      "\n",
      "Failure probability: \n",
      "0.03604492191838041\n",
      "\n",
      "Design point coordinate in U space: \n",
      "[-0.6398897170780924, -0.7048222075811494]\n",
      "\n",
      "Design point coordinate in X space: \n",
      "[1.8005514146095387, 1.4758889620942535]\n"
     ]
    }
   ],
   "source": [
    "print( \"Reliability index: \" )\n",
    "print( beta )\n",
    "print()\n",
    "print( \"Failure probability: \" )\n",
    "print( pf )\n",
    "print()\n",
    "print( \"Design point coordinate in U space: \" )\n",
    "print( uCoord )\n",
    "print()\n",
    "print( \"Design point coordinate in X space: \" )\n",
    "print( xCoord )"
   ]
  },
  {
   "cell_type": "markdown",
   "id": "851bcdf9-c160-407a-9e47-3b39a9c1ba5c",
   "metadata": {},
   "source": [
    "#### Example with automatic differentiation of LSF"
   ]
  },
  {
   "cell_type": "code",
   "execution_count": 10,
   "id": "3584834e-4f1c-4fa7-b5dd-c6b6ed4a60cd",
   "metadata": {},
   "outputs": [],
   "source": [
    "# Define the dimension for the FORM problem\n",
    "dim = 2\n",
    "\n",
    "# Define the limit state function (LSF) g\n",
    "g = lambda X: X[ 0 ] ** 4 + 2 * X[ 1 ] ** 4 - 20\n",
    "\n",
    "# If dg is None, the internal automatic differentiation algorithm will be used\n",
    "dg = None\n",
    "\n",
    "# Marginal distributions and correlation Matrix of the random variables\n",
    "distObjs = [ stats.norm( 5.0, 5.0 ), stats.norm( 5.0, 5.0 ) ]\n",
    "corrMat = np.eye( dim )\n",
    "\n",
    "beta, pf, uCoord, xCoord = tvedtSORM( dim, g, dg, distObjs, corrMat )"
   ]
  },
  {
   "cell_type": "code",
   "execution_count": 11,
   "id": "e126b77a-8cc3-423e-aa3a-a201e1f7f352",
   "metadata": {},
   "outputs": [
    {
     "name": "stdout",
     "output_type": "stream",
     "text": [
      "Reliability index: \n",
      "0.9519628114174661\n",
      "\n",
      "Failure probability: \n",
      "0.03604492191636101\n",
      "\n",
      "Design point coordinate in U space: \n",
      "[-0.6398897170780924, -0.7048222075811494]\n",
      "\n",
      "Design point coordinate in X space: \n",
      "[1.8005514146095387, 1.4758889620942535]\n"
     ]
    }
   ],
   "source": [
    "print( \"Reliability index: \" )\n",
    "print( beta )\n",
    "print()\n",
    "print( \"Failure probability: \" )\n",
    "print( pf )\n",
    "print()\n",
    "print( \"Design point coordinate in U space: \" )\n",
    "print( uCoord )\n",
    "print()\n",
    "print( \"Design point coordinate in X space: \" )\n",
    "print( xCoord )"
   ]
  },
  {
   "cell_type": "markdown",
   "id": "98970ba6-9523-4796-9260-dc966c266b1e",
   "metadata": {},
   "source": [
    "### Hohenbichler and Rackwitz SORM"
   ]
  },
  {
   "cell_type": "markdown",
   "id": "747110cc-edf6-4e13-b3c0-ade727937d6e",
   "metadata": {},
   "source": [
    "Hohenbichler and Rackwitz derived a closed form expression based on a Taylor expansion,\n",
    "\n",
    "$$\n",
    "p_f = \\Phi(-\\beta) \\prod_{i=1}^{n-1}  \\left(1+k_i \\frac{\\phi(\\beta)}{\\Phi(\\beta)} \\right)^{-1/2}\n",
    "$$\n",
    "\n",
    "where $\\Phi(\\cdot)$ is the standard normal Cumulative Distribution Function (CDF); $\\phi(\\cdot)$ is the standard normal Probabilistic Distribution Function (PDF); $\\beta$ is the first order reliability index; $k_i$ is the main curvatures of the limit-state function at design point; The Hohenbichler and Rackwitz's formula also aims at improving the reliability estimate for moderate $\\beta$. It should be noted that the Hohenbichler and Rackwitz's formula is asymptotically equivalent to Breitung’s formula for a large $\\beta$.\n",
    "\n",
    "References:\n",
    "\n",
    "* Hohenbichler, M. and Rackwitz, R., 1988. Improvement of second-order reliability estimates by importance sampling. Journal of Engineering Mechanics, 114(12), pp.2195-2199.\n",
    "* Hu, Z., Mansour, R., Olsson, M. and Du, X., 2021. Second-order reliability methods: a review and comparative study. Structural and Multidisciplinary Optimization, 64(6), pp.3233-3263.\n",
    "* Bourinet, J.M., 2018. Reliability analysis and optimal design under uncertainty-Focus on adaptive surrogate-based approaches (Doctoral dissertation, Université Clermont Auvergne)."
   ]
  },
  {
   "cell_type": "markdown",
   "id": "a388793c-d27f-411c-88af-c0125a04f6e8",
   "metadata": {},
   "source": [
    "#### Function help"
   ]
  },
  {
   "cell_type": "code",
   "execution_count": 12,
   "id": "9831e3bb-e171-4160-8dcd-00d4c0804c99",
   "metadata": {},
   "outputs": [
    {
     "name": "stdout",
     "output_type": "stream",
     "text": [
      "Help on function hrackSORM in module ffpack.rrm.secondOrderReliabilityMethod:\n",
      "\n",
      "hrackSORM(dim, g, dg, distObjs, corrMat, quadDeg=99, quadRange=8, dx=1e-06)\n",
      "    Second order reliability method based on Hohenbichler and Rackwitz algorithm.\n",
      "    \n",
      "    Parameters\n",
      "    ----------\n",
      "    dim: integer\n",
      "        Space dimension ( number of random variables ).\n",
      "    g: function\n",
      "        Limit state function. It will be called like g( [ x1, x2, ... ] ).\n",
      "    dg: array_like of function \n",
      "        Gradient of the limit state function. It should be an array_like of function\n",
      "        like dg = [ dg_dx1, dg_dx2, ... ]. To get the derivative of i-th random \n",
      "        variable at ( x1*, x2*, ... ), dg[ i ]( x1*, x2*, ... ) will be called.\n",
      "        dg can be None, see the following Notes.\n",
      "    distObjs: array_like of distributions\n",
      "        Marginal distribution objects. It should be the freezed distribution \n",
      "        objects with pdf, cdf, ppf. We recommend to use scipy.stats functions.\n",
      "    corrMat: 2d matrix\n",
      "        Correlation matrix of the marginal distributions.\n",
      "    quadDeg: integer\n",
      "        Quadrature degree for Nataf transformation\n",
      "    quadRange: scalar\n",
      "        Quadrature range for Nataf transformation. The integral will be performed \n",
      "        in the range [ -quadRange, quadRange ].\n",
      "    dx : scalar, optional\n",
      "        Spacing for auto differentiation. Not required if dg is provided.\n",
      "    \n",
      "    Returns\n",
      "    -------\n",
      "    beta: scalar\n",
      "        Reliability index.\n",
      "    pf: scalar\n",
      "        Probability of failure.\n",
      "    uCoord: 1d array\n",
      "        Design point coordinate in U space.\n",
      "    xCoord: 1d array\n",
      "        Design point coordinate in X space.\n",
      "    \n",
      "    Raises\n",
      "    ------\n",
      "    ValueError\n",
      "        If the dim is less than 1.\n",
      "        If the dim does not match the disObjs and corrMat.\n",
      "        If corrMat is not 2d matrix.\n",
      "        If corrMat is not positive definite.\n",
      "        If corrMat is not symmetric.\n",
      "        If corrMat diagonal is not 1.\n",
      "    \n",
      "    Notes\n",
      "    -----\n",
      "    If dg is None, the numerical differentiation will be used. The tolerance of the \n",
      "    numerical differentiation can be changed in globalConfig.\n",
      "    \n",
      "    Examples\n",
      "    --------\n",
      "    >>> from ffpack.rrm import tvedtSORM\n",
      "    >>> dim = 2\n",
      "    >>> g = lambda X: -np.sum( X ) + 1\n",
      "    >>> dg = [ lambda X: -1, lambda X: -1 ]\n",
      "    >>> distObjs = [ stats.norm(), stats.norm() ]\n",
      "    >>> corrMat = np.eye( dim )\n",
      "    >>> beta, pf, uCoord, xCoord = hrackSORM( dim, g, dg, distObjs, corrMat )\n",
      "\n"
     ]
    }
   ],
   "source": [
    "from ffpack.rrm import hrackSORM\n",
    "help( hrackSORM )"
   ]
  },
  {
   "cell_type": "markdown",
   "id": "a4787204-c0f5-4aa1-9bf1-c87a4ac16b09",
   "metadata": {},
   "source": [
    "#### Example with explicit derivative of LSF"
   ]
  },
  {
   "cell_type": "code",
   "execution_count": 13,
   "id": "93b6a21e-cbab-4e15-b9d2-deaf4143d259",
   "metadata": {},
   "outputs": [],
   "source": [
    "# Define the dimension for the FORM problem\n",
    "dim = 2\n",
    "\n",
    "# Define the limit state function (LSF) g\n",
    "g = lambda X: X[ 0 ] ** 4 + 2 * X[ 1 ] ** 4 - 20\n",
    "\n",
    "# Explicit derivative of LSF\n",
    "# dg is a list in which each element is a partial derivative function of g w.r.t. X\n",
    "# dg[0] = partial g / partial X[0]\n",
    "# dg[1] = partial g / partial X[1]\n",
    "dg = [ lambda X: 4 * X[ 0 ] ** 3, lambda X: 8 * X[ 1 ] ** 3 ]\n",
    "\n",
    "# Marginal distributions and correlation Matrix of the random variables\n",
    "distObjs = [ stats.norm( 5.0, 5.0 ), stats.norm( 5.0, 5.0 ) ]\n",
    "corrMat = np.eye( dim )\n",
    "\n",
    "beta, pf, uCoord, xCoord = hrackSORM( dim, g, dg, distObjs, corrMat )"
   ]
  },
  {
   "cell_type": "code",
   "execution_count": 14,
   "id": "8c395ce2-fd92-4b73-a896-c85b1e7e4061",
   "metadata": {},
   "outputs": [
    {
     "name": "stdout",
     "output_type": "stream",
     "text": [
      "Reliability index: \n",
      "0.9519628114174661\n",
      "\n",
      "Failure probability: \n",
      "0.09883455895117937\n",
      "\n",
      "Design point coordinate in U space: \n",
      "[-0.6398897170780924, -0.7048222075811494]\n",
      "\n",
      "Design point coordinate in X space: \n",
      "[1.8005514146095387, 1.4758889620942535]\n"
     ]
    }
   ],
   "source": [
    "print( \"Reliability index: \" )\n",
    "print( beta )\n",
    "print()\n",
    "print( \"Failure probability: \" )\n",
    "print( pf )\n",
    "print()\n",
    "print( \"Design point coordinate in U space: \" )\n",
    "print( uCoord )\n",
    "print()\n",
    "print( \"Design point coordinate in X space: \" )\n",
    "print( xCoord )"
   ]
  },
  {
   "cell_type": "markdown",
   "id": "080df049-8ed6-4653-8444-42d71c4cfb26",
   "metadata": {},
   "source": [
    "#### Example with automatic differentiation of LSF"
   ]
  },
  {
   "cell_type": "code",
   "execution_count": 15,
   "id": "8e098062-7ad0-42e2-9e00-e05c6dc12acf",
   "metadata": {},
   "outputs": [],
   "source": [
    "# Define the dimension for the FORM problem\n",
    "dim = 2\n",
    "\n",
    "# Define the limit state function (LSF) g\n",
    "g = lambda X: X[ 0 ] ** 4 + 2 * X[ 1 ] ** 4 - 20\n",
    "\n",
    "# If dg is None, the internal automatic differentiation algorithm will be used\n",
    "dg = None\n",
    "\n",
    "# Marginal distributions and correlation Matrix of the random variables\n",
    "distObjs = [ stats.norm( 5.0, 5.0 ), stats.norm( 5.0, 5.0 ) ]\n",
    "corrMat = np.eye( dim )\n",
    "\n",
    "beta, pf, uCoord, xCoord = hrackSORM( dim, g, dg, distObjs, corrMat )"
   ]
  },
  {
   "cell_type": "code",
   "execution_count": 16,
   "id": "3aedaf7a-50ee-4ce9-8b5a-ba9539d0325b",
   "metadata": {},
   "outputs": [
    {
     "name": "stdout",
     "output_type": "stream",
     "text": [
      "Reliability index: \n",
      "0.9519628114174661\n",
      "\n",
      "Failure probability: \n",
      "0.09883455894748124\n",
      "\n",
      "Design point coordinate in U space: \n",
      "[-0.6398897170780924, -0.7048222075811494]\n",
      "\n",
      "Design point coordinate in X space: \n",
      "[1.8005514146095387, 1.4758889620942535]\n"
     ]
    }
   ],
   "source": [
    "print( \"Reliability index: \" )\n",
    "print( beta )\n",
    "print()\n",
    "print( \"Failure probability: \" )\n",
    "print( pf )\n",
    "print()\n",
    "print( \"Design point coordinate in U space: \" )\n",
    "print( uCoord )\n",
    "print()\n",
    "print( \"Design point coordinate in X space: \" )\n",
    "print( xCoord )"
   ]
  }
 ],
 "metadata": {
  "kernelspec": {
   "display_name": "Python 3 (ipykernel)",
   "language": "python",
   "name": "python3"
  },
  "language_info": {
   "codemirror_mode": {
    "name": "ipython",
    "version": 3
   },
   "file_extension": ".py",
   "mimetype": "text/x-python",
   "name": "python",
   "nbconvert_exporter": "python",
   "pygments_lexer": "ipython3",
   "version": "3.7.9"
  }
 },
 "nbformat": 4,
 "nbformat_minor": 5
}
