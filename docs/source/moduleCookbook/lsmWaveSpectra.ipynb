{
 "cells": [
  {
   "cell_type": "markdown",
   "id": "d378033f-faea-4eb7-9157-9cf7825ec857",
   "metadata": {},
   "source": [
    "## Wave spectra"
   ]
  },
  {
   "cell_type": "code",
   "execution_count": 1,
   "id": "bcaa107e-ba1a-4c03-9272-37db44f208d9",
   "metadata": {},
   "outputs": [],
   "source": [
    "# Import auxiliary libraries for demonstration\n",
    "\n",
    "import matplotlib as mpl\n",
    "import matplotlib.pyplot as plt\n",
    "import numpy as np\n",
    "import warnings\n",
    "\n",
    "plt.rcParams[ \"figure.figsize\" ] = [ 5, 4 ]\n",
    "\n",
    "plt.rcParams[ \"figure.dpi\" ] = 80\n",
    "plt.rcParams[ \"font.family\" ] = \"Times New Roman\"\n",
    "plt.rcParams[ \"font.size\" ] = '14'\n",
    "\n",
    "# Filter the plot warning\n",
    "warnings.filterwarnings( \"ignore\" )"
   ]
  },
  {
   "cell_type": "markdown",
   "id": "a19f5d28-f9f6-4bc3-a692-71e868de801f",
   "metadata": {},
   "source": [
    "### Jonswap Spectrum"
   ]
  },
  {
   "cell_type": "markdown",
   "id": "339376d9-c9a7-47a0-9a9d-b9800668bd2f",
   "metadata": {},
   "source": [
    "The Jonswap spectrum can be expressed,\n",
    "\n",
    "$$\n",
    "S(\\omega) = \\frac{\\alpha g^2}{\\omega^5} \\exp{\\left[ -\\beta \\left( \\frac{\\omega_p}{\\omega} \\right) \\right]} \\gamma^r\n",
    "$$\n",
    "\n",
    "$$\n",
    "r = \\exp{\\left[ -\\frac{(\\omega - \\omega_p)^2}{ 2 \\sigma^2 \\omega_p^2 } \\right]}\n",
    "$$\n",
    "\n",
    "where $\\omega$ is the wave frequency; $\\omega_p$ is the peak frequency; $\\alpha$ is the intensity of the spectrum, default value = 0.0081; $\\beta$ is the shape factor, default value = 1.25; $\\gamma$ is the peak enhancement factor, default value = 3.3; $g$ is the acceleration due to gravity, default value = 9.81.\n",
    "\n",
    "Usually, the input paramters can be determined by the following equation from the JONSWAP experiment,\n",
    "\n",
    "$$\n",
    "\\omega_p = 22 \\left( \\frac{g^2}{U_w F} \\right) ^ {1/3}\n",
    "$$\n",
    "\n",
    "where $U_w$ is the wind speed at 10m above the sea surface; $F$ is the distance from a lee shore.\n",
    "\n",
    "$$\n",
    "\\alpha = 0.076 \\left( \\frac{ U_w^2}{g F} \\right)^{0.22}\n",
    "$$\n",
    "\n",
    "where $\\omega_p$ is the peak frequency; $U_w$ is the wind speed at 10m above the sea surface.\n",
    "\n",
    "$$\n",
    "\\beta = \\frac{5}{4}\n",
    "$$\n",
    "\n",
    "$$\n",
    "\\gamma = 3.3\n",
    "$$\n",
    "\n",
    "Function `jonswapSpectrum` implements the Jonswap sepctrum.\n",
    "\n",
    "Reference: \n",
    "* Hasselmann, K., Barnett, T.P., Bouws, E., Carlson, H., Cartwright, D.E., Enke, K., Ewing, J.A., Gienapp, A., Hasselmann, D.E., Kruseman, P. and Meerburg, A., 1973. Measurements of wind-wave growth and swell decay during the Joint North Sea Wave Project (JONSWAP). Ergaenzungsheft zur Deutschen Hydrographischen Zeitschrift, Reihe A."
   ]
  },
  {
   "cell_type": "markdown",
   "id": "fae4e008-eba9-427b-8bb8-d9d4dbdaaaeb",
   "metadata": {},
   "source": [
    "#### Function help"
   ]
  },
  {
   "cell_type": "code",
   "execution_count": 2,
   "id": "ba6c5cb5-8e99-4735-b791-b10680f41c25",
   "metadata": {},
   "outputs": [
    {
     "name": "stdout",
     "output_type": "stream",
     "text": [
      "Help on function jonswapSpectrum in module ffpack.lsm.waveSpectra:\n",
      "\n",
      "jonswapSpectrum(w, wp, alpha=0.0081, beta=1.25, gamma=3.3, g=9.81)\n",
      "    JONSWAP (Joint North Sea Wave Project) spectrum is an empirical relationship \n",
      "    that defines the distribution of energy with frequency within the ocean.\n",
      "    \n",
      "    Parameters\n",
      "    ----------\n",
      "    w: scalar\n",
      "        Wave frequency.\n",
      "    wp: scalar\n",
      "        Peak wave frequency.\n",
      "    alpha: scalar, optional\n",
      "        Intensity of the Spectra.\n",
      "    beta: scalar, optional\n",
      "        Shape factor, fixed value 1.25.\n",
      "    gamma: scalar, optional\n",
      "        Peak enhancement factor.\n",
      "    g: scalar, optional\n",
      "        Acceleration due to gravity, a constant.\n",
      "        9.81 m/s2 in SI units.\n",
      "    \n",
      "    Returns\n",
      "    -------\n",
      "    rst: scalar\n",
      "        The wave spectrum density value at wave frequency w.\n",
      "    \n",
      "    Raises\n",
      "    ------\n",
      "    ValueError\n",
      "        If w is not a scalar.\n",
      "        If wp is not a scalar.\n",
      "    \n",
      "    Examples\n",
      "    --------\n",
      "    >>> from ffpack.lsm import jonswapSpectrum\n",
      "    >>> w = 0.02\n",
      "    >>> wp = 0.51\n",
      "    >>> rst = jonswapSpectrum( w, wp, alpha=0.0081, beta=1.25, gamma=3.3, g=9.81 )\n",
      "\n"
     ]
    }
   ],
   "source": [
    "from ffpack.lsm import jonswapSpectrum\n",
    "help( jonswapSpectrum )"
   ]
  },
  {
   "cell_type": "markdown",
   "id": "cdca8a6e-7d99-4b8f-bc70-efa0b5ee2f29",
   "metadata": {},
   "source": [
    "#### Example with default values"
   ]
  },
  {
   "cell_type": "code",
   "execution_count": 3,
   "id": "58b46b38-81c1-4e19-81a7-12c294b56e10",
   "metadata": {},
   "outputs": [],
   "source": [
    "jsfRange = np.linspace( 0.0, 1.2, num=121 )"
   ]
  },
  {
   "cell_type": "code",
   "execution_count": 4,
   "id": "da5655aa-7cd6-43cd-ab8e-1183d3f90b48",
   "metadata": {},
   "outputs": [],
   "source": [
    "wp = 0.51\n",
    "jsfResults = [ jonswapSpectrum( w, wp ) for w in jsfRange ]"
   ]
  },
  {
   "cell_type": "code",
   "execution_count": 5,
   "id": "251001fe-4cf1-4e94-8310-204ec74c4093",
   "metadata": {},
   "outputs": [
    {
     "data": {
      "image/png": "[encoded data removed]",
      "text/plain": [
       "<Figure size 400x320 with 1 Axes>"
      ]
     },
     "metadata": {},
     "output_type": "display_data"
    }
   ],
   "source": [
    "fig, ax = plt.subplots()\n",
    "\n",
    "ax.plot( np.array( jsfRange ),\n",
    "         np.array( jsfResults ) )\n",
    "\n",
    "ax.tick_params(axis='x', direction=\"in\", length=5)\n",
    "ax.tick_params(axis='y', direction=\"in\", length=5)\n",
    "ax.set_ylabel( \"$S(\\omega)$\" )\n",
    "ax.set_xlabel( \"$\\omega$\" )\n",
    "ax.set_title( \"Jonswap spectrum\" )\n",
    "\n",
    "plt.tight_layout()\n",
    "plt.show()"
   ]
  },
  {
   "cell_type": "markdown",
   "id": "096b4ec4-ccdf-4cf9-97e9-f306ea795d37",
   "metadata": {},
   "source": [
    "### Pierson Moskowitz Spectrum"
   ]
  },
  {
   "cell_type": "markdown",
   "id": "dbe10f69-efd7-4e02-9d39-4d605e7b1412",
   "metadata": {},
   "source": [
    "The Pierson Moskowitz spectrum can be expressed,\n",
    "\n",
    "$$\n",
    "S(\\omega) = \\frac{\\alpha g^2}{\\omega^5} \\exp{\\left[ -\\beta \\left( \\frac{\\omega_0}{\\omega} \\right) \\right]} \\gamma^r\n",
    "$$\n",
    "\n",
    "where $\\alpha$ is the intensity of the spectrum, default value = 0.0081; $\\beta$ is the shape factor, default value = 0.74.\n",
    "\n",
    "$$\n",
    "\\omega_0 = \\frac{g}{U_w}\n",
    "$$\n",
    "\n",
    "where $g$ is the acceleration due to gravity, default value = 9.81; $U_w$ is the wind speed at 19.5m above the sea surface.\n",
    "\n",
    "Reference: \n",
    "\n",
    "* Pierson Jr, W.J. and Moskowitz, L., 1964. A proposed spectral form for fully developed wind seas based on the similarity theory of SA Kitaigorodskii. Journal of geophysical research, 69(24), pp.5181-5190."
   ]
  },
  {
   "cell_type": "markdown",
   "id": "2c4d7e39-06e1-4158-bb19-a6068d4ff5a5",
   "metadata": {},
   "source": [
    "#### Function help"
   ]
  },
  {
   "cell_type": "code",
   "execution_count": 6,
   "id": "bcc871dd-9795-4246-ba00-80bac59d25f0",
   "metadata": {},
   "outputs": [
    {
     "name": "stdout",
     "output_type": "stream",
     "text": [
      "Help on function piersonMoskowitzSpectrum in module ffpack.lsm.waveSpectra:\n",
      "\n",
      "piersonMoskowitzSpectrum(w, Uw, alpha=0.0081, beta=0.74, g=9.81)\n",
      "    Pierson Moskowitz spectrum is an empirical relationship \n",
      "    that defines the distribution of energy with frequency within the ocean.\n",
      "    \n",
      "    Parameters\n",
      "    ----------\n",
      "    w: scalar\n",
      "        Wave frequency.\n",
      "    Uw: scalar\n",
      "        Wind speed at a height of 19.5m above the sea surface.\n",
      "    alpha: scalar, optional\n",
      "        Intensity of the Spectra.\n",
      "    beta: scalar, optional\n",
      "        Shape factor.\n",
      "    g: scalar, optional\n",
      "        Acceleration due to gravity, a constant.\n",
      "        9.81 m/s2 in SI units.\n",
      "    \n",
      "    Returns\n",
      "    -------\n",
      "    rst: scalar\n",
      "        The wave spectrum density value at wave frequency w.\n",
      "    \n",
      "    Raises\n",
      "    ------\n",
      "    ValueError\n",
      "        If w is not a scalar.\n",
      "        If wp is not a scalar.\n",
      "    \n",
      "    Examples\n",
      "    --------\n",
      "    >>> from ffpack.lsm import piersonMoskowitzSpectrum\n",
      "    >>> w = 0.51\n",
      "    >>> Uw = 20\n",
      "    >>> rst = piersonMoskowitzSpectrum( w, Uw, alpha=0.0081, \n",
      "    ...                                 beta=1.25, g=9.81 )\n",
      "\n"
     ]
    }
   ],
   "source": [
    "from ffpack.lsm import piersonMoskowitzSpectrum\n",
    "help( piersonMoskowitzSpectrum )"
   ]
  },
  {
   "cell_type": "markdown",
   "id": "b4e3bd17-d01e-4b6d-a062-5a287cfce73c",
   "metadata": {},
   "source": [
    "#### Example with default values"
   ]
  },
  {
   "cell_type": "code",
   "execution_count": 7,
   "id": "6d87b0fc-77a1-433a-a298-4421a07eaed4",
   "metadata": {},
   "outputs": [],
   "source": [
    "pmsfRange = np.linspace( 0.0, 1.2, num=121 )"
   ]
  },
  {
   "cell_type": "code",
   "execution_count": 8,
   "id": "850145eb-920b-4ba8-9bbe-207c52a1e6e1",
   "metadata": {},
   "outputs": [],
   "source": [
    "Uw = 20\n",
    "pmsfResults = [ piersonMoskowitzSpectrum( w, Uw ) for w in pmsfRange ]"
   ]
  },
  {
   "cell_type": "code",
   "execution_count": 9,
   "id": "f6372b93-c7ac-4451-95f3-7772fb19b158",
   "metadata": {},
   "outputs": [
    {
     "data": {
      "image/png": "[encoded data removed]",
      "text/plain": [
       "<Figure size 400x320 with 1 Axes>"
      ]
     },
     "metadata": {},
     "output_type": "display_data"
    }
   ],
   "source": [
    "fig, ax = plt.subplots()\n",
    "\n",
    "ax.plot( np.array( pmsfRange ),\n",
    "         np.array( pmsfResults ) )\n",
    "\n",
    "ax.tick_params(axis='x', direction=\"in\", length=5)\n",
    "ax.tick_params(axis='y', direction=\"in\", length=5)\n",
    "ax.set_ylabel( \"$S(\\omega)$\" )\n",
    "ax.set_xlabel( \"$\\omega$\" )\n",
    "ax.set_title( \"Pierson Moskowitz spectrum\" )\n",
    "\n",
    "plt.tight_layout()\n",
    "plt.show()"
   ]
  },
  {
   "cell_type": "markdown",
   "id": "8c137fae",
   "metadata": {},
   "source": [
    "### ISSC spectrum"
   ]
  },
  {
   "cell_type": "markdown",
   "id": "fe4e1325",
   "metadata": {},
   "source": [
    "The ISSC spectrum, also known as Bretschneider or modified Pierson-Moskowitz, can be expressed,\n",
    "\n",
    "$$\n",
    "S(\\omega) = \\frac{5}{16} \\frac{Hs^{2} \\omega_{p}^{4}}{\\omega^5} \\exp{\\left[ -\\frac{5}{4} \\left( \\frac{\\omega_p}{\\omega} \\right)^{4} \\right]}\n",
    "$$\n",
    "\n",
    "where $\\omega$ is the wave frequency; $\\omega_p$ is the peak frequency; $Hs$ is the significant wave height.\n",
    "\n",
    "Function `isscSpectrum` implements the ISSC sepctrum.\n",
    "\n",
    "Reference: \n",
    "\n",
    "* Guidance Notes on Selecting Design Wave by Long Term Stochastic Method"
   ]
  },
  {
   "cell_type": "markdown",
   "id": "af3805ac",
   "metadata": {},
   "source": [
    "#### Function help"
   ]
  },
  {
   "cell_type": "code",
   "execution_count": 10,
   "id": "1ae4f5d3",
   "metadata": {},
   "outputs": [
    {
     "name": "stdout",
     "output_type": "stream",
     "text": [
      "Help on function isscSpectrum in module ffpack.lsm.waveSpectra:\n",
      "\n",
      "isscSpectrum(w, wp, Hs)\n",
      "    ISSC spectrum, also known as Bretschneider or modified Pierson-Moskowitz. \n",
      "    \n",
      "    Parameters\n",
      "    ----------\n",
      "    w: scalar\n",
      "        Wave frequency.\n",
      "    wp: scalar\n",
      "        Peak wave frequency.\n",
      "    Hs: scalar\n",
      "        Significant wave height.\n",
      "    \n",
      "    Returns\n",
      "    -------\n",
      "    rst: scalar\n",
      "        The wave spectrum density value at wave frequency w.\n",
      "    \n",
      "    Raises\n",
      "    ------\n",
      "    ValueError\n",
      "        If w is not a scalar.\n",
      "        If wp is not a scalar.\n",
      "        If Hs is not a scalar.\n",
      "    \n",
      "    Examples\n",
      "    --------\n",
      "    >>> from ffpack.lsm import isscSpectrum\n",
      "    >>> w = 0.02\n",
      "    >>> wp = 0.51\n",
      "    >>> Hs = 20\n",
      "    >>> rst = isscSpectrum( w, wp, Hs )\n",
      "\n"
     ]
    }
   ],
   "source": [
    "from ffpack.lsm import isscSpectrum\n",
    "help( isscSpectrum )"
   ]
  },
  {
   "cell_type": "markdown",
   "id": "3a8abc2d",
   "metadata": {},
   "source": [
    "#### Example with default values"
   ]
  },
  {
   "cell_type": "code",
   "execution_count": 11,
   "id": "adc99e9b",
   "metadata": {},
   "outputs": [],
   "source": [
    "isfRange = np.linspace( 0.0, 1.2, num=121 )"
   ]
  },
  {
   "cell_type": "code",
   "execution_count": 12,
   "id": "3b4219f0",
   "metadata": {},
   "outputs": [],
   "source": [
    "wp = 0.51\n",
    "Hs = 20\n",
    "isfResults = [ isscSpectrum( w, wp, Hs ) for w in isfRange ]"
   ]
  },
  {
   "cell_type": "code",
   "execution_count": 13,
   "id": "0ca77048",
   "metadata": {},
   "outputs": [
    {
     "data": {
      "image/png": "[encoded data removed]",
      "text/plain": [
       "<Figure size 400x320 with 1 Axes>"
      ]
     },
     "metadata": {},
     "output_type": "display_data"
    }
   ],
   "source": [
    "fig, ax = plt.subplots()\n",
    "\n",
    "ax.plot( np.array( isfRange ),\n",
    "         np.array( isfResults ) )\n",
    "\n",
    "ax.tick_params(axis='x', direction=\"in\", length=5)\n",
    "ax.tick_params(axis='y', direction=\"in\", length=5)\n",
    "ax.set_ylabel( \"$S(\\omega)$\" )\n",
    "ax.set_xlabel( \"$\\omega$\" )\n",
    "ax.set_title( \"ISSC spectrum\" )\n",
    "\n",
    "plt.tight_layout()\n",
    "plt.show()"
   ]
  },
  {
   "cell_type": "markdown",
   "id": "2e757a66",
   "metadata": {},
   "source": [
    "### Gaussian Swell spectrum"
   ]
  },
  {
   "cell_type": "markdown",
   "id": "8e13e766",
   "metadata": {},
   "source": [
    "The Gaussian Swell spectrum is typically used to model long period swell sea, and can be expressed,\n",
    "\n",
    "$$\n",
    "S(\\omega) = \\frac{(Hs/4)^{2}}{2\\pi \\delta \\sqrt{2\\pi}} \\exp{\\left[ -\\frac{ (\\omega - \\omega_p) ^{2} }{ 2(2\\pi \\delta)^{2} } \\right]}\n",
    "$$\n",
    "\n",
    "where $\\omega$ is the wave frequency; $\\omega_p$ is the peak frequency; $Hs$ is the significant wave height; $\\delta$ is the peakedness parameter for Gaussian spectral width.\n",
    "\n",
    "Function `gaussianSwellSpectrum` implements the ISSC sepctrum.\n",
    "\n",
    "Reference: \n",
    "\n",
    "* Guidance Notes on Selecting Design Wave by Long Term Stochastic Method"
   ]
  },
  {
   "cell_type": "markdown",
   "id": "3d7fef40",
   "metadata": {},
   "source": [
    "#### Function help"
   ]
  },
  {
   "cell_type": "code",
   "execution_count": 14,
   "id": "0c71c0c0",
   "metadata": {},
   "outputs": [
    {
     "name": "stdout",
     "output_type": "stream",
     "text": [
      "Help on function gaussianSwellSpectrum in module ffpack.lsm.waveSpectra:\n",
      "\n",
      "gaussianSwellSpectrum(w, wp, Hs, sigma)\n",
      "    Gaussian Swell spectrum, typically used to model long period \n",
      "    swell seas [Guidance2016A]_. \n",
      "    \n",
      "    Parameters\n",
      "    ----------\n",
      "    w: scalar\n",
      "        Wave frequency.\n",
      "    wp: scalar\n",
      "        Peak wave frequency.\n",
      "    Hs: scalar\n",
      "        Significant wave height.\n",
      "    sigma: scalar\n",
      "        peakedness parameter for Gaussian spectral width.\n",
      "    \n",
      "    Returns\n",
      "    -------\n",
      "    rst: scalar\n",
      "        The wave spectrum density value at wave frequency w.\n",
      "    \n",
      "    Raises\n",
      "    ------\n",
      "    ValueError\n",
      "        If w is not a scalar.\n",
      "        If wp is not a scalar.\n",
      "        If Hs is not a scalar.\n",
      "        If sigma is not a scalar.\n",
      "    \n",
      "    Examples\n",
      "    --------\n",
      "    >>> from ffpack.lsm import gaussianSwellSpectrum\n",
      "    >>> w = 0.02\n",
      "    >>> wp = 0.51\n",
      "    >>> Hs = 20\n",
      "    >>> sigma = 0.07\n",
      "    >>> rst = gaussianSwellSpectrum( w, wp, Hs, sigma )\n",
      "    \n",
      "    References\n",
      "    ----------\n",
      "    .. [Guidance2016A] Guidance Notes on Selecting Design Wave by Long \n",
      "       Term Stochastic Method\n",
      "\n"
     ]
    }
   ],
   "source": [
    "from ffpack.lsm import gaussianSwellSpectrum\n",
    "help( gaussianSwellSpectrum )"
   ]
  },
  {
   "cell_type": "markdown",
   "id": "0e493c93",
   "metadata": {},
   "source": [
    "#### Example with default values"
   ]
  },
  {
   "cell_type": "code",
   "execution_count": 15,
   "id": "0f871d9d",
   "metadata": {},
   "outputs": [],
   "source": [
    "gsfRange = np.linspace( 0.0, 1.2, num=121 )"
   ]
  },
  {
   "cell_type": "code",
   "execution_count": 16,
   "id": "59ab917e",
   "metadata": {},
   "outputs": [],
   "source": [
    "wp = 0.51\n",
    "Hs = 20\n",
    "sigma = 0.07\n",
    "gsfResults = [ gaussianSwellSpectrum( w, wp, Hs, sigma ) for w in gsfRange ]"
   ]
  },
  {
   "cell_type": "code",
   "execution_count": 17,
   "id": "9505a6d8",
   "metadata": {},
   "outputs": [
    {
     "data": {
      "image/png": "[encoded data removed]",
      "text/plain": [
       "<Figure size 400x320 with 1 Axes>"
      ]
     },
     "metadata": {},
     "output_type": "display_data"
    }
   ],
   "source": [
    "fig, ax = plt.subplots()\n",
    "\n",
    "ax.plot( np.array( gsfRange ),\n",
    "         np.array( gsfResults ) )\n",
    "\n",
    "ax.tick_params(axis='x', direction=\"in\", length=5)\n",
    "ax.tick_params(axis='y', direction=\"in\", length=5)\n",
    "ax.set_ylabel( \"$S(\\omega)$\" )\n",
    "ax.set_xlabel( \"$\\omega$\" )\n",
    "ax.set_title( \"Gaussian Swell spectrum\" )\n",
    "\n",
    "plt.tight_layout()\n",
    "plt.show()"
   ]
  },
  {
   "cell_type": "markdown",
   "id": "9c294588",
   "metadata": {},
   "source": [
    "### Ochi-Hubble spectrum"
   ]
  },
  {
   "cell_type": "markdown",
   "id": "57fe18c8",
   "metadata": {},
   "source": [
    "The Ochi-Hubble 6-Parameter spectrum covers shapes of wave spectra associated with the growth and decay of a storm, including swells, and can be expressed,\n",
    "\n",
    "$$\n",
    "S(\\omega) = \\frac{1}{4} \\sum_{j=1}^{2} \\frac{ \\left(  -\\frac{4\\lambda_j+1}{4} \\omega_{pj}^{4} \\right)^{\\lambda_j}}{\\Gamma(\\lambda_j)} \\frac{H_{sj}^{2}}{\\omega^{4\\lambda_j + 1}} \\exp{\\left[ -\\frac{4\\lambda_j+1}{4} \\left( \\frac{\\omega_p}{\\omega} \\right)^4 \\right]}\n",
    "$$\n",
    "\n",
    "where $j = 1, 2$ stands for lower (swell part) and higher (wind seas part) frequency components; $\\omega$ is the wave frequency; $\\omega_p$ is the peak frequency; the six parameters $H_{s1}, H_{s2}, \\omega_{p1}, \\omega_{p2}, \\lambda_{1}, \\lambda_{2}$ are determined numerically to minimize the\n",
    "difference between theoretical and observed spectra.\n",
    "\n",
    "The modal frequency of the first component, $\\omega_{p1}$, must be less than that of the second, $\\omega_{p2}$. The significant wave height of the first component, $H_{s1}$, should normally be greater than that of the second, $H_{s2}$, since most of the wave energy tends to be associated with the lower frequency component. \n",
    "\n",
    "Function `ochiHubbleSpectrum` implements the Jonswap sepctrum.\n",
    "\n",
    "Reference: \n",
    "\n",
    "* Guidance Notes on Selecting Design Wave by Long Term Stochastic Method\n"
   ]
  },
  {
   "cell_type": "markdown",
   "id": "38f9d5d0",
   "metadata": {},
   "source": [
    "#### Function help"
   ]
  },
  {
   "cell_type": "code",
   "execution_count": 18,
   "id": "abc1f7ac",
   "metadata": {},
   "outputs": [
    {
     "name": "stdout",
     "output_type": "stream",
     "text": [
      "Help on function ochiHubbleSpectrum in module ffpack.lsm.waveSpectra:\n",
      "\n",
      "ochiHubbleSpectrum(w, wp1, wp2, Hs1, Hs2, lambda1, lambda2)\n",
      "    Ochi-Hubble spectrum covers shapes of wave spectra associated with the growth \n",
      "    and decay of a storm, including swells. [Guidance2016B]_. \n",
      "    \n",
      "    Parameters\n",
      "    ----------\n",
      "    w: scalar\n",
      "        Wave frequency.\n",
      "    wp1, wp2: scalar\n",
      "        Peak wave frequency.\n",
      "    Hs1, Hs2: scalar\n",
      "        Significant wave height.\n",
      "    lambda1, lambda2: scalar\n",
      "    \n",
      "    Returns\n",
      "    -------\n",
      "    rst: scalar\n",
      "        The wave spectrum density value at wave frequency w.\n",
      "    \n",
      "    Raises\n",
      "    ------\n",
      "    ValueError\n",
      "        If w is not a scalar.\n",
      "        If wp1 or wp2 is not a scalar.\n",
      "        If Hs1 or Hs2 is not a scalar.\n",
      "        If lambda1 or lambda2 is not a scalar.\n",
      "        If wp1 is not smaller than wp2.\n",
      "    \n",
      "    Notes\n",
      "    -----\n",
      "    Hs1 should normally be greater than Hs2 since most of the wave energy tends to \n",
      "    be associated with the lower frequency component.\n",
      "    \n",
      "    Examples\n",
      "    --------\n",
      "    >>> from ffpack.lsm import ochiHubbleSpectrum\n",
      "    >>> w = 0.02\n",
      "    >>> wp1 = 0.4\n",
      "    >>> wp2 = 0.51\n",
      "    >>> Hs1 = 20\n",
      "    >>> Hs2 = 15\n",
      "    >>> lambda1 = 7\n",
      "    >>> lambda2 = 10\n",
      "    >>> rst = ochiHubbleSpectrum( w, wp1, wp2, Hs1, Hs2, lambda1, lambda2 )\n",
      "    \n",
      "    References\n",
      "    ----------\n",
      "    .. [Guidance2016B] Guidance Notes on Selecting Design Wave by Long \n",
      "       Term Stochastic Method\n",
      "\n"
     ]
    }
   ],
   "source": [
    "from ffpack.lsm import ochiHubbleSpectrum\n",
    "help( ochiHubbleSpectrum )"
   ]
  },
  {
   "cell_type": "markdown",
   "id": "88d6b2e0",
   "metadata": {},
   "source": [
    "#### Example with default values"
   ]
  },
  {
   "cell_type": "code",
   "execution_count": 19,
   "id": "1810e677",
   "metadata": {},
   "outputs": [],
   "source": [
    "ohfRange = np.linspace( 0.0, 1.2, num=121 )"
   ]
  },
  {
   "cell_type": "code",
   "execution_count": 20,
   "id": "631a673d",
   "metadata": {},
   "outputs": [],
   "source": [
    "wp1 = 0.4\n",
    "wp2 = 0.51\n",
    "Hs1 = 20\n",
    "Hs2 = 15\n",
    "lambda1 = 7\n",
    "lambda2 = 10\n",
    "ohfResults = [ ochiHubbleSpectrum( w, wp1, wp2, Hs1, Hs2, lambda1, lambda2 ) \n",
    "               for w in ohfRange ]"
   ]
  },
  {
   "cell_type": "code",
   "execution_count": 21,
   "id": "fc707fdb",
   "metadata": {},
   "outputs": [
    {
     "data": {
      "image/png": "[encoded data removed]",
      "text/plain": [
       "<Figure size 400x320 with 1 Axes>"
      ]
     },
     "metadata": {},
     "output_type": "display_data"
    }
   ],
   "source": [
    "fig, ax = plt.subplots()\n",
    "\n",
    "ax.plot( np.array( ohfRange ),\n",
    "         np.array( ohfResults ) )\n",
    "\n",
    "ax.tick_params(axis='x', direction=\"in\", length=5)\n",
    "ax.tick_params(axis='y', direction=\"in\", length=5)\n",
    "ax.set_ylabel( \"$S(\\omega)$\" )\n",
    "ax.set_xlabel( \"$\\omega$\" )\n",
    "ax.set_title( \"Ochi-Hubble spectrum\" )\n",
    "\n",
    "plt.tight_layout()\n",
    "plt.show()"
   ]
  },
  {
   "cell_type": "markdown",
   "id": "052e0056",
   "metadata": {},
   "source": [
    "### Wave spectra comparison"
   ]
  },
  {
   "cell_type": "markdown",
   "id": "fb7332ed",
   "metadata": {},
   "source": [
    "Note: \n",
    "\n",
    "- the shapes of the spectra are sensitive to the parameters\n",
    "- some parameters are fixed in some spectra, and therefore the parameters should be close to the same case\n",
    "- the curves below are adjusted to be similar by trying the parameters"
   ]
  },
  {
   "cell_type": "code",
   "execution_count": 22,
   "id": "0cb7e261",
   "metadata": {},
   "outputs": [],
   "source": [
    "waRange = np.linspace( 0.0, 1.2, num=121 )"
   ]
  },
  {
   "cell_type": "code",
   "execution_count": 23,
   "id": "a8fcaab8",
   "metadata": {},
   "outputs": [],
   "source": [
    "wp = 0.51\n",
    "jsfResults = [ jonswapSpectrum( w, wp, alpha=0.0081, beta=1.25, gamma=3.3, g=9.81 ) \n",
    "               for w in waRange ]"
   ]
  },
  {
   "cell_type": "code",
   "execution_count": 24,
   "id": "7dfbce76",
   "metadata": {},
   "outputs": [],
   "source": [
    "Uw = 25\n",
    "pmsfResults = [ piersonMoskowitzSpectrum( w, Uw, alpha=0.0081, beta=1.25, g=9.81 ) \n",
    "                for w in waRange ]"
   ]
  },
  {
   "cell_type": "code",
   "execution_count": 25,
   "id": "8036d92f",
   "metadata": {},
   "outputs": [],
   "source": [
    "wp = 0.51\n",
    "Hs = 12\n",
    "isfResults = [ isscSpectrum( w, wp, Hs ) for w in waRange ]"
   ]
  },
  {
   "cell_type": "code",
   "execution_count": 26,
   "id": "27e7289f",
   "metadata": {},
   "outputs": [],
   "source": [
    "wp = 0.51\n",
    "Hs = 12\n",
    "sigma = 0.025\n",
    "gsfResults = [ gaussianSwellSpectrum( w, wp, Hs, sigma ) for w in waRange ]"
   ]
  },
  {
   "cell_type": "code",
   "execution_count": 27,
   "id": "ba1f685a",
   "metadata": {},
   "outputs": [
    {
     "data": {
      "image/png": "[encoded data removed]",
      "text/plain": [
       "<Figure size 800x320 with 1 Axes>"
      ]
     },
     "metadata": {},
     "output_type": "display_data"
    }
   ],
   "source": [
    "fig, ax = plt.subplots( figsize=(10, 4) )\n",
    "\n",
    "ax.plot( np.array( jsfRange ),\n",
    "         np.array( jsfResults ),\n",
    "         label=\"Jonswap spectrum\" )\n",
    "ax.plot( np.array( pmsfRange ),\n",
    "         np.array( pmsfResults ),\n",
    "         label=\"Pierson Moskowitz spectrum\" )\n",
    "ax.plot( np.array( isfRange ),\n",
    "         np.array( isfResults ),\n",
    "         label=\"ISSC spectrum\" )\n",
    "ax.plot( np.array( gsfRange ),\n",
    "         np.array( gsfResults ),\n",
    "         label=\"Gaussian Swell spectrum\" )\n",
    "\n",
    "ax.tick_params(axis='x', direction=\"in\", length=5)\n",
    "ax.tick_params(axis='y', direction=\"in\", length=5)\n",
    "ax.set_ylabel( \"$S(\\omega)$\" )\n",
    "ax.set_xlabel( \"$\\omega$\" )\n",
    "ax.set_title( \"Wave spectra\" )\n",
    "\n",
    "ax.legend(loc='center left', bbox_to_anchor=(1, 0.5))\n",
    "\n",
    "plt.tight_layout()\n",
    "plt.show()"
   ]
  }
 ],
 "metadata": {
  "kernelspec": {
   "display_name": "Python 3 (ipykernel)",
   "language": "python",
   "name": "python3"
  },
  "language_info": {
   "codemirror_mode": {
    "name": "ipython",
    "version": 3
   },
   "file_extension": ".py",
   "mimetype": "text/x-python",
   "name": "python",
   "nbconvert_exporter": "python",
   "pygments_lexer": "ipython3",
   "version": "3.9.13"
  }
 },
 "nbformat": 4,
 "nbformat_minor": 5
}
