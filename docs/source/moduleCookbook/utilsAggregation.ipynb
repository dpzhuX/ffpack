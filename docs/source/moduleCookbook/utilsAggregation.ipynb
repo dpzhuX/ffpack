{
 "cells": [
  {
   "cell_type": "markdown",
   "id": "61cd332f-9db2-4069-973b-506d341b99d1",
   "metadata": {},
   "source": [
    "## Aggregation"
   ]
  },
  {
   "cell_type": "code",
   "execution_count": 1,
   "id": "7a7ae508",
   "metadata": {},
   "outputs": [],
   "source": [
    "# Import auxiliary libraries for demonstration\n",
    "\n",
    "import matplotlib as mpl\n",
    "import matplotlib.pyplot as plt\n",
    "import numpy as np\n",
    "\n",
    "plt.rcParams[ \"figure.figsize\" ] = [ 5, 4 ]\n",
    "plt.style.use( \"default\" )\n",
    "\n",
    "plt.rcParams[ \"figure.dpi\" ] = 80\n",
    "plt.rcParams[ \"font.family\" ] = \"Times New Roman\"\n",
    "plt.rcParams[ \"font.size\" ] = '14'"
   ]
  },
  {
   "cell_type": "markdown",
   "id": "5bf9c12a",
   "metadata": {},
   "source": [
    "### Cycle counting aggregation"
   ]
  },
  {
   "cell_type": "markdown",
   "id": "eceb7429-68f6-420d-8dbf-d9e276b451a3",
   "metadata": {},
   "source": [
    "After the cycle counting, we usually obtain a 2D matrix with the format: `[ [ value, count ],[ value, count ], ... ]`. However, the counting results are very noisy if no preprocessing procedure is applied to the load sequence. For example, we might count two cycles with a range of 0.96, a half cycle with a range of 0.98, etc. Then, the resutls will be `[ [ 0.96, 2 ],[ 0.98, 0.5 ], ... ]`. We expected the counting results to be aggregated as `[ [ 1, 2.5 ], ... ]`. This function can aggregate based on the bin size and generate the cleaned counting results."
   ]
  },
  {
   "cell_type": "markdown",
   "id": "354e1e8f-f868-4481-8ae4-ff4c78df5c78",
   "metadata": {},
   "source": [
    "#### Function help"
   ]
  },
  {
   "cell_type": "code",
   "execution_count": 2,
   "id": "418924a1-e69e-41df-8921-c2836eb83025",
   "metadata": {},
   "outputs": [
    {
     "name": "stdout",
     "output_type": "stream",
     "text": [
      "Help on function cycleCountingAggregation in module ffpack.utils.lccUtils:\n",
      "\n",
      "cycleCountingAggregation(data, binSize=1.0)\n",
      "    Count the number of occurrences of each cycle digitized to the nearest bin.\n",
      "    \n",
      "    Parameters\n",
      "    ----------\n",
      "    data: 2d array\n",
      "        Input cycle counting data [ [ value, count ], ... ] for bin collection \n",
      "    \n",
      "    binSize: scalar, optional\n",
      "        bin size is the difference between each level, \n",
      "        for example, binSize=1.0, the levels will be 0.0, 1.0, 2.0, 3.0 ...\n",
      "    \n",
      "    Returns\n",
      "    -------\n",
      "    rst: 2d array\n",
      "        Aggregated [ [ aggregatedValue, count ] ] by the binSize\n",
      "    \n",
      "    \n",
      "    Raises\n",
      "    ------\n",
      "    ValueError\n",
      "        If the data dimension is not 2.\n",
      "        If the data is empty\n",
      "    \n",
      "    Notes\n",
      "    -----\n",
      "    When a value is in the middle, it will be counted downward\n",
      "    for example, 0.5 when binSize=1.0, the count will be counted to 0.0 \n",
      "    \n",
      "    Examples\n",
      "    --------\n",
      "    >>> from ffpack.utils import cycleCountingAggregation\n",
      "    >>> data = [ [ 1.7, 2.0 ], [ 2.2, 2.0 ] ]\n",
      "    >>> rst = cycleCountingAggregation( data )\n",
      "\n"
     ]
    }
   ],
   "source": [
    "from ffpack.utils import cycleCountingAggregation\n",
    "help( cycleCountingAggregation )"
   ]
  },
  {
   "cell_type": "markdown",
   "id": "2e691ae0-54ad-4b05-984b-42cce7f5ba58",
   "metadata": {},
   "source": [
    "#### Example with default values"
   ]
  },
  {
   "cell_type": "code",
   "execution_count": 3,
   "id": "16e4d04e-49b9-4219-9324-98259a462209",
   "metadata": {},
   "outputs": [],
   "source": [
    "ccaLccData = [ [ 1.7, 2.0 ], [ 2.2, 2.0 ] ]\n",
    "ccaResults = cycleCountingAggregation( ccaLccData )"
   ]
  },
  {
   "cell_type": "code",
   "execution_count": 4,
   "id": "830a35e2-6a92-410b-984a-6a95828226f4",
   "metadata": {},
   "outputs": [
    {
     "name": "stdout",
     "output_type": "stream",
     "text": [
      "[[2.0, 4.0]]\n"
     ]
    }
   ],
   "source": [
    "print( ccaResults )"
   ]
  }
 ],
 "metadata": {
  "kernelspec": {
   "display_name": "Python 3 (ipykernel)",
   "language": "python",
   "name": "python3"
  },
  "language_info": {
   "codemirror_mode": {
    "name": "ipython",
    "version": 3
   },
   "file_extension": ".py",
   "mimetype": "text/x-python",
   "name": "python",
   "nbconvert_exporter": "python",
   "pygments_lexer": "ipython3",
   "version": "3.9.13"
  }
 },
 "nbformat": 4,
 "nbformat_minor": 5
}
