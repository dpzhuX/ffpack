{
 "cells": [
  {
   "cell_type": "markdown",
   "id": "7b56aa51",
   "metadata": {},
   "source": [
    "## Sequence spectra"
   ]
  },
  {
   "cell_type": "code",
   "execution_count": 1,
   "id": "bcaa107e-ba1a-4c03-9272-37db44f208d9",
   "metadata": {},
   "outputs": [],
   "source": [
    "# Import auxiliary libraries for demonstration\n",
    "\n",
    "import matplotlib as mpl\n",
    "import matplotlib.pyplot as plt\n",
    "import numpy as np\n",
    "import warnings\n",
    "\n",
    "plt.rcParams[ \"figure.figsize\" ] = [ 5, 4 ]\n",
    "\n",
    "plt.rcParams[ \"figure.dpi\" ] = 80\n",
    "plt.rcParams[ \"font.family\" ] = \"Times New Roman\"\n",
    "plt.rcParams[ \"font.size\" ] = '14'\n",
    "\n",
    "# Filter the plot warning\n",
    "warnings.filterwarnings( \"ignore\" )\n",
    "\n",
    "# Numpy random seed\n",
    "np.random.seed(0)"
   ]
  },
  {
   "cell_type": "markdown",
   "id": "fe33aab0",
   "metadata": {},
   "source": [
    "###  Periodogram spectrum"
   ]
  },
  {
   "cell_type": "markdown",
   "id": "8b58cdb9",
   "metadata": {},
   "source": [
    "Function `periodogramSpectrum` transforms the sequence data to its power spectral density with the `scipy.signal.periodogram`."
   ]
  },
  {
   "cell_type": "markdown",
   "id": "3beb7b10",
   "metadata": {},
   "source": [
    "#### Function help"
   ]
  },
  {
   "cell_type": "code",
   "execution_count": 2,
   "id": "7f2149d2",
   "metadata": {},
   "outputs": [
    {
     "name": "stdout",
     "output_type": "stream",
     "text": [
      "Help on function periodogramSpectrum in module ffpack.lsm.sequenceSpectra:\n",
      "\n",
      "periodogramSpectrum(data, fs)\n",
      "    Power spectral density with `scipy.signal.periodogram`.\n",
      "    \n",
      "    Parameters\n",
      "    ----------\n",
      "    data: 1darray\n",
      "        Sequence to calculate power spectral density.\n",
      "    fs: scalar\n",
      "        Sampling frequency.\n",
      "    \n",
      "    Returns\n",
      "    -------\n",
      "    freq: 1darray\n",
      "        frequency components.\n",
      "    psd: 1darray\n",
      "        Power spectral density. \n",
      "    \n",
      "    Raises\n",
      "    ------\n",
      "    ValueError\n",
      "        If data is not a 1darray.\n",
      "        If fs is not a scalar.\n",
      "    \n",
      "    Examples\n",
      "    --------\n",
      "    >>> from ffpack.lsm import periodogramSpectrum\n",
      "    >>> data = [ 2, 5, 3, 6, 2, 4, 1, 6, 1, 3, 1, 5, 3, 6, 3, 6, 4, 5, 2 ]\n",
      "    >>> fs = 2\n",
      "    >>> freq, psd = periodogramSpectrum( data, fs )\n",
      "\n"
     ]
    }
   ],
   "source": [
    "from ffpack.lsm import periodogramSpectrum\n",
    "help( periodogramSpectrum )"
   ]
  },
  {
   "cell_type": "markdown",
   "id": "2177566c",
   "metadata": {},
   "source": [
    "#### Example with generated data"
   ]
  },
  {
   "cell_type": "code",
   "execution_count": 3,
   "id": "2dd415af",
   "metadata": {},
   "outputs": [],
   "source": [
    "gfs = 1000  # 1kHz sampling frequency\n",
    "fs1 = 10    # first signal component at 10 Hz\n",
    "fs2 = 60    # second signal component at 60 Hz\n",
    "T = 10      # 10s signal length\n",
    "n0 = -10    # noise level (dB)"
   ]
  },
  {
   "cell_type": "code",
   "execution_count": 4,
   "id": "053fa23d",
   "metadata": {},
   "outputs": [],
   "source": [
    "t = np.r_[ 0: T: ( 1 / gfs ) ]  # sample time\n",
    "gdata = np.sin( 2 * fs1 * np.pi * t ) + np.sin( 2 * fs2 * np.pi * t ) \n",
    "\n",
    "# white noise with power n0\n",
    "gdata += np.random.randn( len( gdata ) ) * 10**( n0 / 20.0 ) "
   ]
  },
  {
   "cell_type": "code",
   "execution_count": 5,
   "id": "446b4b73",
   "metadata": {},
   "outputs": [],
   "source": [
    "gfreq, gpsd = periodogramSpectrum( gdata, gfs )"
   ]
  },
  {
   "cell_type": "code",
   "execution_count": 6,
   "id": "23caf0d9",
   "metadata": {},
   "outputs": [
    {
     "name": "stdout",
     "output_type": "stream",
     "text": [
      "[10.0, 60.0]\n"
     ]
    }
   ],
   "source": [
    "ind = np.argpartition( gpsd, -2 )[ -2: ]\n",
    "peak1 = min( gfreq[ ind ] )\n",
    "peak2 = max( gfreq[ ind ] )\n",
    "print( [ peak1, peak2 ] )"
   ]
  },
  {
   "cell_type": "code",
   "execution_count": 7,
   "id": "6ca5a6f6",
   "metadata": {},
   "outputs": [
    {
     "data": {
      "image/png": "[encoded data removed]",
      "text/plain": [
       "<Figure size 400x320 with 1 Axes>"
      ]
     },
     "metadata": {},
     "output_type": "display_data"
    }
   ],
   "source": [
    "fig, ax = plt.subplots()\n",
    "plt.yscale(\"log\")\n",
    "\n",
    "ax.semilogy( np.array( gfreq ),\n",
    "             np.array( gpsd ) )\n",
    "\n",
    "ax.tick_params(axis='x', direction=\"in\", length=5)\n",
    "ax.tick_params(axis='y', direction=\"in\", length=5)\n",
    "ax.tick_params(axis='x', direction=\"in\", length=3, which='minor')\n",
    "ax.tick_params(axis='y', direction=\"in\", length=3, which='minor')\n",
    "\n",
    "ax.set_ylim( [ 1e-7, 1e2 ] )\n",
    "ax.set_xlim( [ 0, 100 ] )\n",
    "\n",
    "ax.set_xlabel( \"Frequency [Hz]\" )\n",
    "ax.set_ylabel( \"PSD [V**2/Hz]\" )\n",
    "ax.set_title( \"Periodogram Spectrum\" )\n",
    "\n",
    "plt.tight_layout()\n",
    "plt.show()"
   ]
  },
  {
   "cell_type": "markdown",
   "id": "d8859659",
   "metadata": {},
   "source": [
    "###  Welch spectrum"
   ]
  },
  {
   "cell_type": "markdown",
   "id": "5a08caf4",
   "metadata": {},
   "source": [
    "Function `welchSpectrum` transforms the sequence data to its power spectral density with the `scipy.signal.welch`."
   ]
  },
  {
   "cell_type": "markdown",
   "id": "af700176",
   "metadata": {},
   "source": [
    "#### Function help"
   ]
  },
  {
   "cell_type": "code",
   "execution_count": 8,
   "id": "f81fba33",
   "metadata": {},
   "outputs": [
    {
     "name": "stdout",
     "output_type": "stream",
     "text": [
      "Help on function welchSpectrum in module ffpack.lsm.sequenceSpectra:\n",
      "\n",
      "welchSpectrum(data, fs, nperseg=1024)\n",
      "    Power spectral density with `scipy.signal.welch`.\n",
      "    \n",
      "    Parameters\n",
      "    ----------\n",
      "    data: 1darray\n",
      "        Sequence to calculate power spectral density.\n",
      "    fs: scalar\n",
      "        Sampling frequency.\n",
      "    nperseg: scalar\n",
      "        Length of each segment. Defaults to 1024.\n",
      "    \n",
      "    Returns\n",
      "    -------\n",
      "    freq: 1darray\n",
      "        frequency components.\n",
      "    psd: 1darray\n",
      "        Power spectral density. \n",
      "    \n",
      "    Raises\n",
      "    ------\n",
      "    ValueError\n",
      "        If data is not a 1darray.\n",
      "        If fs is not a scalar.\n",
      "    \n",
      "    Examples\n",
      "    --------\n",
      "    >>> from ffpack.lsm import welchSpectrum\n",
      "    >>> data = [ 2, 5, 3, 6, 2, 4, 1, 6, 1, 3, 1, 5, 3, 6, 3, 6, 4, 5, 2 ]\n",
      "    >>> fs = 2\n",
      "    >>> freq, psd = welchSpectrum( data, fs, nperseg=1024 )\n",
      "\n"
     ]
    }
   ],
   "source": [
    "from ffpack.lsm import welchSpectrum\n",
    "help( welchSpectrum )"
   ]
  },
  {
   "cell_type": "markdown",
   "id": "9f9137c1",
   "metadata": {},
   "source": [
    "#### Example with default values"
   ]
  },
  {
   "cell_type": "code",
   "execution_count": 9,
   "id": "94344f48",
   "metadata": {},
   "outputs": [],
   "source": [
    "gfs = 1000  # 1kHz sampling frequency\n",
    "fs1 = 10    # first signal component at 10 Hz\n",
    "fs2 = 60    # second signal component at 60 Hz\n",
    "T = 10      # 10s signal length\n",
    "n0 = -10    # noise level (dB)"
   ]
  },
  {
   "cell_type": "code",
   "execution_count": 10,
   "id": "ee829625",
   "metadata": {},
   "outputs": [],
   "source": [
    "t = np.r_[ 0: T: ( 1 / gfs ) ]  # sample time\n",
    "gdata = np.sin( 2 * fs1 * np.pi * t ) + np.sin( 2 * fs2 * np.pi * t ) \n",
    "\n",
    "# white noise with power n0\n",
    "gdata += np.random.randn( len( gdata ) ) * 10**( n0 / 20.0 ) "
   ]
  },
  {
   "cell_type": "code",
   "execution_count": 11,
   "id": "47ab10ec",
   "metadata": {},
   "outputs": [],
   "source": [
    "gfreq, gpsd = welchSpectrum( gdata, gfs )"
   ]
  },
  {
   "cell_type": "code",
   "execution_count": 12,
   "id": "22959bf8",
   "metadata": {},
   "outputs": [
    {
     "name": "stdout",
     "output_type": "stream",
     "text": [
      "[9.765625, 59.5703125]\n"
     ]
    }
   ],
   "source": [
    "ind = np.argpartition( gpsd, -2 )[ -2: ]\n",
    "peak1 = min( gfreq[ ind ] )\n",
    "peak2 = max( gfreq[ ind ] )\n",
    "print( [ peak1, peak2 ] )"
   ]
  },
  {
   "cell_type": "code",
   "execution_count": 13,
   "id": "be53faa4",
   "metadata": {},
   "outputs": [
    {
     "data": {
      "image/png": "[encoded data removed]",
      "text/plain": [
       "<Figure size 400x320 with 1 Axes>"
      ]
     },
     "metadata": {},
     "output_type": "display_data"
    }
   ],
   "source": [
    "fig, ax = plt.subplots()\n",
    "plt.yscale(\"log\")\n",
    "\n",
    "ax.semilogy( np.array( gfreq ),\n",
    "             np.array( gpsd ) )\n",
    "\n",
    "ax.tick_params(axis='x', direction=\"in\", length=5)\n",
    "ax.tick_params(axis='y', direction=\"in\", length=5)\n",
    "ax.tick_params(axis='x', direction=\"in\", length=3, which='minor')\n",
    "ax.tick_params(axis='y', direction=\"in\", length=3, which='minor')\n",
    "\n",
    "ax.set_ylim( [ 1e-7, 1e2 ] )\n",
    "ax.set_xlim( [ 0, 100 ] )\n",
    "\n",
    "ax.set_xlabel( \"Frequency [Hz]\" )\n",
    "ax.set_ylabel( \"PSD [V**2/Hz]\" )\n",
    "ax.set_title( \" Welch Spectrum\" )\n",
    "\n",
    "plt.tight_layout()\n",
    "plt.show()"
   ]
  }
 ],
 "metadata": {
  "kernelspec": {
   "display_name": "Python 3 (ipykernel)",
   "language": "python",
   "name": "python3"
  },
  "language_info": {
   "codemirror_mode": {
    "name": "ipython",
    "version": 3
   },
   "file_extension": ".py",
   "mimetype": "text/x-python",
   "name": "python",
   "nbconvert_exporter": "python",
   "pygments_lexer": "ipython3",
   "version": "3.9.13"
  }
 },
 "nbformat": 4,
 "nbformat_minor": 5
}
