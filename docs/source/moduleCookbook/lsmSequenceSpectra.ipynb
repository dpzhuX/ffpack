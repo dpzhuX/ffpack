{
 "cells": [
  {
   "cell_type": "markdown",
   "id": "7b56aa51",
   "metadata": {},
   "source": [
    "## Sequence spectra"
   ]
  },
  {
   "cell_type": "code",
   "execution_count": 1,
   "id": "bcaa107e-ba1a-4c03-9272-37db44f208d9",
   "metadata": {},
   "outputs": [],
   "source": [
    "# Import auxiliary libraries for demonstration\n",
    "\n",
    "import matplotlib as mpl\n",
    "import matplotlib.pyplot as plt\n",
    "import numpy as np\n",
    "import warnings\n",
    "\n",
    "plt.rcParams[ \"figure.figsize\" ] = [ 5, 4 ]\n",
    "\n",
    "plt.rcParams[ \"figure.dpi\" ] = 80\n",
    "plt.rcParams[ \"font.family\" ] = \"Times New Roman\"\n",
    "plt.rcParams[ \"font.size\" ] = '14'\n",
    "\n",
    "# Filter the plot warning\n",
    "warnings.filterwarnings( \"ignore\" )\n",
    "\n",
    "# Numpy random seed\n",
    "np.random.seed(0)"
   ]
  },
  {
   "cell_type": "markdown",
   "id": "fe33aab0",
   "metadata": {},
   "source": [
    "###  Sequence spectra with periodogram"
   ]
  },
  {
   "cell_type": "markdown",
   "id": "c0073db0",
   "metadata": {},
   "source": [
    "Function `periodogramSpectrum` transforms the sequence data to its power spectral density with the `scipy.signal.periodogram`."
   ]
  },
  {
   "cell_type": "markdown",
   "id": "3beb7b10",
   "metadata": {},
   "source": [
    "#### Function help"
   ]
  },
  {
   "cell_type": "code",
   "execution_count": 2,
   "id": "7f2149d2",
   "metadata": {},
   "outputs": [
    {
     "name": "stdout",
     "output_type": "stream",
     "text": [
      "Help on function periodogramSpectrum in module ffpack.lsm.sequenceSpectra:\n",
      "\n",
      "periodogramSpectrum(data, fs)\n",
      "    Power spectral density with `scipy.signal.periodogram`.\n",
      "    \n",
      "    Parameters\n",
      "    ----------\n",
      "    data: 1darray\n",
      "        Sequence to calculate power spectral density.\n",
      "    fs: scalar\n",
      "        Sampling frequency.\n",
      "    \n",
      "    Returns\n",
      "    -------\n",
      "    freq: 1darray\n",
      "        frequency components.\n",
      "    psd: 1darray\n",
      "        Power spectral density. \n",
      "    \n",
      "    Raises\n",
      "    ------\n",
      "    ValueError\n",
      "        If data is not a 1darray.\n",
      "        If fs is not a scalar.\n",
      "    \n",
      "    Examples\n",
      "    --------\n",
      "    >>> from ffpack.lsm import periodogramSpectrum\n",
      "    >>> data = [ 2, 5, 3, 6, 2, 4, 1, 6, 1, 3, 1, 5, 3, 6, 3, 6, 4, 5, 2 ]\n",
      "    >>> fs = 2\n",
      "    >>> freq, psd = periodogramSpectrum( data, fs )\n",
      "\n"
     ]
    }
   ],
   "source": [
    "from ffpack.lsm import periodogramSpectrum\n",
    "help( periodogramSpectrum )"
   ]
  },
  {
   "cell_type": "markdown",
   "id": "43b50de3",
   "metadata": {},
   "source": [
    "#### Example with generated data"
   ]
  },
  {
   "cell_type": "code",
   "execution_count": 3,
   "id": "d5ec84d8",
   "metadata": {},
   "outputs": [],
   "source": [
    "gfs = 1000  # 1kHz sampling frequency\n",
    "fs1 = 10    # first signal component at 10 Hz\n",
    "fs2 = 60    # second signal component at 60 Hz\n",
    "T = 10      # 10s signal length\n",
    "n0 = -10    # noise level (dB)"
   ]
  },
  {
   "cell_type": "code",
   "execution_count": 4,
   "id": "5a41f7a8",
   "metadata": {},
   "outputs": [],
   "source": [
    "t = np.r_[ 0: T: ( 1 / gfs ) ]  # sample time\n",
    "gdata = np.sin( 2 * fs1 * np.pi * t ) + np.sin( 2 * fs2 * np.pi * t ) \n",
    "\n",
    "# white noise with power n0\n",
    "gdata += np.random.randn( len( gdata ) ) * 10**( n0 / 20.0 ) "
   ]
  },
  {
   "cell_type": "code",
   "execution_count": 5,
   "id": "ffa1bb25",
   "metadata": {},
   "outputs": [],
   "source": [
    "gfreq, gpsd = periodogramSpectrum( gdata, gfs )"
   ]
  },
  {
   "cell_type": "code",
   "execution_count": 6,
   "id": "263654d4",
   "metadata": {},
   "outputs": [
    {
     "data": {
      "image/png": "[encoded data removed]",
      "text/plain": [
       "<Figure size 400x320 with 1 Axes>"
      ]
     },
     "metadata": {},
     "output_type": "display_data"
    }
   ],
   "source": [
    "fig, ax = plt.subplots()\n",
    "plt.yscale(\"log\")\n",
    "\n",
    "ax.semilogy( np.array( gfreq ),\n",
    "             np.array( gpsd ) )\n",
    "\n",
    "ax.tick_params(axis='x', direction=\"in\", length=5)\n",
    "ax.tick_params(axis='y', direction=\"in\", length=5)\n",
    "ax.tick_params(axis='x', direction=\"in\", length=3, which='minor')\n",
    "ax.tick_params(axis='y', direction=\"in\", length=3, which='minor')\n",
    "\n",
    "ax.set_ylim( [ 1e-7, 1e2 ] )\n",
    "ax.set_xlim( [ 0, 100 ] )\n",
    "\n",
    "ax.set_xlabel( \"Frequency [Hz]\" )\n",
    "ax.set_ylabel( \"PSD [V**2/Hz]\" )\n",
    "ax.set_title( \"Periodogram Spectrum\" )\n",
    "\n",
    "plt.tight_layout()\n",
    "plt.show()"
   ]
  },
  {
   "cell_type": "markdown",
   "id": "d8859659",
   "metadata": {},
   "source": [
    "###  Davenport Spectrum with Roughness Length"
   ]
  },
  {
   "cell_type": "markdown",
   "id": "5a08caf4",
   "metadata": {},
   "source": [
    "The Davenport spectrum in the paper by Hiriart et al. can be expressed,\n",
    "\n",
    "$$\n",
    "\\frac{nS(n)}{u_{f}^{2}} = 4.0 \\frac{x^{2}}{(1 + x^{2})^{4/3}}\n",
    "$$\n",
    "\n",
    "$$\n",
    "x = \\frac{1200n}{u_{f}}\n",
    "$$\n",
    "\n",
    "where $S(n)$ is the power spectrum density ( $m^2 s^{-2} Hz^{-1}$ ); $n$ is the frequency; $u_{f}$ is the friction velocity ( $m/s$ ); $u_{z}$ is the mean wind speed ( $m/s$ ) measured at height $z$; $z$ is the height above the ground, default value = 10 $m$; $z_{0}$ is the roughness length, default value = 0.03 $m$ corresponding to open exposure case in NIST database. \n",
    "\n",
    "The friction velocity $u_{f}$ is calculated as\n",
    "$$\n",
    "u_{f} = \\frac{ku_{z}}{ln(z/z_{0})}\n",
    "$$\n",
    "where $k$ is the von Karman's constant and $k=0.4$.\n",
    "\n",
    "The normalized power spectrum density is defined as\n",
    "$$\n",
    "\\frac{nS(n)}{u_{f}^{2}}\n",
    "$$\n",
    "\n",
    "The normalized frequency is expressed as\n",
    "$$\n",
    "\\frac{nz}{u_{f}}\n",
    "$$\n",
    "\n",
    "Function `davenportSpectrumWithRoughnessLength` implements the Davenport spectrum in the paper by Hiriart et al.\n",
    "\n",
    "Reference: \n",
    "\n",
    "* Hiriart, D., Ochoa, J. L., & Garcia, B. (2001). Wind power spectrum measured at the San Pedro Mártir Sierra. Revista Mexicana de Astronomia y Astrofisica, 37(2), 213-220.\n",
    "* Ho, T. C. E., Surry, D., & Morrish, D. P. (2003). NIST/TTU cooperative agreement-windstorm mitigation initiative: Wind tunnel experiments on generic low buildings. London, Canada: BLWTSS20-2003, Boundary-Layer Wind Tunnel Laboratory, Univ. of Western Ontario."
   ]
  },
  {
   "cell_type": "markdown",
   "id": "af700176",
   "metadata": {},
   "source": [
    "#### Function help"
   ]
  },
  {
   "cell_type": "code",
   "execution_count": 7,
   "id": "f81fba33",
   "metadata": {},
   "outputs": [
    {
     "name": "stdout",
     "output_type": "stream",
     "text": [
      "Help on function davenportSpectrumWithRoughnessLength in module ffpack.lsm.windSpectra:\n",
      "\n",
      "davenportSpectrumWithRoughnessLength(n, uz, z=10, z0=0.03, normalized=True)\n",
      "    Davenport spectrum in the paper by Hiriart et al. [Hiriart2001]_.\n",
      "    \n",
      "    Parameters\n",
      "    ----------\n",
      "    n: scalar\n",
      "        Frequency ( Hz ) when normalized=False.\n",
      "        Normalized frequency when normalized=True.\n",
      "    uz: scalar\n",
      "        Mean wind speed ( m/s ) measured at height z.\n",
      "    z: scalar, optional\n",
      "        Height above the ground ( m ), default to 10 m. \n",
      "    z0: scalar, optional\n",
      "        Roughness length ( m ), default to 0.03 m corresponding to open \n",
      "        exposure case in [Ho2003]_.\n",
      "    normalized: bool, optional\n",
      "        If normalized is set to False, the power spectrum density will be returned.\n",
      "    \n",
      "    Returns\n",
      "    -------\n",
      "    rst: scalar\n",
      "        Power spectrum density ( m^2 s^-2 Hz^-1 ) when normalized=False.\n",
      "        Normalized power spectrum density when normalized=True.\n",
      "    \n",
      "    Raises\n",
      "    ------\n",
      "    ValueError\n",
      "        If n is not a scalar.\n",
      "        If uz is not a scalar.\n",
      "    \n",
      "    Examples\n",
      "    --------\n",
      "    >>> from ffpack.lsm import davenportSpectrumWithRoughnessLength\n",
      "    >>> n = 2\n",
      "    >>> uz = 10\n",
      "    >>> rst = davenportSpectrumWithRoughnessLength( n, uz, z=10, z0=0.03, \n",
      "    ...                                             normalized=True )\n",
      "    \n",
      "    References\n",
      "    ----------\n",
      "    .. [Hiriart2001] Hiriart, D., Ochoa, J.L. and Garcia, B., 2001. Wind power \n",
      "       spectrum measured at the San Pedro Mártir Sierra. Revista Mexicana de \n",
      "       Astronomia y Astrofisica, 37(2), pp.213-220.\n",
      "    .. [Ho2003] Ho, T.C.E., Surry, D. and Morrish, D.P., 2003. NIST/TTU cooperative \n",
      "       agreement-windstorm mitigation initiative: Wind tunnel experiments on generic \n",
      "       low buildings. London, Canada: BLWTSS20-2003, Boundary-Layer Wind Tunnel \n",
      "       Laboratory, Univ. of Western Ontario.\n",
      "\n"
     ]
    }
   ],
   "source": [
    "from ffpack.lsm import davenportSpectrumWithRoughnessLength\n",
    "help( davenportSpectrumWithRoughnessLength )"
   ]
  },
  {
   "cell_type": "markdown",
   "id": "9f9137c1",
   "metadata": {},
   "source": [
    "#### Example with default values"
   ]
  },
  {
   "cell_type": "code",
   "execution_count": 8,
   "id": "ee829625",
   "metadata": {},
   "outputs": [],
   "source": [
    "dsrnRange = [ 10**i for i in np.linspace( -3, 2, num=121 ) ]"
   ]
  },
  {
   "cell_type": "code",
   "execution_count": 9,
   "id": "47ab10ec",
   "metadata": {},
   "outputs": [],
   "source": [
    "uz = 10\n",
    "dsrnResults = [ davenportSpectrumWithRoughnessLength( n, uz, normalized=True ) \n",
    "                for n in dsrnRange ]"
   ]
  },
  {
   "cell_type": "code",
   "execution_count": 10,
   "id": "be53faa4",
   "metadata": {},
   "outputs": [
    {
     "data": {
      "image/png": "[encoded data removed]",
      "text/plain": [
       "<Figure size 400x320 with 1 Axes>"
      ]
     },
     "metadata": {},
     "output_type": "display_data"
    }
   ],
   "source": [
    "fig, ax = plt.subplots()\n",
    "plt.xscale(\"log\")\n",
    "plt.yscale(\"log\")\n",
    "\n",
    "ax.plot( np.array( dsrnRange ),\n",
    "         np.array( dsrnResults ) )\n",
    "\n",
    "ax.tick_params(axis='x', direction=\"in\", length=5)\n",
    "ax.tick_params(axis='y', direction=\"in\", length=5)\n",
    "ax.tick_params(axis='x', direction=\"in\", length=3, which='minor')\n",
    "ax.tick_params(axis='y', direction=\"in\", length=3, which='minor')\n",
    "ax.set_xlabel( \"Normalized frequency\" )\n",
    "ax.set_ylabel( \"Normalized power spectrum density\" )\n",
    "ax.set_title( \"Davenport spectrum with roughness length\" )\n",
    "\n",
    "plt.tight_layout()\n",
    "plt.show()"
   ]
  }
 ],
 "metadata": {
  "kernelspec": {
   "display_name": "Python 3 (ipykernel)",
   "language": "python",
   "name": "python3"
  },
  "language_info": {
   "codemirror_mode": {
    "name": "ipython",
    "version": 3
   },
   "file_extension": ".py",
   "mimetype": "text/x-python",
   "name": "python",
   "nbconvert_exporter": "python",
   "pygments_lexer": "ipython3",
   "version": "3.7.9"
  }
 },
 "nbformat": 4,
 "nbformat_minor": 5
}
