{
 "cells": [
  {
   "cell_type": "markdown",
   "id": "0e1e78b2-d28b-49aa-aeba-6b1484911579",
   "metadata": {},
   "source": [
    "## First order second moment"
   ]
  },
  {
   "cell_type": "code",
   "execution_count": 1,
   "id": "4f4f5d78-0a54-4ec1-ac14-4aa4eaf53012",
   "metadata": {},
   "outputs": [],
   "source": [
    "# Import auxiliary libraries for demonstration\n",
    "\n",
    "import matplotlib as mpl\n",
    "import matplotlib.pyplot as plt\n",
    "import numpy as np\n",
    "from scipy import stats\n",
    "\n",
    "plt.rcParams[ \"figure.figsize\" ] = [ 5, 4 ]\n",
    "\n",
    "plt.rcParams[ \"figure.dpi\" ] = 80\n",
    "plt.rcParams[ \"font.family\" ] = \"Times New Roman\"\n",
    "plt.rcParams[ \"font.size\" ] = '14'"
   ]
  },
  {
   "cell_type": "markdown",
   "id": "69b6d3f1-3368-4154-bd90-d96882eed0b2",
   "metadata": {},
   "source": [
    "### FOSM with mean value algorithm"
   ]
  },
  {
   "cell_type": "markdown",
   "id": "308a93d6-400e-48a1-b623-b499f32cb0bf",
   "metadata": {},
   "source": [
    "FOSM with mean value algorithm can be expressed by the following equation,\n",
    "\n",
    "$$\n",
    "\\beta = \\frac{g(\\mu_1, \\mu_2, \\dots, \\mu_n)}{\\sqrt{ \\sum_{i=1}^n \\alpha_i \\sigma_i}}\n",
    "$$\n",
    "\n",
    "where $g$ is the limit state function (LSF); $\\alpha_i$ is given by,\n",
    "\n",
    "$$\n",
    "\\alpha_i = \\frac{\\partial g}{ \\partial X_i} \\Bigr|_{\\mu_i}\n",
    "$$\n",
    "\n",
    "Function `mvalFOSM` implements the FOSM with mean value algorithm.\n",
    "\n",
    "Reference: Nowak, A.S. and Collins, K.R., 2012. Reliability of structures. CRC press."
   ]
  },
  {
   "cell_type": "markdown",
   "id": "9ce27867-4ca5-4cdd-a4cc-3eee9446dc29",
   "metadata": {},
   "source": [
    "#### Function help"
   ]
  },
  {
   "cell_type": "code",
   "execution_count": 2,
   "id": "33e38c23-b5fd-4b86-8dcf-df8b4d0594de",
   "metadata": {},
   "outputs": [
    {
     "name": "stdout",
     "output_type": "stream",
     "text": [
      "Help on function mvalFOSM in module ffpack.rrm.firstOrderSecondMoment:\n",
      "\n",
      "mvalFOSM(dim, g, dg, mus, sigmas, dx=1e-06)\n",
      "    First order second moment method based on mean value algorithm.\n",
      "    \n",
      "    Parameters\n",
      "    ----------\n",
      "    dim: integer\n",
      "        Space dimension ( number of random variables ).\n",
      "    g: function\n",
      "        Limit state function. It will be called like g( [ x1, x2, ... ] ).\n",
      "    dg: array_like of function \n",
      "        Gradient of the limit state function. It should be an array_like of function\n",
      "        like dg = [ dg_dx1, dg_dx2, ... ]. To get the derivative of i-th random \n",
      "        variable at ( x1*, x2*, ... ), dg[ i ]( x1*, x2*, ... ) will be called.\n",
      "        dg can be None, see the following Notes.\n",
      "    mus: 1d array\n",
      "        Mean of the random variables.\n",
      "    sigmas: 1d array\n",
      "        Variance of the random variables.\n",
      "    dx : scalar, optional\n",
      "        Spacing for auto differentiation. Not required if dg is provided.\n",
      "    \n",
      "    Returns\n",
      "    -------\n",
      "    beta: scalar\n",
      "        Reliability index.\n",
      "    pf: scalar\n",
      "        probability of failure.\n",
      "    \n",
      "    Raises\n",
      "    ------\n",
      "    ValueError\n",
      "        If the dim is less than 1.\n",
      "        If the dim does not match the length of mus and sigmas.\n",
      "    \n",
      "    Notes\n",
      "    -----\n",
      "    If dg is None, the numerical differentiation will be used. The tolerance of the \n",
      "    numerical differentiation can be changed in globalConfig.\n",
      "    \n",
      "    Examples\n",
      "    --------\n",
      "    >>> from ffpack.rrm import mvalFOSM\n",
      "    >>> dim = 2\n",
      "    >>> g = lambda X: 3 * X[ 0 ] - 2 * X[ 1 ]\n",
      "    >>> dg = [ lambda X: 3, lambda X: -2 ]\n",
      "    >>> mus = [ 1, 1 ]\n",
      "    >>> sigmas = [ 3, 4 ]\n",
      "    >>> beta, pf = mvalFOSM( dim, g, dg, mus, sigmas)\n",
      "\n"
     ]
    }
   ],
   "source": [
    "from ffpack.rrm import mvalFOSM\n",
    "help( mvalFOSM )"
   ]
  },
  {
   "cell_type": "markdown",
   "id": "ad99ce29-136d-448f-9faf-fcde69d9ba39",
   "metadata": {},
   "source": [
    "#### Example with explicit derivative of LSF"
   ]
  },
  {
   "cell_type": "code",
   "execution_count": 3,
   "id": "92a4b9be-cf3e-4f99-ab02-11226a053fb4",
   "metadata": {},
   "outputs": [],
   "source": [
    "# Define the dimension for the FOSM problem\n",
    "dim = 2\n",
    "\n",
    "# Define the limit state function (LSF) g\n",
    "g = lambda X: 3 * X[ 0 ] - 2 * X[ 1 ]\n",
    "\n",
    "# Explicit derivative of LSF\n",
    "# dg is a list in which each element is a partial derivative function of g w.r.t. X\n",
    "# dg[0] = partial g / partial X[0]\n",
    "# dg[1] = partial g / partial X[1]\n",
    "dg = [ lambda X: 3, lambda X: -2 ]\n",
    "\n",
    "# Mean and standard deviation of the random variables\n",
    "mus = [ 1, 1 ]\n",
    "sigmas = [ 3, 4 ]\n",
    "\n",
    "# Use mean value algorithm to get results\n",
    "beta, pf = mvalFOSM( dim, g, dg, mus, sigmas)"
   ]
  },
  {
   "cell_type": "code",
   "execution_count": 4,
   "id": "580f878b-211e-41ee-a233-dc6cf0c578da",
   "metadata": {},
   "outputs": [
    {
     "name": "stdout",
     "output_type": "stream",
     "text": [
      "Reliability index: \n",
      "0.08304547985373997\n",
      "\n",
      "Failure probability: \n",
      "0.46690768839408386\n"
     ]
    }
   ],
   "source": [
    "print( \"Reliability index: \" )\n",
    "print( beta )\n",
    "print()\n",
    "print( \"Failure probability: \" )\n",
    "print( pf )"
   ]
  },
  {
   "cell_type": "markdown",
   "id": "aa5d27c4-1763-4b66-a5a0-4f6ed472c1ee",
   "metadata": {},
   "source": [
    "#### Example with automatic differentiation of LSF"
   ]
  },
  {
   "cell_type": "code",
   "execution_count": 5,
   "id": "5860ec4c-e5be-4571-b60e-e20ede29a87a",
   "metadata": {},
   "outputs": [],
   "source": [
    "# Define the dimension for the FOSM problem\n",
    "dim = 2\n",
    "\n",
    "# Define the limit state function (LSF) g\n",
    "g = lambda X: 3 * X[ 0 ] - 2 * X[ 1 ]\n",
    "\n",
    "# If dg is None, the internal automatic differentiation algorithm will be used\n",
    "dg = None\n",
    "\n",
    "# Mean and standard deviation of the random variables\n",
    "mus = [ 1, 1 ]\n",
    "sigmas = [ 3, 4 ]\n",
    "\n",
    "# Use mean value algorithm to get results\n",
    "beta, pf = mvalFOSM( dim, g, dg, mus, sigmas)"
   ]
  },
  {
   "cell_type": "code",
   "execution_count": 6,
   "id": "869eb46f-3c85-40ba-8c6b-d2423093c020",
   "metadata": {},
   "outputs": [
    {
     "name": "stdout",
     "output_type": "stream",
     "text": [
      "Reliability index: \n",
      "0.08304547985853711\n",
      "\n",
      "Failure probability: \n",
      "0.46690768839217667\n"
     ]
    }
   ],
   "source": [
    "print( \"Reliability index: \" )\n",
    "print( beta )\n",
    "print()\n",
    "print( \"Failure probability: \" )\n",
    "print( pf )"
   ]
  }
 ],
 "metadata": {
  "kernelspec": {
   "display_name": "Python 3 (ipykernel)",
   "language": "python",
   "name": "python3"
  },
  "language_info": {
   "codemirror_mode": {
    "name": "ipython",
    "version": 3
   },
   "file_extension": ".py",
   "mimetype": "text/x-python",
   "name": "python",
   "nbconvert_exporter": "python",
   "pygments_lexer": "ipython3",
   "version": "3.9.13"
  }
 },
 "nbformat": 4,
 "nbformat_minor": 5
}
