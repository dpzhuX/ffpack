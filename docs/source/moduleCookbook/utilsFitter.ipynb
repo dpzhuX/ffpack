{
 "cells": [
  {
   "cell_type": "markdown",
   "id": "6d5de9c8-4181-4271-8aeb-641bc2f069f9",
   "metadata": {},
   "source": [
    "## Fitter"
   ]
  },
  {
   "cell_type": "code",
   "execution_count": 1,
   "id": "7a7ae508",
   "metadata": {},
   "outputs": [],
   "source": [
    "# Import auxiliary libraries for demonstration\n",
    "\n",
    "import matplotlib as mpl\n",
    "import matplotlib.pyplot as plt\n",
    "import numpy as np\n",
    "\n",
    "plt.rcParams[ \"figure.figsize\" ] = [ 5, 4 ]\n",
    "plt.style.use( \"default\" )\n",
    "\n",
    "plt.rcParams[ \"figure.dpi\" ] = 80\n",
    "plt.rcParams[ \"font.family\" ] = \"Times New Roman\"\n",
    "plt.rcParams[ \"font.size\" ] = '14'"
   ]
  },
  {
   "cell_type": "markdown",
   "id": "7c596c8e",
   "metadata": {},
   "source": [
    "### Fitter for SN curve"
   ]
  },
  {
   "cell_type": "markdown",
   "id": "fbff0bd3-96b9-4473-9448-b5991e254807",
   "metadata": {},
   "source": [
    "Class `FitterForSnCurve` creates a fitter for the SN curve.\n",
    "\n",
    "This fitter (not fitting) has a query function `getN` and represents the SN curve itself. For the given experimental data, the fitter assumes the linear relation between the `S` and `log(N)` if `S` is larger than the fatigue limit. Therefore, if a given `S` is less than or equal fatigue limit, the `getN` will return `-1` representing no fatigue damage is caused by the current `S`. Otherwise, `getN` will return the estimated `N` value representing the fatigue failure cycles under the current `S`."
   ]
  },
  {
   "cell_type": "markdown",
   "id": "eff506ee-ed8c-4365-a3af-14acceccf82d",
   "metadata": {},
   "source": [
    "#### Class initialization help"
   ]
  },
  {
   "cell_type": "code",
   "execution_count": 2,
   "id": "86e58896-b588-45c9-8987-72fd654afa50",
   "metadata": {},
   "outputs": [
    {
     "name": "stdout",
     "output_type": "stream",
     "text": [
      "Help on function __init__ in module ffpack.utils.fdrUtils:\n",
      "\n",
      "__init__(self, data, fatigueLimit)\n",
      "    Initialize a fitter for a SN curve based on the experimental data.\n",
      "    \n",
      "    Parameters\n",
      "    ----------\n",
      "    data: 2d array\n",
      "        Experimental data for fitting in a 2D matrix,\n",
      "        e.g., [ [ N1, S1 ], [ N2, S2 ], ..., [ Ni, Si ] ]\n",
      "    \n",
      "    fatigueLimit: scalar\n",
      "        Fatigue limit indicating the minimum S that can cause fatigue.\n",
      "    \n",
      "    Raises\n",
      "    ------\n",
      "    ValueError\n",
      "        If the data dimension is not 2.\n",
      "        If the data length is less than 2.\n",
      "        If the fatigueLimit is less than or equal 0.\n",
      "        If N_i or S_i is less than or equal 0.\n",
      "    \n",
      "    Examples\n",
      "    --------\n",
      "    >>> from ffpack.utils import fitterForSnCurve\n",
      "    >>> data = [ [ 10, 3 ], [ 1000, 1 ] ]\n",
      "    >>> fatigueLimit = 0.5\n",
      "    >>> fitterForSnCurve = FitterForSnCurve( data, fatigueLimit )\n",
      "\n"
     ]
    }
   ],
   "source": [
    "from ffpack.utils import FitterForSnCurve\n",
    "help( FitterForSnCurve.__init__ )"
   ]
  },
  {
   "cell_type": "markdown",
   "id": "522e09b4-6236-4d2a-a7c7-54136d195ea4",
   "metadata": {},
   "source": [
    "#### Function `getN` help"
   ]
  },
  {
   "cell_type": "code",
   "execution_count": 3,
   "id": "6d90df00-ddf9-422e-88c3-d16e5da5676e",
   "metadata": {},
   "outputs": [
    {
     "name": "stdout",
     "output_type": "stream",
     "text": [
      "Help on function getN in module ffpack.utils.fdrUtils:\n",
      "\n",
      "getN(self, S)\n",
      "    Query fatigue life N for a given S\n",
      "    \n",
      "    Parameters\n",
      "    ----------\n",
      "    S: scalar\n",
      "        Input S for fatigue life query.\n",
      "    \n",
      "    Returns\n",
      "    -------\n",
      "    rst: scalar\n",
      "        Fatigue life under the query S. \n",
      "        If S is less than or equal fatigueLimit, -1 will be returned. \n",
      "    \n",
      "    Raises\n",
      "    ------\n",
      "    ValueError\n",
      "        If the S is less than or equal 0.\n",
      "    \n",
      "    Examples\n",
      "    --------\n",
      "    >>> rst = fitterForSnCurve.getN( 2 )\n",
      "\n"
     ]
    }
   ],
   "source": [
    "help( FitterForSnCurve.getN )"
   ]
  },
  {
   "cell_type": "markdown",
   "id": "2cf35553-1a64-4497-9424-b8278a65ef60",
   "metadata": {},
   "source": [
    "#### Example with default values"
   ]
  },
  {
   "cell_type": "code",
   "execution_count": 4,
   "id": "82c23aa6-0337-4ae3-984d-541b7858259c",
   "metadata": {},
   "outputs": [
    {
     "name": "stdout",
     "output_type": "stream",
     "text": [
      "Fatigue failure cycles at S == 0.2:  -1.00\n",
      "Fatigue failure cycles at S == 0.5:  -1.00\n",
      "Fatigue failure cycles at S == 1.0:  1000.00\n",
      "Fatigue failure cycles at S == 1.5:  316.23\n",
      "Fatigue failure cycles at S == 2.0:  100.00\n",
      "Fatigue failure cycles at S == 2.5:  31.62\n",
      "Fatigue failure cycles at S == 3.0:  10.00\n",
      "Fatigue failure cycles at S == 4.0:  1.00\n",
      "Fatigue failure cycles at S == 5.0:  0.10\n"
     ]
    }
   ],
   "source": [
    "data = [ [ 10, 3 ], [ 1000, 1 ] ]\n",
    "fatigueLimit = 0.5\n",
    "fitterForSnCurve = FitterForSnCurve( data, fatigueLimit )\n",
    "\n",
    "queryS = [ 0.2, 0.5, 1.0, 1.5, 2.0, 2.5, 3.0, 4.0, 5.0 ]\n",
    "calN = [ fitterForSnCurve.getN( s ) for s in queryS ]\n",
    "\n",
    "for index, s in enumerate( queryS ):\n",
    "    print( \"Fatigue failure cycles at S == %s: \" % s, \"{:.2f}\".format( calN[ index ] ) )\n",
    "\n",
    "plotStartIndex = next( x[ 0 ] for x in enumerate( queryS ) if x[ 1 ] > fatigueLimit )"
   ]
  },
  {
   "cell_type": "code",
   "execution_count": 5,
   "id": "82ab4f5b-3fe6-4a71-9c74-d324aefd25fa",
   "metadata": {},
   "outputs": [
    {
     "data": {
      "image/png": "[encoded data removed]",
      "text/plain": [
       "<Figure size 512x384 with 1 Axes>"
      ]
     },
     "metadata": {},
     "output_type": "display_data"
    }
   ],
   "source": [
    "fig, ax = plt.subplots()\n",
    "\n",
    "ax.plot( np.array( calN )[ plotStartIndex: ], \n",
    "         np.array( queryS )[ plotStartIndex: ] )\n",
    "\n",
    "ax.tick_params(axis='x', direction=\"in\", length=5)\n",
    "ax.tick_params(axis='y', direction=\"in\", length=5)\n",
    "ax.set_ylabel( \"S\" )\n",
    "ax.set_xlabel( \"N\" )\n",
    "ax.set_title( \"SN curve from the fitter\" )\n",
    "\n",
    "plt.tight_layout()\n",
    "plt.show()"
   ]
  }
 ],
 "metadata": {
  "kernelspec": {
   "display_name": "Python 3 (ipykernel)",
   "language": "python",
   "name": "python3"
  },
  "language_info": {
   "codemirror_mode": {
    "name": "ipython",
    "version": 3
   },
   "file_extension": ".py",
   "mimetype": "text/x-python",
   "name": "python",
   "nbconvert_exporter": "python",
   "pygments_lexer": "ipython3",
   "version": "3.9.13"
  }
 },
 "nbformat": 4,
 "nbformat_minor": 5
}
