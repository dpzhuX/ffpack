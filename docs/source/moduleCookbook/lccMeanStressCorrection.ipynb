{
 "cells": [
  {
   "cell_type": "markdown",
   "id": "0586b38a-3948-432b-a7c7-11614c839e74",
   "metadata": {},
   "source": [
    "## Mean stress correction methods"
   ]
  },
  {
   "attachments": {},
   "cell_type": "markdown",
   "id": "d342209c",
   "metadata": {},
   "source": [
    "Studies have shown that the mean stress effect plays a critical role in fatigue damage accumulation. The mean value of the fatigue stress response varies under different mean stress levels. In general, fatigue damage increases with the superimposition of static stress to the applied cyclic stress. The mean stress correction is to transform the stress cycle to an equivalent stress cycle with zero mean stress. \n",
    "\n",
    "For a stress range $[\\sigma_{lower}, \\sigma_{upper}]$, the mean stress $\\sigma_{mean}$ is calculated with \n",
    "\n",
    "$$ \\sigma_{m} = \\frac{\\sigma_{lower} + \\sigma_{upper}}{2} $$\n",
    "\n",
    "and the alternating stress, also refered to as  stress amplitude, $\\sigma_a$ is calculated with\n",
    "\n",
    "$$ \\sigma_{a} = \\frac{\\sigma_{upper} - \\sigma_{lower}}{2} $$\n",
    "\n",
    "Reference:\n",
    "\n",
    "* https://sachinchaturvedi.files.wordpress.com/2012/03/fatigue.pdf.\n",
    "* https://en.wikipedia.org/wiki/Goodman_relation"
   ]
  },
  {
   "cell_type": "code",
   "execution_count": 1,
   "id": "bd8444ec",
   "metadata": {},
   "outputs": [],
   "source": [
    "# Import auxiliary libraries for demonstration\n",
    "\n",
    "import matplotlib as mpl\n",
    "import matplotlib.pyplot as plt\n",
    "import numpy as np\n",
    "\n",
    "plt.rcParams[ \"figure.figsize\" ] = [ 5, 4 ]\n",
    "\n",
    "plt.rcParams[ \"figure.dpi\" ] = 80\n",
    "plt.rcParams[ \"font.family\" ] = \"Times New Roman\"\n",
    "plt.rcParams[ \"font.size\" ] = '14'"
   ]
  },
  {
   "cell_type": "markdown",
   "id": "db4baa3a-3d96-4d3e-8f2f-e3d30e6f4eb1",
   "metadata": {},
   "source": [
    "### Goodman correction method"
   ]
  },
  {
   "cell_type": "markdown",
   "id": "7582e997-f617-41e1-a100-8e9d74218feb",
   "metadata": {},
   "source": [
    "Function `goodmanCorrection` implements the Goodman correction method.\n",
    "\n",
    "The Goodman diagram, originally proposed in 1890, is a graphical representation of this effect. The Goodman correction could be expressed as\n",
    "\n",
    "<!-- The alternating stress is plotted on one axis and the mean stress on the other. The allowable alternating stress with no mean stress is the fatigue limit. The maximum mean stress, with zero alternating stress, is the ultimate strength. A straight line is then drawn between the two points. Any combination of mean and alternating stress on this line will have the same fatigue life. Mathematically this may be expressed as: -->\n",
    "\n",
    "$$\n",
    "\\frac{\\sigma_a}{\\sigma_{FL}} + \\frac{\\sigma_{m}}{\\sigma_{u}} = 1 \n",
    "$$\n",
    "\n",
    "where $\\sigma_{u}$ is the ultimate strength; $\\sigma_{mean}$ is the mean stress of the stress range; $\\sigma_a$ is the alternating stress; $\\sigma_{FL}$ is the fatigue limit. \n",
    "\n",
    "If a safty factor $n$ is considered, the equation becomes\n",
    "\n",
    "$$\n",
    "\\frac{\\sigma_a}{\\sigma_{FL}} + \\frac{\\sigma_{m}}{\\sigma_{u}} = \\frac{1}{n} \n",
    "$$"
   ]
  },
  {
   "cell_type": "markdown",
   "id": "9bb49f1c-9077-45ed-bd7a-d05aee4322d5",
   "metadata": {},
   "source": [
    "#### Function help"
   ]
  },
  {
   "cell_type": "code",
   "execution_count": 2,
   "id": "e90d41fb-3673-459c-92fd-97eedbbf06a0",
   "metadata": {},
   "outputs": [
    {
     "name": "stdout",
     "output_type": "stream",
     "text": [
      "Help on function goodmanCorrection in module ffpack.lcc.meanStressCorrection:\n",
      "\n",
      "goodmanCorrection(stressRange, ultimateStrength, n=1.0)\n",
      "    The Goodman correction in this implementation is applicable to cases with stress \n",
      "    ratio no less than -1.\n",
      "    \n",
      "    Parameters\n",
      "    ----------\n",
      "    stressRange: 1d array\n",
      "        Stress range, e.g., [ lowerStress, upperStress ].\n",
      "    ultimateStrength: scalar\n",
      "        Ultimate tensile strength.\n",
      "    n: scalar, optional\n",
      "        Safety factor, default to 1.0.\n",
      "    \n",
      "    Returns\n",
      "    -------\n",
      "    rst: scalar\n",
      "        Fatigue limit.\n",
      "    \n",
      "    Raises\n",
      "    ------\n",
      "    ValueError\n",
      "        If the stressRange dimension is not 1, or stressRange length is not 2.\n",
      "        If stressRange[ 1 ] <= 0 or stressRange[ 0 ] >= stressRange[ 1 ].\n",
      "        If ultimateStrength is not a scalar or ultimateStrength <= 0.\n",
      "        If ultimateStrength is smaller than the mean stress.\n",
      "        If n < 1.0.\n",
      "    \n",
      "    Examples\n",
      "    --------\n",
      "    >>> from ffpack.lcc import goodmanCorrection\n",
      "    >>> stressRange = [ 1.0, 2.0 ]\n",
      "    >>> ultimateStrength = 4.0\n",
      "    >>> rst = goodmanCorrection( stressRange, ultimateStrength )\n",
      "\n"
     ]
    }
   ],
   "source": [
    "from ffpack.lcc import goodmanCorrection\n",
    "\n",
    "help( goodmanCorrection )"
   ]
  },
  {
   "cell_type": "markdown",
   "id": "de0240ab-5a5b-4d08-9993-439dfe457f5b",
   "metadata": {},
   "source": [
    "#### Example with default values"
   ]
  },
  {
   "cell_type": "code",
   "execution_count": 3,
   "id": "1a34d74a-ba5b-4201-8800-bde221af6db9",
   "metadata": {},
   "outputs": [],
   "source": [
    "stressRangeData = [ 1.0, 2.0 ]\n",
    "ultimateStrength = 4.0\n",
    "\n",
    "goodmanResult = goodmanCorrection( stressRangeData, ultimateStrength )"
   ]
  },
  {
   "cell_type": "code",
   "execution_count": 4,
   "id": "14d4f18c-3603-4da5-8a03-0fc5099752e0",
   "metadata": {},
   "outputs": [
    {
     "name": "stdout",
     "output_type": "stream",
     "text": [
      "0.8\n"
     ]
    }
   ],
   "source": [
    "print( goodmanResult )"
   ]
  },
  {
   "cell_type": "code",
   "execution_count": 5,
   "id": "3839ce64-545e-4ca0-aa09-094a00f123c4",
   "metadata": {},
   "outputs": [
    {
     "data": {
      "image/png": "[encoded data removed]",
      "text/plain": [
       "<Figure size 400x320 with 1 Axes>"
      ]
     },
     "metadata": {},
     "output_type": "display_data"
    }
   ],
   "source": [
    "fig, ax = plt.subplots()\n",
    "\n",
    "x = [0, ultimateStrength]\n",
    "y = [goodmanResult, 0]\n",
    "ax.plot( x, y, \"-\" )\n",
    "ax.tick_params( axis='x', direction=\"in\", length=5 )\n",
    "ax.tick_params( axis='y', direction=\"in\", length=5 )\n",
    "plt.xlim( left=0, right=5 )\n",
    "plt.ylim( bottom=0, top=1 )\n",
    "\n",
    "sigmaMean = np.mean(stressRangeData)\n",
    "sigmaAlt = (stressRangeData[1] - stressRangeData[0]) / 2\n",
    "point = ( sigmaMean, sigmaAlt )\n",
    "ax.plot( point[0], point[1], \"o\" )\n",
    "ax.axvline( point[0], ymin=0, ymax=point[1]/1, linestyle='--', color='gray') # plot vertical line\n",
    "ax.axhline( point[1], xmin=0, xmax=point[0]/5, linestyle='--', color='gray') # plot horizontal line\n",
    "\n",
    "ax.set_xlabel( \"Mean stress\" )\n",
    "ax.set_ylabel( \"Alternating stress\" )\n",
    "ax.set_title( \"Goodman correction\" )\n",
    "\n",
    "plt.tight_layout()\n",
    "plt.show()"
   ]
  },
  {
   "cell_type": "markdown",
   "id": "0f9ea5fc",
   "metadata": {},
   "source": [
    "### Soderberg correction method"
   ]
  },
  {
   "cell_type": "markdown",
   "id": "2a92a06f",
   "metadata": {},
   "source": [
    "Function `soderbergCorrection` implements the Goodman correction method.\n",
    "\n",
    "The Soderberg diagram, originally proposed in 1890, is a graphical representation of this effect. The Goodman correction could be expressed as\n",
    "\n",
    "$$\n",
    "\\frac{\\sigma_a}{\\sigma_{FL}} + \\frac{\\sigma_{m}}{\\sigma_{y}} = 1 \n",
    "$$\n",
    "\n",
    "where $\\sigma_{y}$ is the yield strength; $\\sigma_{mean}$ is the mean stress of the stress range; $\\sigma_a$ is the alternating stress; $\\sigma_{FL}$ is the fatigue limit. \n",
    "\n",
    "If a safty factor $n$ is considered, the equation becomes\n",
    "\n",
    "$$\n",
    "\\frac{\\sigma_a}{\\sigma_{FL}} + \\frac{\\sigma_{m}}{\\sigma_{y}} = \\frac{1}{n} \n",
    "$$"
   ]
  },
  {
   "cell_type": "markdown",
   "id": "75b49bae",
   "metadata": {},
   "source": [
    "#### Function help"
   ]
  },
  {
   "cell_type": "code",
   "execution_count": 6,
   "id": "e69cdc8e",
   "metadata": {},
   "outputs": [
    {
     "name": "stdout",
     "output_type": "stream",
     "text": [
      "Help on function soderbergCorrection in module ffpack.lcc.meanStressCorrection:\n",
      "\n",
      "soderbergCorrection(stressRange, yieldStrength, n=1.0)\n",
      "    The Soderberg correction in this implementation is applicable to cases with stress \n",
      "    ratio no less than -1.\n",
      "    \n",
      "    Parameters\n",
      "    ----------\n",
      "    stressRange: 1d array\n",
      "        Stress range, e.g., [ lowerStress, upperStress ].\n",
      "    yieldStrength: scalar\n",
      "        Yield strength.\n",
      "    n: scalar, optional\n",
      "        Safety factor, default to 1.0.\n",
      "    \n",
      "    Returns\n",
      "    -------\n",
      "    rst: scalar\n",
      "        Fatigue limit.\n",
      "    \n",
      "    Raises\n",
      "    ------\n",
      "    ValueError\n",
      "        If the stressRange dimension is not 1, or stressRange length is not 2.\n",
      "        If stressRange[ 1 ] <= 0 or stressRange[ 0 ] >= stressRange[ 1 ].\n",
      "        If yieldStrength is not a scalar or yieldStrength <= 0.\n",
      "        If yieldStrength is smaller than the mean stress.\n",
      "        If safety factor n < 1.0.\n",
      "    \n",
      "    Examples\n",
      "    --------\n",
      "    >>> from ffpack.lcc import soderbergCorrection\n",
      "    >>> stressRange = [ 1.0, 2.0 ]\n",
      "    >>> yieldStrength = 3.0\n",
      "    >>> rst = soderbergCorrection( stressRange, yieldStrength )\n",
      "\n"
     ]
    }
   ],
   "source": [
    "from ffpack.lcc import soderbergCorrection\n",
    "\n",
    "help( soderbergCorrection )"
   ]
  },
  {
   "cell_type": "markdown",
   "id": "2edeaf3e",
   "metadata": {},
   "source": [
    "#### Example with default values"
   ]
  },
  {
   "cell_type": "code",
   "execution_count": 7,
   "id": "9db46952",
   "metadata": {},
   "outputs": [],
   "source": [
    "stressRangeData = [ 1.0, 2.0 ]\n",
    "yieldStrength = 3.0\n",
    "\n",
    "soderbergResult = soderbergCorrection( stressRangeData, yieldStrength )"
   ]
  },
  {
   "cell_type": "code",
   "execution_count": 8,
   "id": "3f4d4b7e",
   "metadata": {},
   "outputs": [
    {
     "name": "stdout",
     "output_type": "stream",
     "text": [
      "1.0\n"
     ]
    }
   ],
   "source": [
    "print( soderbergResult )"
   ]
  },
  {
   "cell_type": "code",
   "execution_count": 9,
   "id": "83f9fdc7",
   "metadata": {},
   "outputs": [
    {
     "data": {
      "image/png": "[encoded data removed]",
      "text/plain": [
       "<Figure size 400x320 with 1 Axes>"
      ]
     },
     "metadata": {},
     "output_type": "display_data"
    }
   ],
   "source": [
    "fig, ax = plt.subplots()\n",
    "\n",
    "x = [0, yieldStrength]\n",
    "y = [soderbergResult, 0]\n",
    "ax.plot( x, y, \"-\" )\n",
    "ax.tick_params( axis='x', direction=\"in\", length=5 )\n",
    "ax.tick_params( axis='y', direction=\"in\", length=5 )\n",
    "plt.xlim( left=0, right=4 )\n",
    "plt.ylim( bottom=0, top=1.5 )\n",
    "\n",
    "sigmaMean = np.mean(stressRangeData)\n",
    "sigmaAlt = (stressRangeData[1] - stressRangeData[0]) / 2\n",
    "point = ( sigmaMean, sigmaAlt )\n",
    "ax.plot( point[0], point[1], \"o\" )\n",
    "ax.axvline( point[0], ymin=0, ymax=point[1]/1.5, linestyle='--', color='gray') # plot vertical line\n",
    "ax.axhline( point[1], xmin=0, xmax=point[0]/4, linestyle='--', color='gray') # plot horizontal line\n",
    "\n",
    "ax.set_xlabel( \"Mean stress\" )\n",
    "ax.set_ylabel( \"Alternating stress\" )\n",
    "ax.set_title( \"Soderberg correction\" )\n",
    "\n",
    "plt.tight_layout()\n",
    "plt.show()"
   ]
  },
  {
   "cell_type": "markdown",
   "id": "f20941d7",
   "metadata": {},
   "source": [
    "### Gerber correction method"
   ]
  },
  {
   "cell_type": "markdown",
   "id": "481fa6d0",
   "metadata": {},
   "source": [
    "Function `gerberCorrection` implements the Goodman correction method.\n",
    "\n",
    "The Goodman diagram, originally proposed in 1890, is a graphical representation of this effect. The Goodman correction could be expressed as\n",
    "\n",
    "$$\n",
    "\\frac{\\sigma_a}{\\sigma_{FL}} + \\left( \\frac{\\sigma_{m}}{\\sigma_{u}} \\right)^{2} = 1 \n",
    "$$\n",
    "\n",
    "where $\\sigma_{u}$ is the ultimate strength; $\\sigma_{mean}$ is the mean stress of the stress range; $\\sigma_a$ is the alternating stress; $\\sigma_{FL}$ is the fatigue limit. \n",
    "\n",
    "If a safty factor $n$ is considered, the equation becomes\n",
    "\n",
    "$$\n",
    "\\frac{n\\sigma_a}{\\sigma_{FL}} + \\left( \\frac{n\\sigma_{m}}{\\sigma_{u}} \\right)^{2} = 1 \n",
    "$$"
   ]
  },
  {
   "cell_type": "markdown",
   "id": "242ec5d6",
   "metadata": {},
   "source": [
    "#### Function help"
   ]
  },
  {
   "cell_type": "code",
   "execution_count": 10,
   "id": "741c2b14",
   "metadata": {},
   "outputs": [
    {
     "name": "stdout",
     "output_type": "stream",
     "text": [
      "Help on function gerberCorrection in module ffpack.lcc.meanStressCorrection:\n",
      "\n",
      "gerberCorrection(stressRange, ultimateStrength, n=1.0)\n",
      "    The Gerber correction in this implementation is applicable to cases with stress \n",
      "    ratio no less than -1.\n",
      "    \n",
      "    Parameters\n",
      "    ----------\n",
      "    stressRange: 1d array\n",
      "        Stress range, e.g., [ lowerStress, upperStress ].\n",
      "    ultimateStrength: scalar\n",
      "        Ultimate strength.\n",
      "    n: scalar, optional\n",
      "        Safety factor, default to 1.0.\n",
      "    \n",
      "    Returns\n",
      "    -------\n",
      "    rst: scalar\n",
      "        Fatigue limit.\n",
      "    \n",
      "    Raises\n",
      "    ------\n",
      "    ValueError\n",
      "        If the stressRange dimension is not 1, or stressRange length is not 2.\n",
      "        If stressRange[ 1 ] <= 0 or stressRange[ 0 ] >= stressRange[ 1 ].\n",
      "        If ultimateStrength is not a scalar or ultimateStrength <= 0.\n",
      "        If ultimateStrength is smaller than the mean stress.\n",
      "        If safety factor n < 1.0.\n",
      "    \n",
      "    Examples\n",
      "    --------\n",
      "    >>> from ffpack.lcc import gerberCorrection\n",
      "    >>> stressRange = [ 1.0, 2.0 ]\n",
      "    >>> ultimateStrength = 3.0\n",
      "    >>> rst = gerberCorrection( stressRange, ultimateStrength )\n",
      "\n"
     ]
    }
   ],
   "source": [
    "from ffpack.lcc import gerberCorrection\n",
    "\n",
    "help( gerberCorrection )"
   ]
  },
  {
   "cell_type": "markdown",
   "id": "1c5a7260",
   "metadata": {},
   "source": [
    "#### Example with default values"
   ]
  },
  {
   "cell_type": "code",
   "execution_count": 11,
   "id": "66ec6cf5",
   "metadata": {},
   "outputs": [],
   "source": [
    "stressRangeData = [ 1.0, 2.0 ]\n",
    "ultimateStrength = 4.0\n",
    "\n",
    "gerberResult = gerberCorrection( stressRangeData, ultimateStrength )"
   ]
  },
  {
   "cell_type": "code",
   "execution_count": 12,
   "id": "c5e8c09f",
   "metadata": {},
   "outputs": [
    {
     "name": "stdout",
     "output_type": "stream",
     "text": [
      "0.5818181818181818\n"
     ]
    }
   ],
   "source": [
    "print( gerberResult )"
   ]
  },
  {
   "cell_type": "code",
   "execution_count": 13,
   "id": "7e9b2e1d",
   "metadata": {},
   "outputs": [
    {
     "data": {
      "image/png": "[encoded data removed]",
      "text/plain": [
       "<Figure size 400x320 with 1 Axes>"
      ]
     },
     "metadata": {},
     "output_type": "display_data"
    }
   ],
   "source": [
    "fig, ax = plt.subplots()\n",
    "\n",
    "x = np.arange(0, ultimateStrength + 0.25, 0.25)\n",
    "\n",
    "sigmaMean = np.mean(stressRangeData)\n",
    "sigmaAlt = (stressRangeData[1] - stressRangeData[0]) / 2\n",
    "def calculateSigmaAlt(mean): \n",
    "    rst = 1 - (mean / ultimateStrength) ** 2\n",
    "    return rst * gerberResult\n",
    "\n",
    "y = [calculateSigmaAlt(mean) for mean in x]\n",
    "ax.plot( x, y, \"-\" )\n",
    "\n",
    "ax.tick_params( axis='x', direction=\"in\", length=5 )\n",
    "ax.tick_params( axis='y', direction=\"in\", length=5 )\n",
    "plt.xlim( left=0, right=5 )\n",
    "plt.ylim( bottom=0, top=0.8 )\n",
    "\n",
    "point = ( sigmaMean, sigmaAlt )\n",
    "ax.plot( point[0], point[1], \"o\" )\n",
    "ax.axvline( point[0], ymin=0, ymax=point[1]/0.8, linestyle='--', color='gray') # plot vertical line\n",
    "ax.axhline( point[1], xmin=0, xmax=point[0]/5, linestyle='--', color='gray') # plot horizontal line\n",
    "\n",
    "ax.set_xlabel( \"Mean stress\" )\n",
    "ax.set_ylabel( \"Alternating stress\" )\n",
    "ax.set_title( \"Gerber correction\" )\n",
    "\n",
    "plt.tight_layout()\n",
    "plt.show()"
   ]
  },
  {
   "cell_type": "markdown",
   "id": "a811c0d2",
   "metadata": {},
   "source": [
    "### Comparison of the correction methods"
   ]
  },
  {
   "cell_type": "code",
   "execution_count": 14,
   "id": "cef57804",
   "metadata": {},
   "outputs": [],
   "source": [
    "sigmaFL = 0.8            # assumed fatigue limit\n",
    "yieldStrength = 3.0      # assumed yield strength\n",
    "ultimateStrength = 4.0   # assumed ultimate strength"
   ]
  },
  {
   "cell_type": "code",
   "execution_count": 15,
   "id": "18f14c6a",
   "metadata": {},
   "outputs": [
    {
     "data": {
      "image/png": "[encoded data removed]",
      "text/plain": [
       "<Figure size 400x320 with 1 Axes>"
      ]
     },
     "metadata": {},
     "output_type": "display_data"
    }
   ],
   "source": [
    "fig, ax = plt.subplots()\n",
    "\n",
    "xYield = np.arange(0, yieldStrength + 0.25, 0.25)\n",
    "xUltimate = np.arange(0, ultimateStrength + 0.25, 0.25)\n",
    "\n",
    "def calcGoodman(mean):\n",
    "    rst = 1 - mean / ultimateStrength\n",
    "    return rst * sigmaFL\n",
    "\n",
    "def calcSoderberg(mean):\n",
    "    rst = 1 - mean / yieldStrength\n",
    "    return rst * sigmaFL\n",
    "\n",
    "def calcGerber(mean): \n",
    "    rst = 1 - (mean / ultimateStrength) ** 2\n",
    "    return rst * sigmaFL\n",
    "\n",
    "yGoodman = [calcGoodman(mean) for mean in xUltimate]\n",
    "ySoderberg = [calcSoderberg(mean) for mean in xYield]\n",
    "yGerber = [calcGerber(mean) for mean in xUltimate]\n",
    "ax.plot( xUltimate, yGoodman, \"-\", label='Goodman' )\n",
    "ax.plot( xYield, ySoderberg, \"-\", label='Soderberg' )\n",
    "ax.plot( xUltimate, yGerber, \"-\", label='Gerber' )\n",
    "plt.legend()\n",
    "\n",
    "ax.tick_params( axis='x', direction=\"in\", length=5 )\n",
    "ax.tick_params( axis='y', direction=\"in\", length=5 )\n",
    "plt.xlim( left=0, right=4.5 )\n",
    "plt.ylim( bottom=0, top=1 )\n",
    "\n",
    "ax.set_xlabel( \"Mean stress\" )\n",
    "ax.set_ylabel( \"Alternating stress\" )\n",
    "ax.set_title( \"Mean stress correction\" )\n",
    "\n",
    "plt.tight_layout()\n",
    "plt.show()"
   ]
  }
 ],
 "metadata": {
  "kernelspec": {
   "display_name": "Python 3 (ipykernel)",
   "language": "python",
   "name": "python3"
  },
  "language_info": {
   "codemirror_mode": {
    "name": "ipython",
    "version": 3
   },
   "file_extension": ".py",
   "mimetype": "text/x-python",
   "name": "python",
   "nbconvert_exporter": "python",
   "pygments_lexer": "ipython3",
   "version": "3.7.9"
  }
 },
 "nbformat": 4,
 "nbformat_minor": 5
}
