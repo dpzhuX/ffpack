{
 "cells": [
  {
   "cell_type": "markdown",
   "id": "0586b38a-3948-432b-a7c7-11614c839e74",
   "metadata": {},
   "source": [
    "## Mean stress correction methods"
   ]
  },
  {
   "cell_type": "markdown",
   "id": "d342209c",
   "metadata": {},
   "source": [
    "Tension mean stresses reduce the fatigue life from that observed with completely reversed loading. "
   ]
  },
  {
   "cell_type": "code",
   "execution_count": 1,
   "id": "bd8444ec",
   "metadata": {},
   "outputs": [],
   "source": [
    "# Import auxiliary libraries for demonstration\n",
    "\n",
    "import matplotlib as mpl\n",
    "import matplotlib.pyplot as plt\n",
    "import numpy as np\n",
    "\n",
    "plt.rcParams[ \"figure.figsize\" ] = [ 5, 4 ]\n",
    "\n",
    "plt.rcParams[ \"figure.dpi\" ] = 80\n",
    "plt.rcParams[ \"font.family\" ] = \"Times New Roman\"\n",
    "plt.rcParams[ \"font.size\" ] = '14'"
   ]
  },
  {
   "cell_type": "markdown",
   "id": "db4baa3a-3d96-4d3e-8f2f-e3d30e6f4eb1",
   "metadata": {},
   "source": [
    "### Goodman correction method"
   ]
  },
  {
   "cell_type": "markdown",
   "id": "7582e997-f617-41e1-a100-8e9d74218feb",
   "metadata": {},
   "source": [
    "Function `goodmanCorrection` implements the Goodman correction method.\n",
    "\n",
    "The Goodman diagram, originally proposed in 1890, is a graphical representation of this effect. The Goodman correction could be expressed as\n",
    "\n",
    "<!-- The alternating stress is plotted on one axis and the mean stress on the other. The allowable alternating stress with no mean stress is the fatigue limit. The maximum mean stress, with zero alternating stress, is the ultimate strength. A straight line is then drawn between the two points. Any combination of mean and alternating stress on this line will have the same fatigue life. Mathematically this may be expressed as: -->\n",
    "\n",
    "$$\n",
    "\\frac{\\sigma_a}{\\sigma_{FL}} + \\frac{\\sigma_{m}}{\\sigma_{u}} = 1 \n",
    "$$\n",
    "\n",
    "where $\\sigma_{u}$ is the ultimate strength; $\\sigma_{mean}$ is the mean stress of the stress range, $\\sigma_{m} = (\\sigma_l + \\sigma_u)/2$; $\\sigma_a$ is the alternating stress, $\\sigma_{a} = ( \\sigma_u - \\sigma_l )/2$; $\\sigma_{FL}$ is the fatigue limit. \n",
    "\n",
    "\n",
    "Reference: \n",
    "\n",
    "* Rychlik, I., 1987. A new definition of the rainflow cycle counting method. International journal of fatigue, 9(2), pp.119-121."
   ]
  },
  {
   "cell_type": "markdown",
   "id": "9bb49f1c-9077-45ed-bd7a-d05aee4322d5",
   "metadata": {},
   "source": [
    "#### Function help"
   ]
  },
  {
   "cell_type": "code",
   "execution_count": 2,
   "id": "e90d41fb-3673-459c-92fd-97eedbbf06a0",
   "metadata": {},
   "outputs": [
    {
     "name": "stdout",
     "output_type": "stream",
     "text": [
      "Help on function goodmanCorrection in module ffpack.lcc.meanStressCorrection:\n",
      "\n",
      "goodmanCorrection(stressRange, sigma, n=1.0)\n",
      "    The Goodman correction in this implementation is applicable to cases with stress \n",
      "    ratio no less than -1\n",
      "    \n",
      "    Parameters\n",
      "    ----------\n",
      "    stressRange: 1d array\n",
      "        Stress range, e.g., [ lowerStress, upperStress ].\n",
      "    sigma: scalar\n",
      "        Ultimate tensile strength.\n",
      "    n: scalar, optional\n",
      "        Safety factor, default to 1.0.\n",
      "    \n",
      "    Returns\n",
      "    -------\n",
      "    rst: scalar\n",
      "        Fatigue limit.\n",
      "    \n",
      "    Raises\n",
      "    ------\n",
      "    ValueError\n",
      "        If the stressRange dimension is not 1, or stressRange length is not 2.\n",
      "        If stressRange[ 1 ] <= 0 or stressRange[ 0 ] >= stressRange[ 1 ].\n",
      "        If sigma is not a scalar or sigma <= 0.\n",
      "        If sigma is smaller than upper stress stressRange[ 1 ].\n",
      "        If n < 1.0.\n",
      "    \n",
      "    Examples\n",
      "    --------\n",
      "    >>> from ffpack.lcc import goodmanCorrection\n",
      "    >>> stressRange = [ 1.0, 2.0 ]\n",
      "    >>> sigma = 4.0\n",
      "    >>> rst = goodmanCorrection( stressRange, sigma )\n",
      "    \n",
      "    References\n",
      "    ----------\n",
      "    .. [Lee2011] Lee, Y.L., Barkey, M.E. and Kang, H.T., 2011. Metal fatigue analysis \n",
      "       handbook: practical problem-solving techniques for computer-aided engineering. \n",
      "       Elsevier.\n",
      "\n"
     ]
    }
   ],
   "source": [
    "from ffpack.lcc import goodmanCorrection\n",
    "\n",
    "help( goodmanCorrection )"
   ]
  },
  {
   "cell_type": "markdown",
   "id": "de0240ab-5a5b-4d08-9993-439dfe457f5b",
   "metadata": {},
   "source": [
    "#### Example with default values"
   ]
  },
  {
   "cell_type": "code",
   "execution_count": 3,
   "id": "1a34d74a-ba5b-4201-8800-bde221af6db9",
   "metadata": {},
   "outputs": [],
   "source": [
    "stressRangeData = [ 1.0, 2.0 ]\n",
    "sigma = 4.0\n",
    "\n",
    "goodmanResult = goodmanCorrection( stressRangeData, sigma )"
   ]
  },
  {
   "cell_type": "code",
   "execution_count": 4,
   "id": "14d4f18c-3603-4da5-8a03-0fc5099752e0",
   "metadata": {},
   "outputs": [
    {
     "name": "stdout",
     "output_type": "stream",
     "text": [
      "0.8\n"
     ]
    }
   ],
   "source": [
    "print( goodmanResult )"
   ]
  },
  {
   "cell_type": "code",
   "execution_count": 5,
   "id": "3839ce64-545e-4ca0-aa09-094a00f123c4",
   "metadata": {},
   "outputs": [
    {
     "data": {
      "image/png": "[encoded data removed]",
      "text/plain": [
       "<Figure size 400x320 with 1 Axes>"
      ]
     },
     "metadata": {},
     "output_type": "display_data"
    }
   ],
   "source": [
    "fig, ax = plt.subplots()\n",
    "\n",
    "alt = sigma * goodmanResult / ( sigma - np.mean( stressRangeData ) )\n",
    "x = [ 0, np.mean(stressRangeData), sigma ]\n",
    "y = [ alt, goodmanResult, 0 ]\n",
    "\n",
    "ax.plot( x, y, \"-\" )\n",
    "\n",
    "ax.tick_params( axis='x', direction=\"in\", length=5 )\n",
    "ax.tick_params( axis='y', direction=\"in\", length=5 )\n",
    "plt.xlim( left=0, right=5 )\n",
    "plt.ylim( bottom=0, top=2 )\n",
    "\n",
    "point = ( np.mean(stressRangeData), goodmanResult )\n",
    "ax.plot( x[1], y[1], \"o\" )\n",
    "ax.axvline( point[0], ymin=0, ymax=point[1]/2, linestyle='--', color='gray') # plot vertical line\n",
    "ax.axhline( point[1], xmin=0, xmax=point[0]/5, linestyle='--', color='gray') # plot horizontal line\n",
    "\n",
    "ax.set_xlabel( \"Mean stress\" )\n",
    "ax.set_ylabel( \"Alternating stress\" )\n",
    "ax.set_title( \"Goodman correction\" )\n",
    "\n",
    "plt.tight_layout()\n",
    "plt.show()"
   ]
  }
 ],
 "metadata": {
  "kernelspec": {
   "display_name": "Python 3 (ipykernel)",
   "language": "python",
   "name": "python3"
  },
  "language_info": {
   "codemirror_mode": {
    "name": "ipython",
    "version": 3
   },
   "file_extension": ".py",
   "mimetype": "text/x-python",
   "name": "python",
   "nbconvert_exporter": "python",
   "pygments_lexer": "ipython3",
   "version": "3.7.9"
  }
 },
 "nbformat": 4,
 "nbformat_minor": 5
}
