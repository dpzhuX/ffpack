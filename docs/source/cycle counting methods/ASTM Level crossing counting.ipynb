{
 "cells": [
  {
   "cell_type": "markdown",
   "id": "579711aa",
   "metadata": {},
   "source": [
    "# ASTM Level crossing counting"
   ]
  },
  {
   "cell_type": "code",
   "execution_count": 1,
   "id": "1c2f7173",
   "metadata": {},
   "outputs": [],
   "source": [
    "from ffpack.ccstd import levelCrossingCounting"
   ]
  },
  {
   "cell_type": "code",
   "execution_count": 2,
   "id": "3c84d765",
   "metadata": {},
   "outputs": [],
   "source": [
    "sequenceData = [ -0.8, 1.3, 0.7, 3.4, 0.7, 2.5, -1.4, -0.5, -2.3, \n",
    "                 -2.2, -2.6, -2.4, -3.3, 1.5, 0.6, 3.4, -0.5 ]\n",
    "\n",
    "lccData = levelCrossingCounting( sequenceData )"
   ]
  },
  {
   "cell_type": "code",
   "execution_count": 3,
   "id": "81eca673",
   "metadata": {},
   "outputs": [
    {
     "name": "stdout",
     "output_type": "stream",
     "text": [
      "[[-3.0, 1.0], [-2.0, 1.0], [-1.0, 2.0], [0.0, 2.0], [1.0, 5.0], [2.0, 3.0], [3.0, 2.0]]\n"
     ]
    }
   ],
   "source": [
    "print( lccData )"
   ]
  },
  {
   "cell_type": "code",
   "execution_count": null,
   "id": "2c435e40",
   "metadata": {},
   "outputs": [],
   "source": []
  }
 ],
 "metadata": {
  "kernelspec": {
   "display_name": "Python 3 (ipykernel)",
   "language": "python",
   "name": "python3"
  },
  "language_info": {
   "codemirror_mode": {
    "name": "ipython",
    "version": 3
   },
   "file_extension": ".py",
   "mimetype": "text/x-python",
   "name": "python",
   "nbconvert_exporter": "python",
   "pygments_lexer": "ipython3",
   "version": "3.9.15"
  }
 },
 "nbformat": 4,
 "nbformat_minor": 5
}
