{
 "cells": [
  {
   "cell_type": "markdown",
   "id": "26459d36-e9ef-497f-b469-02e54f28526d",
   "metadata": {},
   "source": [
    "# Random sampling and probability"
   ]
  },
  {
   "cell_type": "code",
   "execution_count": 1,
   "id": "b9cf1d2f-56be-48fa-b999-ffafaa37c6c2",
   "metadata": {},
   "outputs": [],
   "source": [
    "# Import auxiliary libraries for demonstration\n",
    "\n",
    "import matplotlib as mpl\n",
    "import matplotlib.pyplot as plt\n",
    "import numpy as np\n",
    "\n",
    "plt.rcParams[ \"figure.figsize\" ] = [ 5, 4 ]\n",
    "\n",
    "plt.rcParams[ \"figure.dpi\" ] = 80\n",
    "plt.rcParams[ \"font.family\" ] = \"Times New Roman\"\n",
    "plt.rcParams[ \"font.size\" ] = '14'"
   ]
  },
  {
   "cell_type": "markdown",
   "id": "2383dad6-0c83-45d0-ac61-6ae79aab24fb",
   "metadata": {},
   "source": [
    "## Metropolis–Hastings algorithm"
   ]
  },
  {
   "cell_type": "markdown",
   "id": "d0f01a5a-2aa0-478e-a244-0b280f4c48ce",
   "metadata": {},
   "source": [
    "### Metropolis–Hastings sampler"
   ]
  },
  {
   "cell_type": "markdown",
   "id": "4c917a7c-5897-4d15-907e-4c52c934d028",
   "metadata": {},
   "source": [
    "#### Class initialization help"
   ]
  },
  {
   "cell_type": "code",
   "execution_count": 2,
   "id": "f2d4db22-46ff-43ea-a600-dcaa65f8f24c",
   "metadata": {},
   "outputs": [
    {
     "name": "stdout",
     "output_type": "stream",
     "text": [
      "Help on function __init__ in module ffpack.rsp.metropolisHastingsAlgo:\n",
      "\n",
      "__init__(self, initialVal=None, targetPdf=None, proposalCSampler=None)\n",
      "    Initialize self.  See help(type(self)) for accurate signature.\n",
      "\n"
     ]
    }
   ],
   "source": [
    "from ffpack.rsp import MetropolisHastingsSampler\n",
    "help( MetropolisHastingsSampler.__init__ )"
   ]
  },
  {
   "cell_type": "markdown",
   "id": "4111d974-7854-4e10-89e1-456700cf5640",
   "metadata": {},
   "source": [
    "#### Example with exponential distribution"
   ]
  },
  {
   "cell_type": "code",
   "execution_count": 3,
   "id": "f3d97445-8c37-485d-806e-f669d747fe2f",
   "metadata": {},
   "outputs": [],
   "source": [
    "# Set random seed for repeatable results\n",
    "from ffpack.config import globalConfig\n",
    "globalConfig.setSeed( 0 )\n",
    "\n",
    "mhsInitialVal = 1.0\n",
    "\n",
    "def mhsTargetPdf( x ):\n",
    "    return 0 if x < 0 else np.exp( -x )\n",
    "\n",
    "def mhsProposalCSampler( x ):\n",
    "    return np.random.normal( x, 1 )"
   ]
  },
  {
   "cell_type": "code",
   "execution_count": 4,
   "id": "8daa7ce1-c0a5-4a96-a597-9a6eb0368460",
   "metadata": {},
   "outputs": [],
   "source": [
    "mhSampler = MetropolisHastingsSampler( initialVal=mhsInitialVal, \n",
    "                                       targetPdf=mhsTargetPdf, \n",
    "                                       proposalCSampler=mhsProposalCSampler )"
   ]
  },
  {
   "cell_type": "code",
   "execution_count": 5,
   "id": "caddbc0e-5014-44e0-82dd-9bf707a88542",
   "metadata": {},
   "outputs": [],
   "source": [
    "mhsResults = np.zeros( 10000 )\n",
    "for i in range( 10000 ):\n",
    "    mhsResults[ i ] = mhSampler.sample()"
   ]
  },
  {
   "cell_type": "code",
   "execution_count": 6,
   "id": "a94d4ae8-018a-490e-8e62-fc6a4b36583d",
   "metadata": {},
   "outputs": [
    {
     "data": {
      "image/png": "[encoded data removed]",
      "text/plain": [
       "<Figure size 400x320 with 1 Axes>"
      ]
     },
     "metadata": {},
     "output_type": "display_data"
    }
   ],
   "source": [
    "fig, ax = plt.subplots()\n",
    "\n",
    "ax.hist( np.array( mhsResults ), bins=20 )\n",
    "\n",
    "ax.tick_params(axis='x', direction=\"in\", length=5)\n",
    "ax.tick_params(axis='y', direction=\"in\", length=5)\n",
    "ax.set_ylabel( \"Count\" )\n",
    "ax.set_xlabel( \"Value\" )\n",
    "ax.set_title( \"Histogram of Metropolis–Hastings samples\" )\n",
    "\n",
    "plt.tight_layout()\n",
    "plt.show()"
   ]
  }
 ],
 "metadata": {
  "kernelspec": {
   "display_name": "Python 3 (ipykernel)",
   "language": "python",
   "name": "python3"
  },
  "language_info": {
   "codemirror_mode": {
    "name": "ipython",
    "version": 3
   },
   "file_extension": ".py",
   "mimetype": "text/x-python",
   "name": "python",
   "nbconvert_exporter": "python",
   "pygments_lexer": "ipython3",
   "version": "3.9.13"
  }
 },
 "nbformat": 4,
 "nbformat_minor": 5
}
