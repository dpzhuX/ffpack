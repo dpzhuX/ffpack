{
 "cells": [
  {
   "cell_type": "markdown",
   "id": "59a78634-b651-4aca-8d35-9eb18d2d0ebe",
   "metadata": {},
   "source": [
    "## Reliability application"
   ]
  },
  {
   "cell_type": "markdown",
   "id": "429c471e",
   "metadata": {},
   "source": [
    "This is an application of fatigue crack growth probabilistic analysis of a finite width rectangular plate with an edge crack subject to constant amplitude in [1]. \n",
    "\n",
    "The number of cycles to failure $N_f$ is given as\n",
    "$$\n",
    "N_{f} = \\frac{ a_{f}^{1-m/2} - a_{i}^{1-m/2} }{ c (1.1215 \\Delta \\sigma)^{m} \\pi^{m/2} (1-m/2) }\n",
    "$$\n",
    "\n",
    "where $m = 3.32$, $c$ is the Paris constant, $\\Delta \\sigma$ is the load, $a_i$ is the initial crack size, $a_f$ is the final crack size and is expressed as\n",
    "\n",
    "$$\n",
    "a_{f} = \\frac{1}{\\pi} \\left( \\frac{ K_{IC} }{ 1.1215 \\Delta \\sigma } \\right)^{2}\n",
    "$$\n",
    "\n",
    "where $K_{IC}$ is the fracture toughness.\n",
    "\n",
    "\n",
    "The random variables follow certain distributions given in the following table.\n",
    "\n",
    "| Random Variable                              | Distribution |   Mean                 |  Standard Deviation    |\n",
    "|----------------------------------------------|--------------|------------------------|------------------------|\n",
    "| Load (ksi), $\\Delta \\sigma$                  |   Lognormal  |  100                   |   10                   |\n",
    "| Initial Crack Size (in), $a_i$               |   Lognormal  |  0.01                  |   0.005                |\n",
    "| Paris constant, $c$                          |   Lognormal  |  1.2e-10               |   1.2e-11              |\n",
    "| Fracture Toughness $ksi/\\sqrt{in}$, $K_{IC}$ |   Normal     |  60                    |   6                    |\n",
    "\n",
    "\n",
    "\n",
    "Reference: \n",
    "\n",
    "[1] Choi, S.K., Canfield, R.A. and Grandhi, R.V., 2007. Reliability-Based Structural Optimization (pp. 153-202). Springer London."
   ]
  },
  {
   "cell_type": "code",
   "execution_count": 1,
   "id": "0d900d93",
   "metadata": {},
   "outputs": [],
   "source": [
    "# Import auxiliary libraries for demonstration\n",
    "\n",
    "import matplotlib as mpl\n",
    "import matplotlib.pyplot as plt\n",
    "import numpy as np\n",
    "\n",
    "plt.rcParams[ \"figure.figsize\" ] = [ 5, 4 ]\n",
    "\n",
    "plt.rcParams[ \"figure.dpi\" ] = 80\n",
    "plt.rcParams[ \"font.family\" ] = \"Times New Roman\"\n",
    "plt.rcParams[ \"font.size\" ] = '14'"
   ]
  },
  {
   "cell_type": "code",
   "execution_count": 2,
   "id": "7c591243",
   "metadata": {},
   "outputs": [],
   "source": [
    "# Set random seed for repeatable results\n",
    "from ffpack.config import globalConfig\n",
    "\n",
    "globalConfig.setSeed( 2023 )"
   ]
  },
  {
   "cell_type": "markdown",
   "id": "9fd89d5c",
   "metadata": {},
   "source": [
    "### Parameter distributions"
   ]
  },
  {
   "cell_type": "code",
   "execution_count": 3,
   "id": "0be1e670",
   "metadata": {},
   "outputs": [],
   "source": [
    "import math\n",
    "from scipy import stats\n",
    "\n",
    "m = 3.32\n",
    "\n",
    "meanStd = [ [ 100, 10 ], [ 0.01, 0.005 ], [ 1.2e-10, 0.12e-10 ], [ 60, 6 ] ]"
   ]
  },
  {
   "cell_type": "markdown",
   "id": "1f007502",
   "metadata": {},
   "source": [
    "We need to convert the mean and standard derivation for the lognorm distribution.\n",
    "\n",
    "A random variable $X$ follows lognormal distribution, and random variable $Y = lnX$ follows a normal distribution.\n",
    "\n",
    "The PDF of $Y$ is give by \n",
    "\n",
    "$$\n",
    "f_{Y}(y) = \\frac{1}{\\sqrt{2 \\pi} \\sigma_{Y}} \\exp \\left[ -\\frac{1}{2} \\left( \\frac{y - \\mu_{Y}}{\\sigma_{Y}} \\right)^{2} \\right], -\\infty < y < \\infty\n",
    "$$\n",
    "\n",
    "The equation can be rewritten in terms of $X$ as\n",
    "\n",
    "$$\n",
    "f_{X}(x) = \\frac{1}{\\sqrt{2 \\pi} x\\sigma_{Y}} \\exp \\left[ -\\frac{1}{2} \\left( \\frac{lnx - \\mu_{Y}}{\\sigma_{Y}} \\right)^{2} \\right], 0 \\leq x < \\infty\n",
    "$$\n",
    "\n",
    "where\n",
    "$$\n",
    "\\sigma_{Y}^{2} = \\ln\\left[ \\left( \\frac{\\sigma_{X}}{\\mu_{X}} \\right) ^{2} + 1 \\right]\n",
    "$$\n",
    "\n",
    "$$\n",
    "\\mu_{Y} = \\ln\\mu_{X} - \\frac{1}{2}\\sigma_{Y}^{2}\n",
    "$$\n"
   ]
  },
  {
   "cell_type": "code",
   "execution_count": 4,
   "id": "7cb84673",
   "metadata": {},
   "outputs": [],
   "source": [
    "from numpy import log\n",
    "\n",
    "def convertLognormal(mean, std):\n",
    "    sigma2 = log( 1 + std**2 / mean**2 )\n",
    "    mu = log( mean ) - sigma2 / 2\n",
    "    return ( mu, sigma2 ** 0.5 )"
   ]
  },
  {
   "cell_type": "code",
   "execution_count": 5,
   "id": "d186c66f",
   "metadata": {},
   "outputs": [
    {
     "name": "stdout",
     "output_type": "stream",
     "text": [
      "100.00000000000001\n",
      "10.000000000000005\n"
     ]
    },
    {
     "data": {
      "text/plain": [
       "Text(0.5, 1.0, 'PDF of load')"
      ]
     },
     "execution_count": 5,
     "metadata": {},
     "output_type": "execute_result"
    },
    {
     "data": {
      "image/png": "[encoded data removed]",
      "text/plain": [
       "<Figure size 400x320 with 1 Axes>"
      ]
     },
     "metadata": {},
     "output_type": "display_data"
    }
   ],
   "source": [
    "mu, std = convertLognormal(meanStd[0][0], meanStd[0][1])\n",
    "\n",
    "X1 = stats.lognorm( s=std, scale=np.exp(mu) )\n",
    "print(X1.mean())\n",
    "print(X1.var() ** 0.5)\n",
    "\n",
    "xxx = np.linspace(0, 200, 200)\n",
    "\n",
    "fig, ax = plt.subplots()\n",
    "\n",
    "ax.plot(xxx, X1.pdf(xxx))\n",
    "ax.set_title( \"PDF of load\" )"
   ]
  },
  {
   "cell_type": "code",
   "execution_count": 6,
   "id": "fef30c15",
   "metadata": {},
   "outputs": [
    {
     "name": "stdout",
     "output_type": "stream",
     "text": [
      "0.010000000000000002\n",
      "0.005\n"
     ]
    },
    {
     "data": {
      "text/plain": [
       "Text(0.5, 1.0, 'PDF of initial crack')"
      ]
     },
     "execution_count": 6,
     "metadata": {},
     "output_type": "execute_result"
    },
    {
     "data": {
      "image/png": "[encoded data removed]",
      "text/plain": [
       "<Figure size 400x320 with 1 Axes>"
      ]
     },
     "metadata": {},
     "output_type": "display_data"
    }
   ],
   "source": [
    "mu, std = convertLognormal(meanStd[1][0], meanStd[1][1])\n",
    "X2 = stats.lognorm( s=std, scale=np.exp(mu) )\n",
    "print(X2.mean())\n",
    "print(X2.var() ** 0.5)\n",
    "\n",
    "xxx = np.linspace(0, 1, 200)\n",
    "\n",
    "fig, ax = plt.subplots()\n",
    "\n",
    "ax.plot(xxx, X2.pdf(xxx))\n",
    "ax.set_title( \"PDF of initial crack\" )"
   ]
  },
  {
   "cell_type": "code",
   "execution_count": 7,
   "id": "9c66b953",
   "metadata": {},
   "outputs": [
    {
     "name": "stdout",
     "output_type": "stream",
     "text": [
      "1.2000000000000013e-10\n",
      "1.200000000000002e-11\n"
     ]
    },
    {
     "data": {
      "text/plain": [
       "Text(0.5, 1.0, 'PDF of Paris constant')"
      ]
     },
     "execution_count": 7,
     "metadata": {},
     "output_type": "execute_result"
    },
    {
     "data": {
      "image/png": "[encoded data removed]",
      "text/plain": [
       "<Figure size 400x320 with 1 Axes>"
      ]
     },
     "metadata": {},
     "output_type": "display_data"
    }
   ],
   "source": [
    "mu, std = convertLognormal(meanStd[2][0], meanStd[2][1])\n",
    "X3 = stats.lognorm( s=std, scale=np.exp(mu) )\n",
    "print(X3.mean())\n",
    "print(X3.var() ** 0.5)\n",
    "\n",
    "xxx = np.linspace(0, 2000, 2000)\n",
    "\n",
    "fig, ax = plt.subplots()\n",
    "ax.plot(xxx, X3.pdf(xxx))\n",
    "ax.set_title( \"PDF of Paris constant\" )"
   ]
  },
  {
   "cell_type": "code",
   "execution_count": 8,
   "id": "1e01e4c4",
   "metadata": {},
   "outputs": [
    {
     "data": {
      "text/plain": [
       "Text(0.5, 1.0, 'PDF of fracture toughness')"
      ]
     },
     "execution_count": 8,
     "metadata": {},
     "output_type": "execute_result"
    },
    {
     "data": {
      "image/png": "[encoded data removed]",
      "text/plain": [
       "<Figure size 400x320 with 1 Axes>"
      ]
     },
     "metadata": {},
     "output_type": "display_data"
    }
   ],
   "source": [
    "X4 = stats.norm( loc=meanStd[3][0], scale=meanStd[3][1] )\n",
    "\n",
    "xxx = np.linspace(0, 120, 1200)\n",
    "\n",
    "fig, ax = plt.subplots()\n",
    "ax.plot(xxx, X4.pdf(xxx))\n",
    "ax.set_title( \"PDF of fracture toughness\" )"
   ]
  },
  {
   "cell_type": "markdown",
   "id": "a359cd34",
   "metadata": {},
   "source": [
    "### Limit state function"
   ]
  },
  {
   "cell_type": "code",
   "execution_count": 9,
   "id": "c85d411b",
   "metadata": {},
   "outputs": [],
   "source": [
    "# Define the dimension for the FORM problem\n",
    "dim = 4\n",
    "\n",
    "# Define the limit state function (LSF) g\n",
    "def g( X ):\n",
    "    numerator = ( ( X[3] / 1.1215 / X[0] ) ** 2 / math.pi ) ** ( 1 - m / 2 ) - X[1] ** ( 1 - m / 2 )\n",
    "    denominator = X[2] * ( 1.1215 * X[0] ) ** m * math.pi ** ( m / 2 ) * ( 1 - m / 2 )\n",
    "    return numerator / denominator - 3000\n",
    "\n",
    "# use internal automatic differentiation algorithm\n",
    "dg = None"
   ]
  },
  {
   "cell_type": "markdown",
   "id": "18dabd82",
   "metadata": {},
   "source": [
    "### Marginal distribution"
   ]
  },
  {
   "cell_type": "code",
   "execution_count": 10,
   "id": "4ad56b74",
   "metadata": {},
   "outputs": [],
   "source": [
    "# Marginal distributions and correlation Matrix of the random variables\n",
    "distObjs = [ X1, X2, X3, X4 ]  \n",
    "corrMat = np.eye( dim )"
   ]
  },
  {
   "cell_type": "code",
   "execution_count": 11,
   "id": "4cfab780",
   "metadata": {},
   "outputs": [],
   "source": [
    "# define an array to record the reliability index and failure probability\n",
    "results = []"
   ]
  },
  {
   "cell_type": "markdown",
   "id": "a50abf95",
   "metadata": {},
   "source": [
    "### FORM"
   ]
  },
  {
   "cell_type": "code",
   "execution_count": 12,
   "id": "fedcff20",
   "metadata": {},
   "outputs": [],
   "source": [
    "# FORM: Constrained optimization FORM\n",
    "\n",
    "from ffpack.rrm import coptFORM\n",
    "\n",
    "beta, pf, uCoord, xCoord = coptFORM( dim, g, distObjs, corrMat )\n",
    "results.append( [ beta, pf ] )"
   ]
  },
  {
   "cell_type": "code",
   "execution_count": 13,
   "id": "3e2f024d",
   "metadata": {},
   "outputs": [
    {
     "name": "stdout",
     "output_type": "stream",
     "text": [
      "Reliability index: \n",
      "1.0037934895478329\n",
      "\n",
      "Failure probability: \n",
      "0.15773908156041105\n",
      "\n",
      "Design point coordinate in U space: \n",
      "[0.6472382726814411, 0.7428977098133317, 0.16674351823826586, -0.09478174884750643]\n",
      "\n",
      "Design point coordinate in X space: \n",
      "[106.13988658677613, 0.012704342671365916, 1.2140711290863364e-10, 59.431309506914964]\n"
     ]
    }
   ],
   "source": [
    "print( \"Reliability index: \" )\n",
    "print( beta )\n",
    "print()\n",
    "print( \"Failure probability: \" )\n",
    "print( pf )\n",
    "print()\n",
    "print( \"Design point coordinate in U space: \" )\n",
    "print( uCoord )\n",
    "print()\n",
    "print( \"Design point coordinate in X space: \" )\n",
    "print( xCoord )"
   ]
  },
  {
   "cell_type": "markdown",
   "id": "d9fc6f9b",
   "metadata": {},
   "source": [
    "### SORM"
   ]
  },
  {
   "cell_type": "code",
   "execution_count": 14,
   "id": "7d00dbbd",
   "metadata": {},
   "outputs": [],
   "source": [
    "# SORM: Breitung SORM\n",
    "\n",
    "from ffpack.rrm import breitungSORM\n",
    "\n",
    "beta, pf, uCoord, xCoord = breitungSORM( dim, g, dg, distObjs, corrMat )\n",
    "results.append( [ beta, pf ] )"
   ]
  },
  {
   "cell_type": "code",
   "execution_count": 15,
   "id": "753871a0",
   "metadata": {},
   "outputs": [
    {
     "name": "stdout",
     "output_type": "stream",
     "text": [
      "Reliability index: \n",
      "1.0037934895478329\n",
      "\n",
      "Failure probability: \n",
      "0.1460989862149804\n",
      "\n",
      "Design point coordinate in U space: \n",
      "[0.6472382726814411, 0.7428977098133317, 0.16674351823826586, -0.09478174884750643]\n",
      "\n",
      "Design point coordinate in X space: \n",
      "[106.13988658677613, 0.012704342671365916, 1.2140711290863364e-10, 59.431309506914964]\n"
     ]
    }
   ],
   "source": [
    "print( \"Reliability index: \" )\n",
    "print( beta )\n",
    "print()\n",
    "print( \"Failure probability: \" )\n",
    "print( pf )\n",
    "print()\n",
    "print( \"Design point coordinate in U space: \" )\n",
    "print( uCoord )\n",
    "print()\n",
    "print( \"Design point coordinate in X space: \" )\n",
    "print( xCoord )"
   ]
  },
  {
   "cell_type": "code",
   "execution_count": 16,
   "id": "21508144",
   "metadata": {},
   "outputs": [],
   "source": [
    "# SORM: Tvedt SORM\n",
    "\n",
    "from ffpack.rrm import tvedtSORM\n",
    "\n",
    "beta, pf, uCoord, xCoord = tvedtSORM( dim, g, dg, distObjs, corrMat )\n",
    "results.append( [ beta, pf ] )"
   ]
  },
  {
   "cell_type": "code",
   "execution_count": 17,
   "id": "13d918b6",
   "metadata": {},
   "outputs": [
    {
     "name": "stdout",
     "output_type": "stream",
     "text": [
      "Reliability index: \n",
      "1.0037934895478329\n",
      "\n",
      "Failure probability: \n",
      "0.13184401228952822\n",
      "\n",
      "Design point coordinate in U space: \n",
      "[0.6472382726814411, 0.7428977098133317, 0.16674351823826586, -0.09478174884750643]\n",
      "\n",
      "Design point coordinate in X space: \n",
      "[106.13988658677613, 0.012704342671365916, 1.2140711290863364e-10, 59.431309506914964]\n"
     ]
    }
   ],
   "source": [
    "print( \"Reliability index: \" )\n",
    "print( beta )\n",
    "print()\n",
    "print( \"Failure probability: \" )\n",
    "print( pf )\n",
    "print()\n",
    "print( \"Design point coordinate in U space: \" )\n",
    "print( uCoord )\n",
    "print()\n",
    "print( \"Design point coordinate in X space: \" )\n",
    "print( xCoord )"
   ]
  },
  {
   "cell_type": "code",
   "execution_count": 18,
   "id": "712f2943",
   "metadata": {},
   "outputs": [],
   "source": [
    "# SORM: Hohenbichler and Rackwitz SORM\n",
    "\n",
    "from ffpack.rrm import hrackSORM\n",
    "\n",
    "beta, pf, uCoord, xCoord = hrackSORM( dim, g, dg, distObjs, corrMat )\n",
    "results.append( [ beta, pf ] )"
   ]
  },
  {
   "cell_type": "code",
   "execution_count": 19,
   "id": "24db7b83",
   "metadata": {},
   "outputs": [
    {
     "name": "stdout",
     "output_type": "stream",
     "text": [
      "Reliability index: \n",
      "1.0037934895478329\n",
      "\n",
      "Failure probability: \n",
      "0.1540947049684117\n",
      "\n",
      "Design point coordinate in U space: \n",
      "[0.6472382726814411, 0.7428977098133317, 0.16674351823826586, -0.09478174884750643]\n",
      "\n",
      "Design point coordinate in X space: \n",
      "[106.13988658677613, 0.012704342671365916, 1.2140711290863364e-10, 59.431309506914964]\n"
     ]
    }
   ],
   "source": [
    "print( \"Reliability index: \" )\n",
    "print( beta )\n",
    "print()\n",
    "print( \"Failure probability: \" )\n",
    "print( pf )\n",
    "print()\n",
    "print( \"Design point coordinate in U space: \" )\n",
    "print( uCoord )\n",
    "print()\n",
    "print( \"Design point coordinate in X space: \" )\n",
    "print( xCoord )"
   ]
  },
  {
   "cell_type": "markdown",
   "id": "16afde5d",
   "metadata": {},
   "source": [
    "### Result comparison"
   ]
  },
  {
   "cell_type": "code",
   "execution_count": 20,
   "id": "c1c89905",
   "metadata": {},
   "outputs": [],
   "source": [
    "# results in reference [1]\n",
    "ref = [ 0.15774, 0.14473, 0.13987, np.nan ]"
   ]
  },
  {
   "cell_type": "code",
   "execution_count": 21,
   "id": "844c20d7",
   "metadata": {},
   "outputs": [
    {
     "name": "stdout",
     "output_type": "stream",
     "text": [
      "Method               Reliability index    Pf - Ours       Pf - Ref       \n",
      "FORM                 1.0038               0.1577          0.1577         \n",
      "SORM - Breitung      1.0038               0.1461          0.1447         \n",
      "SORM - Tvedt         1.0038               0.1318          0.1399         \n",
      "SORM - Hrack         1.0038               0.1541          nan            \n"
     ]
    }
   ],
   "source": [
    "# combine the two arrays using np.concatenate\n",
    "combined_array = np.concatenate((results, np.array(ref).reshape(-1, 1)), axis=1)\n",
    "\n",
    "# format the array elements as strings\n",
    "data_str = [['{:.4f}'.format(item) for item in row ] for row in combined_array]\n",
    "\n",
    "# define the first column\n",
    "extra = [ 'FORM', 'SORM - Breitung', 'SORM - Tvedt', 'SORM - Hrack']\n",
    "\n",
    "# define the column headers\n",
    "headers = [ 'Method', 'Reliability index', 'Pf - Ours', 'Pf - Ref']\n",
    "\n",
    "# Print the array as a formatted table\n",
    "print('{:<20} {:<20} {:<15} {:<15}'.format(*headers))  # Print the header row\n",
    "\n",
    "for i in range( len( data_str ) ):\n",
    "    print('{:<20} {:<20} {:<15} {:<15}'\n",
    "          .format( np.array(extra)[i] , data_str[i][0], data_str[i][1], data_str[i][2] ) )"
   ]
  },
  {
   "cell_type": "markdown",
   "id": "d9863fa3",
   "metadata": {},
   "source": [
    "The failure probabilities with different methods are very close to the results in reference [1]. The reliability indices given by different methods are consistent. "
   ]
  }
 ],
 "metadata": {
  "kernelspec": {
   "display_name": "Python 3 (ipykernel)",
   "language": "python",
   "name": "python3"
  },
  "language_info": {
   "codemirror_mode": {
    "name": "ipython",
    "version": 3
   },
   "file_extension": ".py",
   "mimetype": "text/x-python",
   "name": "python",
   "nbconvert_exporter": "python",
   "pygments_lexer": "ipython3",
   "version": "3.7.9"
  }
 },
 "nbformat": 4,
 "nbformat_minor": 5
}
