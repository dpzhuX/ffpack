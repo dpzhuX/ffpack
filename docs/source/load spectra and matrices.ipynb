{
 "cells": [
  {
   "cell_type": "markdown",
   "id": "9c6d01b4-83a4-43bc-9f3c-f6b951611410",
   "metadata": {},
   "source": [
    "# Load spectra and matrices ( lsm )"
   ]
  },
  {
   "cell_type": "code",
   "execution_count": 1,
   "id": "bcaa107e-ba1a-4c03-9272-37db44f208d9",
   "metadata": {},
   "outputs": [],
   "source": [
    "# Import auxiliary libraries for demonstration\n",
    "\n",
    "import matplotlib as mpl\n",
    "import matplotlib.pyplot as plt\n",
    "import numpy as np\n",
    "import warnings\n",
    "\n",
    "plt.rcParams[ \"figure.figsize\" ] = [ 5, 4 ]\n",
    "\n",
    "plt.rcParams[ \"figure.dpi\" ] = 80\n",
    "plt.rcParams[ \"font.family\" ] = \"Times New Roman\"\n",
    "plt.rcParams[ \"font.size\" ] = '14'\n",
    "\n",
    "# Filter the plot warning\n",
    "warnings.filterwarnings( \"ignore\" )"
   ]
  },
  {
   "cell_type": "markdown",
   "id": "38f2e7d2-7fb2-4673-a72b-ec70468d569b",
   "metadata": {},
   "source": [
    "## Cycle counting matrix"
   ]
  },
  {
   "cell_type": "markdown",
   "id": "c450a7ae-5a6e-4bf1-9131-e475ff751cb6",
   "metadata": {},
   "source": [
    "### ASTM simple range counting matrix"
   ]
  },
  {
   "cell_type": "markdown",
   "id": "68efb63f-2fd7-467a-a52c-75b461af035f",
   "metadata": {},
   "source": [
    "#### Function help"
   ]
  },
  {
   "cell_type": "code",
   "execution_count": 2,
   "id": "8fd01cbc-bf00-4d3d-857a-0ff572405eee",
   "metadata": {},
   "outputs": [
    {
     "name": "stdout",
     "output_type": "stream",
     "text": [
      "Help on function astmSimpleRangeCountingMatrix in module ffpack.lsm.cycleCountingMatrix:\n",
      "\n",
      "astmSimpleRangeCountingMatrix(data, resolution=0.5)\n",
      "    Calculate ASTM simple range counting matrix.\n",
      "    \n",
      "    Parameters\n",
      "    ----------\n",
      "    data: 1d array\n",
      "        Sequence data to calculate range counting matrix.\n",
      "    resolution: bool, optional\n",
      "        The desired resolution to round the data points.\n",
      "    \n",
      "    Returns\n",
      "    -------\n",
      "    rst: 2d array\n",
      "        A matrix contains the counting results.\n",
      "    \n",
      "    Raises\n",
      "    ------\n",
      "    ValueError\n",
      "        If the data dimension is not 1.\n",
      "        If the data length is less than 2.\n",
      "    \n",
      "    Notes\n",
      "    -----\n",
      "    The default round function will round half to even: 1.5, 2.5 => 2.0:\n",
      "    \n",
      "    Examples\n",
      "    --------\n",
      "    >>> from ffpack.lsm import astmSimpleRangeCountingMatrix\n",
      "    >>> data = [ -2.0, 1.0, -3.0, 5.0, -1.0, 3.0, -4.0, 4.0, -2.0 ]\n",
      "    >>> rst = astmSimpleRangeCountingMatrix( data )\n",
      "\n"
     ]
    }
   ],
   "source": [
    "from ffpack.lsm import astmSimpleRangeCountingMatrix\n",
    "help( astmSimpleRangeCountingMatrix )"
   ]
  },
  {
   "cell_type": "markdown",
   "id": "3092c581-96e0-4617-be46-2584a2c9266e",
   "metadata": {},
   "source": [
    "#### Example with default values"
   ]
  },
  {
   "cell_type": "code",
   "execution_count": 3,
   "id": "9c5687cf-0859-43ad-be83-3b3a21fd024d",
   "metadata": {},
   "outputs": [],
   "source": [
    "asrcmData = [ -2.0, 1.0, -3.0, 5.0, -1.0, 3.0, -4.0, 4.0, -2.0 ]\n",
    "asrcmMat, asrcmIndex = astmSimpleRangeCountingMatrix( asrcmData )\n",
    "\n",
    "asrcmMat = np.array( asrcmMat )\n",
    "asrcmIndex = np.array( asrcmIndex ).astype( float )"
   ]
  },
  {
   "cell_type": "code",
   "execution_count": 4,
   "id": "2a43dd8e-4144-4b21-9543-06ce98e3ebbc",
   "metadata": {},
   "outputs": [
    {
     "name": "stdout",
     "output_type": "stream",
     "text": [
      "ASTM simple range counting matrix\n",
      "[[0.  0.  0.  0.  0.  0.  0.5 0. ]\n",
      " [0.  0.  0.  0.  0.  0.  0.  0.5]\n",
      " [0.  0.  0.  0.  0.5 0.  0.  0. ]\n",
      " [0.  0.  0.  0.  0.  0.5 0.  0. ]\n",
      " [0.  0.5 0.  0.  0.  0.  0.  0. ]\n",
      " [0.5 0.  0.  0.  0.  0.  0.  0. ]\n",
      " [0.  0.  0.5 0.  0.  0.  0.  0. ]\n",
      " [0.  0.  0.  0.5 0.  0.  0.  0. ]]\n",
      "\n",
      "Matrix index\n",
      "[-4. -3. -2. -1.  1.  3.  4.  5.]\n"
     ]
    }
   ],
   "source": [
    "print( \"ASTM simple range counting matrix\" )\n",
    "print( asrcmMat )\n",
    "print()\n",
    "print( \"Matrix index\" )\n",
    "print( asrcmIndex )"
   ]
  },
  {
   "cell_type": "code",
   "execution_count": 5,
   "id": "f24d1b16-5071-48a5-ad86-ca7971a8373a",
   "metadata": {},
   "outputs": [
    {
     "data": {
      "text/plain": [
       "<Figure size 400x320 with 0 Axes>"
      ]
     },
     "metadata": {},
     "output_type": "display_data"
    },
    {
     "data": {
      "image/png": "[encoded data removed]",
      "text/plain": [
       "<Figure size 400x320 with 2 Axes>"
      ]
     },
     "metadata": {},
     "output_type": "display_data"
    }
   ],
   "source": [
    "plt.set_cmap( \"viridis_r\" )\n",
    "fig, ax = plt.subplots()\n",
    "\n",
    "cax = ax.matshow( asrcmMat )\n",
    "\n",
    "ax.tick_params( axis='x', direction=\"in\", length=5, top=False, bottom=False )\n",
    "ax.tick_params( axis='y', direction=\"in\", length=5, left=False, right=False )\n",
    "ax.tick_params( axis='x', which=\"minor\", top=False, bottom=False )\n",
    "ax.tick_params( axis='y', which=\"minor\", left=False, right=False )\n",
    "ax.set_xticklabels( [ '' ] + asrcmIndex.tolist() )\n",
    "ax.set_yticklabels( [ '' ] + asrcmIndex.tolist() )\n",
    "ax.set_xticks( np.arange( -.5, len( asrcmIndex ), 1 ), minor=True )\n",
    "ax.set_yticks( np.arange( -.5, len( asrcmIndex ), 1 ), minor=True )\n",
    "ax.grid( which=\"minor\", color='w', linestyle='-', linewidth=2 )\n",
    "ax.set_ylabel( \"From\" )\n",
    "ax.set_xlabel( \"To\" )\n",
    "ax.xaxis.set_label_position( \"top\" )\n",
    "ax.set_title( \"ASTM simple range counting matrix\", y=-0.15 )\n",
    "\n",
    "fig.colorbar(cax)\n",
    "plt.tight_layout()\n",
    "plt.show()"
   ]
  },
  {
   "cell_type": "markdown",
   "id": "db8e6698-97e4-4267-ad0f-5c2863111830",
   "metadata": {},
   "source": [
    "### ASTM rainflow counting matrix"
   ]
  },
  {
   "cell_type": "markdown",
   "id": "1e70075c-ad86-4c4f-84db-97d300037fbe",
   "metadata": {},
   "source": [
    "#### Function help"
   ]
  },
  {
   "cell_type": "code",
   "execution_count": 6,
   "id": "199af94c-a98d-401a-a80c-3b436581032e",
   "metadata": {},
   "outputs": [
    {
     "name": "stdout",
     "output_type": "stream",
     "text": [
      "Help on function astmRainflowCountingMatrix in module ffpack.lsm.cycleCountingMatrix:\n",
      "\n",
      "astmRainflowCountingMatrix(data, resolution=0.5)\n",
      "    Calculate ASTM rainflow counting matrix.\n",
      "    \n",
      "    Parameters\n",
      "    ----------\n",
      "    data: 1d array\n",
      "        Sequence data to calculate rainflow counting matrix.\n",
      "    resolution: bool, optional\n",
      "        The desired resolution to round the data points.\n",
      "    \n",
      "    Returns\n",
      "    -------\n",
      "    rst: 2d array\n",
      "        A matrix contains the counting results.\n",
      "    \n",
      "    Raises\n",
      "    ------\n",
      "    ValueError\n",
      "        If the data dimension is not 1.\n",
      "        If the data length is less than 2.\n",
      "    \n",
      "    Notes\n",
      "    -----\n",
      "    The default round function will round half to even: 1.5, 2.5 => 2.0:\n",
      "    \n",
      "    Examples\n",
      "    --------\n",
      "    >>> from ffpack.lsm import astmRainflowCountingMatrix\n",
      "    >>> data = [ -2.0, 1.0, -3.0, 5.0, -1.0, 3.0, -4.0, 4.0, -2.0 ]\n",
      "    >>> rst = astmRainflowCountingMatrix( data )\n",
      "\n"
     ]
    }
   ],
   "source": [
    "from ffpack.lsm import astmRainflowCountingMatrix\n",
    "help( astmRainflowCountingMatrix )"
   ]
  },
  {
   "cell_type": "markdown",
   "id": "5113d8f0-1d72-455c-b797-a931ae8d7a46",
   "metadata": {},
   "source": [
    "#### Example with default values"
   ]
  },
  {
   "cell_type": "code",
   "execution_count": 7,
   "id": "80b5a3cc-0b65-43dd-ab3c-67c6d861f028",
   "metadata": {},
   "outputs": [],
   "source": [
    "arcmData = [ -2.0, 1.0, -3.0, 5.0, -1.0, 3.0, -4.0, 4.0, -2.0 ]\n",
    "arcmMat, arcmIndex = astmRainflowCountingMatrix( arcmData )\n",
    "\n",
    "arcmMat = np.array( arcmMat )\n",
    "arcmIndex = np.array( arcmIndex ).astype( float )"
   ]
  },
  {
   "cell_type": "code",
   "execution_count": 8,
   "id": "7728d376-1eb1-4c53-bbcb-22f88034f2f8",
   "metadata": {},
   "outputs": [
    {
     "name": "stdout",
     "output_type": "stream",
     "text": [
      "ASTM rainflow counting matrix\n",
      "[[0.  0.  0.  0.  0.  0.  0.5 0. ]\n",
      " [0.  0.  0.  0.  0.  0.  0.  0.5]\n",
      " [0.  0.  0.  0.  0.5 0.  0.  0. ]\n",
      " [0.  0.  0.  0.  0.  1.  0.  0. ]\n",
      " [0.  0.5 0.  0.  0.  0.  0.  0. ]\n",
      " [0.  0.  0.  0.  0.  0.  0.  0. ]\n",
      " [0.  0.  0.5 0.  0.  0.  0.  0. ]\n",
      " [0.5 0.  0.  0.  0.  0.  0.  0. ]]\n",
      "\n",
      "Matrix index\n",
      "[-4. -3. -2. -1.  1.  3.  4.  5.]\n"
     ]
    }
   ],
   "source": [
    "print( \"ASTM rainflow counting matrix\" )\n",
    "print( arcmMat )\n",
    "print()\n",
    "print( \"Matrix index\" )\n",
    "print( arcmIndex )"
   ]
  },
  {
   "cell_type": "code",
   "execution_count": 9,
   "id": "c27a6799-3412-442e-afbd-24b76cb992e2",
   "metadata": {},
   "outputs": [
    {
     "data": {
      "text/plain": [
       "<Figure size 400x320 with 0 Axes>"
      ]
     },
     "metadata": {},
     "output_type": "display_data"
    },
    {
     "data": {
      "image/png": "[encoded data removed]",
      "text/plain": [
       "<Figure size 400x320 with 2 Axes>"
      ]
     },
     "metadata": {},
     "output_type": "display_data"
    }
   ],
   "source": [
    "plt.set_cmap( \"viridis_r\")\n",
    "fig, ax = plt.subplots()\n",
    "\n",
    "cax = ax.matshow( arcmMat )\n",
    "\n",
    "ax.tick_params( axis='x', direction=\"in\", length=5, top=False, bottom=False )\n",
    "ax.tick_params( axis='y', direction=\"in\", length=5, left=False, right=False )\n",
    "ax.tick_params( axis='x', which=\"minor\", top=False, bottom=False )\n",
    "ax.tick_params( axis='y', which=\"minor\", left=False, right=False )\n",
    "ax.set_xticklabels( [ '' ] + arcmIndex.tolist() )\n",
    "ax.set_yticklabels( [ '' ] + arcmIndex.tolist() )\n",
    "ax.set_xticks( np.arange( -.5, len( arcmIndex ), 1 ), minor=True )\n",
    "ax.set_yticks( np.arange( -.5, len( arcmIndex ), 1 ), minor=True )\n",
    "ax.grid( which=\"minor\", color='w', linestyle='-', linewidth=2 )\n",
    "ax.set_ylabel( \"From\" )\n",
    "ax.set_xlabel( \"To\" )\n",
    "ax.xaxis.set_label_position( \"top\" )\n",
    "ax.set_title( \"ASTM rainflow counting matrix\", y=-0.15 )\n",
    "\n",
    "fig.colorbar( cax )\n",
    "plt.tight_layout()\n",
    "plt.show()"
   ]
  },
  {
   "cell_type": "markdown",
   "id": "24e709e9-4d8a-45c6-8e03-eae3eefb3bb3",
   "metadata": {},
   "source": [
    "### Rychlik rainflow counting matrix"
   ]
  },
  {
   "cell_type": "markdown",
   "id": "358f6a38-ad78-4a7a-bcc7-bfb7a28b07bc",
   "metadata": {},
   "source": [
    "#### Function help"
   ]
  },
  {
   "cell_type": "code",
   "execution_count": 10,
   "id": "bbac20af-0ec9-4e12-98ce-5388d06274af",
   "metadata": {},
   "outputs": [
    {
     "name": "stdout",
     "output_type": "stream",
     "text": [
      "Help on function rychlikRainflowCountingMatrix in module ffpack.lsm.cycleCountingMatrix:\n",
      "\n",
      "rychlikRainflowCountingMatrix(data, resolution=0.5)\n",
      "    Calculate Rychlik rainflow counting matrix.\n",
      "    \n",
      "    Parameters\n",
      "    ----------\n",
      "    data: 1d array\n",
      "        Sequence data to calculate rainflow counting matrix.\n",
      "    resolution: bool, optional\n",
      "        The desired resolution to round the data points.\n",
      "    \n",
      "    Returns\n",
      "    -------\n",
      "    rst: 2d array\n",
      "        A matrix contains the counting results.\n",
      "    \n",
      "    Raises\n",
      "    ------\n",
      "    ValueError\n",
      "        If the data dimension is not 1.\n",
      "        If the data length is less than 2.\n",
      "    \n",
      "    Notes\n",
      "    -----\n",
      "    The default round function will round half to even: 1.5, 2.5 => 2.0:\n",
      "    \n",
      "    Examples\n",
      "    --------\n",
      "    >>> from ffpack.lsm import astmRainflowCountingMatrix\n",
      "    >>> data = [ -2.0, 1.0, -3.0, 5.0, -1.0, 3.0, -4.0, 4.0, -2.0 ]\n",
      "    >>> rst = astmRainflowCountingMatrix( data )\n",
      "\n"
     ]
    }
   ],
   "source": [
    "from ffpack.lsm import rychlikRainflowCountingMatrix\n",
    "help( rychlikRainflowCountingMatrix )"
   ]
  },
  {
   "cell_type": "markdown",
   "id": "e2087799-f094-4851-a471-e194b9f590cb",
   "metadata": {},
   "source": [
    "#### Example with default values"
   ]
  },
  {
   "cell_type": "code",
   "execution_count": 11,
   "id": "fde8a36d-10d6-4ed4-8744-76c8364d27ad",
   "metadata": {},
   "outputs": [],
   "source": [
    "rrcmData = [ -2.0, 1.0, -3.0, 5.0, -1.0, 3.0, -4.0, 4.0, -2.0 ]\n",
    "rrcmMat, rrcmIndex = rychlikRainflowCountingMatrix( rrcmData )\n",
    "\n",
    "rrcmMat = np.array( rrcmMat )\n",
    "rrcmIndex = np.array( rrcmIndex ).astype( float )"
   ]
  },
  {
   "cell_type": "code",
   "execution_count": 12,
   "id": "417e61cf-c5a5-43aa-b604-92724a409482",
   "metadata": {},
   "outputs": [
    {
     "name": "stdout",
     "output_type": "stream",
     "text": [
      "Rychlik rainflow counting matrix\n",
      "[[0. 0. 0. 0. 0. 0. 1.]\n",
      " [0. 0. 0. 1. 0. 1. 0.]\n",
      " [0. 0. 0. 0. 1. 0. 0.]\n",
      " [0. 0. 0. 0. 0. 0. 0.]\n",
      " [0. 0. 0. 0. 0. 0. 0.]\n",
      " [0. 0. 0. 0. 0. 0. 0.]\n",
      " [0. 0. 0. 0. 0. 0. 0.]]\n",
      "\n",
      "Matrix index\n",
      "[-3. -2. -1.  1.  3.  4.  5.]\n"
     ]
    }
   ],
   "source": [
    "print( \"Rychlik rainflow counting matrix\" )\n",
    "print( rrcmMat )\n",
    "print()\n",
    "print( \"Matrix index\" )\n",
    "print( rrcmIndex )"
   ]
  },
  {
   "cell_type": "code",
   "execution_count": 13,
   "id": "f54376da-7988-4a8d-a61b-cd569016860a",
   "metadata": {},
   "outputs": [
    {
     "data": {
      "text/plain": [
       "<Figure size 400x320 with 0 Axes>"
      ]
     },
     "metadata": {},
     "output_type": "display_data"
    },
    {
     "data": {
      "image/png": "[encoded data removed]",
      "text/plain": [
       "<Figure size 400x320 with 2 Axes>"
      ]
     },
     "metadata": {},
     "output_type": "display_data"
    }
   ],
   "source": [
    "plt.set_cmap( \"viridis_r\" )\n",
    "fig, ax = plt.subplots()\n",
    "\n",
    "cax = ax.matshow( rrcmMat )\n",
    "\n",
    "ax.tick_params( axis='x', direction=\"in\", length=5, top=False, bottom=False )\n",
    "ax.tick_params( axis='y', direction=\"in\", length=5, left=False, right=False )\n",
    "ax.tick_params( axis='x', which=\"minor\", top=False, bottom=False )\n",
    "ax.tick_params( axis='y', which=\"minor\", left=False, right=False )\n",
    "ax.set_xticklabels( [ '' ] + rrcmIndex.tolist() )\n",
    "ax.set_yticklabels( [ '' ] + rrcmIndex.tolist() )\n",
    "ax.set_xticks( np.arange( -.5, len( rrcmIndex ), 1 ), minor=True )\n",
    "ax.set_yticks( np.arange( -.5, len( rrcmIndex ), 1 ), minor=True )\n",
    "ax.grid( which=\"minor\", color='w', linestyle='-', linewidth=2 )\n",
    "ax.set_ylabel( \"From\" )\n",
    "ax.set_xlabel( \"To\" )\n",
    "ax.xaxis.set_label_position( \"top\" )\n",
    "ax.set_title( \"Rychlik rainflow counting matrix\", y=-0.15 )\n",
    "\n",
    "fig.colorbar( cax )\n",
    "plt.tight_layout()\n",
    "plt.show()"
   ]
  }
 ],
 "metadata": {
  "kernelspec": {
   "display_name": "Python 3 (ipykernel)",
   "language": "python",
   "name": "python3"
  },
  "language_info": {
   "codemirror_mode": {
    "name": "ipython",
    "version": 3
   },
   "file_extension": ".py",
   "mimetype": "text/x-python",
   "name": "python",
   "nbconvert_exporter": "python",
   "pygments_lexer": "ipython3",
   "version": "3.9.13"
  }
 },
 "nbformat": 4,
 "nbformat_minor": 5
}
