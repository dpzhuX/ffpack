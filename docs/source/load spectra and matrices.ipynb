{
 "cells": [
  {
   "cell_type": "markdown",
   "id": "9c6d01b4-83a4-43bc-9f3c-f6b951611410",
   "metadata": {},
   "source": [
    "# Load spectra and matrices ( lsm )"
   ]
  },
  {
   "cell_type": "code",
   "execution_count": 1,
   "id": "bcaa107e-ba1a-4c03-9272-37db44f208d9",
   "metadata": {},
   "outputs": [],
   "source": [
    "# Import auxiliary libraries for demonstration\n",
    "\n",
    "import matplotlib as mpl\n",
    "import matplotlib.pyplot as plt\n",
    "import numpy as np\n",
    "import warnings\n",
    "\n",
    "plt.rcParams[ \"figure.figsize\" ] = [ 5, 4 ]\n",
    "\n",
    "plt.rcParams[ \"figure.dpi\" ] = 80\n",
    "plt.rcParams[ \"font.family\" ] = \"Times New Roman\"\n",
    "plt.rcParams[ \"font.size\" ] = '14'\n",
    "\n",
    "# Filter the plot warning\n",
    "warnings.filterwarnings( \"ignore\" )"
   ]
  },
  {
   "cell_type": "markdown",
   "id": "d378033f-faea-4eb7-9157-9cf7825ec857",
   "metadata": {},
   "source": [
    "## Wave spectra"
   ]
  },
  {
   "cell_type": "markdown",
   "id": "a19f5d28-f9f6-4bc3-a692-71e868de801f",
   "metadata": {},
   "source": [
    "### Jonswap Spectrum"
   ]
  },
  {
   "cell_type": "markdown",
   "id": "339376d9-c9a7-47a0-9a9d-b9800668bd2f",
   "metadata": {},
   "source": [
    "The Jonswap spectrum can be expressed,\n",
    "\n",
    "$$\n",
    "S(\\omega) = \\frac{\\alpha g^2}{\\omega^5} \\exp{\\left[ -\\beta \\left( \\frac{\\omega_p}{\\omega} \\right) \\right]} \\gamma^r\n",
    "$$\n",
    "\n",
    "$$\n",
    "r = \\exp{\\left[ -\\frac{(\\omega - \\omega_p)^2}{ 2 \\sigma^2 \\omega_p^2 } \\right]}\n",
    "$$\n",
    "\n",
    "where $\\omega$ is the wave frequence; $\\omega_p$ is the peak frequency; $\\alpha$ is the intensity of the spectrum, default value = 0.0081; $\\beta$ is the shape factor, default value = 1.25; $\\gamma$ is the peak enhancement factor, default value = 3.3; $g$ is the acceleration due to gravity, default value = 9.81.\n",
    "\n",
    "Usually, the input paramters can be determined by the following equation from the JONSWAP experiment,\n",
    "\n",
    "$$\n",
    "\\omega_p = 22 \\left( \\frac{g^2}{U_w F} \\right) ^ {1/3}\n",
    "$$\n",
    "\n",
    "where $U_w$ is the wind speed at 10m above the sea surface; $F$ is the distance from a lee shore.\n",
    "\n",
    "$$\n",
    "\\alpha = 0.076 \\left( \\frac{ U_w^2}{g F} \\right)^{0.22}\n",
    "$$\n",
    "\n",
    "where $\\omega_p$ is the peak frequency; $U_w$ is the wind speed at 10m above the sea surface.\n",
    "\n",
    "$$\n",
    "\\beta = \\frac{5}{4}\n",
    "$$\n",
    "\n",
    "$$\n",
    "\\gamma = 3.3\n",
    "$$\n",
    "\n",
    "Function `jonswapSpectrum` implements the Jonswap sepctrum.\n",
    "\n",
    "Reference: Hasselmann, K., Barnett, T.P., Bouws, E., Carlson, H., Cartwright, D.E., Enke, K., Ewing, J.A., Gienapp, A., Hasselmann, D.E., Kruseman, P. and Meerburg, A., 1973. Measurements of wind-wave growth and swell decay during the Joint North Sea Wave Project (JONSWAP). Ergaenzungsheft zur Deutschen Hydrographischen Zeitschrift, Reihe A."
   ]
  },
  {
   "cell_type": "markdown",
   "id": "fae4e008-eba9-427b-8bb8-d9d4dbdaaaeb",
   "metadata": {},
   "source": [
    "#### Function help"
   ]
  },
  {
   "cell_type": "code",
   "execution_count": 2,
   "id": "ba6c5cb5-8e99-4735-b791-b10680f41c25",
   "metadata": {},
   "outputs": [
    {
     "name": "stdout",
     "output_type": "stream",
     "text": [
      "Help on function jonswapSpectrum in module ffpack.lsm.waveSpectra:\n",
      "\n",
      "jonswapSpectrum(w, wp, alpha=0.0081, beta=1.25, gamma=3.3, g=9.81)\n",
      "    JONSWAP (Joint North Sea Wave Project) spectrum is an empirical relationship \n",
      "    that defines the distribution of energy with frequency within the ocean.\n",
      "    \n",
      "    Parameters\n",
      "    ----------\n",
      "    w: scalar\n",
      "        Wave frequency.\n",
      "    wp: scalar\n",
      "        Peak wave frequency.\n",
      "    alpha: scalar, optional\n",
      "        Intensity of the Spectra.\n",
      "    beta: scalar, optional\n",
      "        Shape factor, fixed value 1.25.\n",
      "    gamma: scalar, optional\n",
      "        Peak enhancement factor.\n",
      "    g: scalar, optional\n",
      "        Acceleration due to gravity, a constant.\n",
      "        9.81 m/s2 in SI units.\n",
      "    \n",
      "    Returns\n",
      "    -------\n",
      "    rst: scalar\n",
      "        The wave spectrum density value at wave frequency w.\n",
      "    \n",
      "    Raises\n",
      "    ------\n",
      "    ValueError\n",
      "        If w is not a scalar.\n",
      "        If wp is not a scalar.\n",
      "    \n",
      "    Examples\n",
      "    --------\n",
      "    >>> from ffpack.lsm import jonswapSpectrum\n",
      "    >>> w = 0.02\n",
      "    >>> wp = 0.51\n",
      "    >>> rst = jonswapSpectrum( w, wp, alpha=0.0081, beta=1.25, gamma=3.3, g=9.81 )\n",
      "\n"
     ]
    }
   ],
   "source": [
    "from ffpack.lsm import jonswapSpectrum\n",
    "help( jonswapSpectrum )"
   ]
  },
  {
   "cell_type": "markdown",
   "id": "cdca8a6e-7d99-4b8f-bc70-efa0b5ee2f29",
   "metadata": {},
   "source": [
    "#### Example with default values"
   ]
  },
  {
   "cell_type": "code",
   "execution_count": 3,
   "id": "58b46b38-81c1-4e19-81a7-12c294b56e10",
   "metadata": {},
   "outputs": [],
   "source": [
    "jsfRange = np.linspace( 0.0, 1.2, num=121 )"
   ]
  },
  {
   "cell_type": "code",
   "execution_count": 4,
   "id": "da5655aa-7cd6-43cd-ab8e-1183d3f90b48",
   "metadata": {},
   "outputs": [],
   "source": [
    "wp = 0.51\n",
    "jsfResults = [ jonswapSpectrum( w, wp ) for w in jsfRange ]"
   ]
  },
  {
   "cell_type": "code",
   "execution_count": 5,
   "id": "251001fe-4cf1-4e94-8310-204ec74c4093",
   "metadata": {},
   "outputs": [
    {
     "data": {
      "image/png": "[encoded data removed]",
      "text/plain": [
       "<Figure size 400x320 with 1 Axes>"
      ]
     },
     "metadata": {},
     "output_type": "display_data"
    }
   ],
   "source": [
    "fig, ax = plt.subplots()\n",
    "\n",
    "ax.plot( np.array( jsfRange ),\n",
    "         np.array( jsfResults ) )\n",
    "\n",
    "ax.tick_params(axis='x', direction=\"in\", length=5)\n",
    "ax.tick_params(axis='y', direction=\"in\", length=5)\n",
    "ax.set_ylabel( \"$S(\\omega)$\" )\n",
    "ax.set_xlabel( \"$\\omega$\" )\n",
    "ax.set_title( \"Jonswap spectrum\" )\n",
    "\n",
    "plt.tight_layout()\n",
    "plt.show()"
   ]
  },
  {
   "cell_type": "markdown",
   "id": "096b4ec4-ccdf-4cf9-97e9-f306ea795d37",
   "metadata": {},
   "source": [
    "### Pierson Moskowitz Spectrum"
   ]
  },
  {
   "cell_type": "markdown",
   "id": "dbe10f69-efd7-4e02-9d39-4d605e7b1412",
   "metadata": {},
   "source": [
    "The Pierson Moskowitz spectrum can be expressed,\n",
    "\n",
    "$$\n",
    "S(\\omega) = \\frac{\\alpha g^2}{\\omega^5} \\exp{\\left[ -\\beta \\left( \\frac{\\omega_0}{\\omega} \\right) \\right]} \\gamma^r\n",
    "$$\n",
    "\n",
    "where $\\alpha$ is the intensity of the spectrum, default value = 0.0081; $\\beta$ is the shape factor, default value = 0.74.\n",
    "\n",
    "$$\n",
    "\\omega_0 = \\frac{g}{U_w}\n",
    "$$\n",
    "\n",
    "where $g$ is the acceleration due to gravity, default value = 9.81; $U_w$ is the wind speed at 19.5m above the sea surface.\n",
    "\n",
    "Reference: Pierson Jr, W.J. and Moskowitz, L., 1964. A proposed spectral form for fully developed wind seas based on the similarity theory of SA Kitaigorodskii. Journal of geophysical research, 69(24), pp.5181-5190."
   ]
  },
  {
   "cell_type": "markdown",
   "id": "2c4d7e39-06e1-4158-bb19-a6068d4ff5a5",
   "metadata": {},
   "source": [
    "#### Function help"
   ]
  },
  {
   "cell_type": "code",
   "execution_count": 6,
   "id": "bcc871dd-9795-4246-ba00-80bac59d25f0",
   "metadata": {},
   "outputs": [
    {
     "name": "stdout",
     "output_type": "stream",
     "text": [
      "Help on function piersonMoskowitzSpectrum in module ffpack.lsm.waveSpectra:\n",
      "\n",
      "piersonMoskowitzSpectrum(w, Uw, alpha=0.0081, beta=0.74, g=9.81)\n",
      "    Pierson Moskowitz spectrum is an empirical relationship \n",
      "    that defines the distribution of energy with frequency within the ocean.\n",
      "    \n",
      "    Parameters\n",
      "    ----------\n",
      "    w: scalar\n",
      "        Wave frequency.\n",
      "    Uw: scalar\n",
      "        Wind speed at a height of 19.5m above the sea surface.\n",
      "    alpha: scalar, optional\n",
      "        Intensity of the Spectra.\n",
      "    beta: scalar, optional\n",
      "        Shape factor.\n",
      "    g: scalar, optional\n",
      "        Acceleration due to gravity, a constant.\n",
      "        9.81 m/s2 in SI units.\n",
      "    \n",
      "    Returns\n",
      "    -------\n",
      "    rst: scalar\n",
      "        The wave spectrum density value at wave frequency w.\n",
      "    \n",
      "    Raises\n",
      "    ------\n",
      "    ValueError\n",
      "        If w is not a scalar.\n",
      "        If wp is not a scalar.\n",
      "    \n",
      "    Examples\n",
      "    --------\n",
      "    >>> from ffpack.lsm import piersonMoskowitzSpectrum\n",
      "    >>> w = 0.51\n",
      "    >>> Uw = 20\n",
      "    >>> rst = piersonMoskowitzSpectrum( w, Uw, alpha=0.0081, beta=1.25, gamma=3.3, g=9.81 )\n",
      "\n"
     ]
    }
   ],
   "source": [
    "from ffpack.lsm import piersonMoskowitzSpectrum\n",
    "help( piersonMoskowitzSpectrum )"
   ]
  },
  {
   "cell_type": "markdown",
   "id": "b4e3bd17-d01e-4b6d-a062-5a287cfce73c",
   "metadata": {},
   "source": [
    "#### Example with default values"
   ]
  },
  {
   "cell_type": "code",
   "execution_count": 7,
   "id": "6d87b0fc-77a1-433a-a298-4421a07eaed4",
   "metadata": {},
   "outputs": [],
   "source": [
    "pmsfRange = np.linspace( 0.0, 1.2, num=121 )"
   ]
  },
  {
   "cell_type": "code",
   "execution_count": 8,
   "id": "850145eb-920b-4ba8-9bbe-207c52a1e6e1",
   "metadata": {},
   "outputs": [],
   "source": [
    "Uw = 20\n",
    "pmsfResults = [ piersonMoskowitzSpectrum( w, Uw ) for w in pmsfRange ]"
   ]
  },
  {
   "cell_type": "code",
   "execution_count": 9,
   "id": "f6372b93-c7ac-4451-95f3-7772fb19b158",
   "metadata": {},
   "outputs": [
    {
     "data": {
      "image/png": "[encoded data removed]",
      "text/plain": [
       "<Figure size 400x320 with 1 Axes>"
      ]
     },
     "metadata": {},
     "output_type": "display_data"
    }
   ],
   "source": [
    "fig, ax = plt.subplots()\n",
    "\n",
    "ax.plot( np.array( pmsfRange ),\n",
    "         np.array( pmsfResults ) )\n",
    "\n",
    "ax.tick_params(axis='x', direction=\"in\", length=5)\n",
    "ax.tick_params(axis='y', direction=\"in\", length=5)\n",
    "ax.set_ylabel( \"$S(\\omega)$\" )\n",
    "ax.set_xlabel( \"$\\omega$\" )\n",
    "ax.set_title( \"Pierson Moskowitz spectrum\" )\n",
    "\n",
    "plt.tight_layout()\n",
    "plt.show()"
   ]
  },
  {
   "cell_type": "markdown",
   "id": "38f2e7d2-7fb2-4673-a72b-ec70468d569b",
   "metadata": {},
   "source": [
    "## Cycle counting matrix"
   ]
  },
  {
   "cell_type": "markdown",
   "id": "c450a7ae-5a6e-4bf1-9131-e475ff751cb6",
   "metadata": {},
   "source": [
    "### ASTM simple range counting matrix"
   ]
  },
  {
   "cell_type": "markdown",
   "id": "68efb63f-2fd7-467a-a52c-75b461af035f",
   "metadata": {},
   "source": [
    "#### Function help"
   ]
  },
  {
   "cell_type": "code",
   "execution_count": 10,
   "id": "8fd01cbc-bf00-4d3d-857a-0ff572405eee",
   "metadata": {},
   "outputs": [
    {
     "name": "stdout",
     "output_type": "stream",
     "text": [
      "Help on function astmSimpleRangeCountingMatrix in module ffpack.lsm.cycleCountingMatrix:\n",
      "\n",
      "astmSimpleRangeCountingMatrix(data, resolution=0.5)\n",
      "    Calculate ASTM simple range counting matrix.\n",
      "    \n",
      "    Parameters\n",
      "    ----------\n",
      "    data: 1d array\n",
      "        Sequence data to calculate range counting matrix.\n",
      "    resolution: bool, optional\n",
      "        The desired resolution to round the data points.\n",
      "    \n",
      "    Returns\n",
      "    -------\n",
      "    rst: 2d array\n",
      "        A matrix contains the counting results.\n",
      "    matrixIndexKey: 1d array\n",
      "        A sorted array contains the index keys for the counting matrix.\n",
      "    \n",
      "    Raises\n",
      "    ------\n",
      "    ValueError\n",
      "        If the data dimension is not 1.\n",
      "        If the data length is less than 2.\n",
      "    \n",
      "    Notes\n",
      "    -----\n",
      "    The default round function will round half to even: 1.5, 2.5 => 2.0.\n",
      "    \n",
      "    Examples\n",
      "    --------\n",
      "    >>> from ffpack.lsm import astmSimpleRangeCountingMatrix\n",
      "    >>> data = [ -2.0, 1.0, -3.0, 5.0, -1.0, 3.0, -4.0, 4.0, -2.0 ]\n",
      "    >>> rst, matrixIndexKey = astmSimpleRangeCountingMatrix( data )\n",
      "\n"
     ]
    }
   ],
   "source": [
    "from ffpack.lsm import astmSimpleRangeCountingMatrix\n",
    "help( astmSimpleRangeCountingMatrix )"
   ]
  },
  {
   "cell_type": "markdown",
   "id": "3092c581-96e0-4617-be46-2584a2c9266e",
   "metadata": {},
   "source": [
    "#### Example with default values"
   ]
  },
  {
   "cell_type": "code",
   "execution_count": 11,
   "id": "9c5687cf-0859-43ad-be83-3b3a21fd024d",
   "metadata": {},
   "outputs": [],
   "source": [
    "asrcmData = [ -2.0, 1.0, -3.0, 5.0, -1.0, 3.0, -4.0, 4.0, -2.0 ]\n",
    "asrcmMat, asrcmIndex = astmSimpleRangeCountingMatrix( asrcmData )\n",
    "\n",
    "asrcmMat = np.array( asrcmMat )\n",
    "asrcmIndex = np.array( asrcmIndex ).astype( float )"
   ]
  },
  {
   "cell_type": "code",
   "execution_count": 12,
   "id": "2a43dd8e-4144-4b21-9543-06ce98e3ebbc",
   "metadata": {},
   "outputs": [
    {
     "name": "stdout",
     "output_type": "stream",
     "text": [
      "ASTM simple range counting matrix\n",
      "[[0.  0.  0.  0.  0.  0.  0.5 0. ]\n",
      " [0.  0.  0.  0.  0.  0.  0.  0.5]\n",
      " [0.  0.  0.  0.  0.5 0.  0.  0. ]\n",
      " [0.  0.  0.  0.  0.  0.5 0.  0. ]\n",
      " [0.  0.5 0.  0.  0.  0.  0.  0. ]\n",
      " [0.5 0.  0.  0.  0.  0.  0.  0. ]\n",
      " [0.  0.  0.5 0.  0.  0.  0.  0. ]\n",
      " [0.  0.  0.  0.5 0.  0.  0.  0. ]]\n",
      "\n",
      "Matrix index\n",
      "[-4. -3. -2. -1.  1.  3.  4.  5.]\n"
     ]
    }
   ],
   "source": [
    "print( \"ASTM simple range counting matrix\" )\n",
    "print( asrcmMat )\n",
    "print()\n",
    "print( \"Matrix index\" )\n",
    "print( asrcmIndex )"
   ]
  },
  {
   "cell_type": "code",
   "execution_count": 13,
   "id": "f24d1b16-5071-48a5-ad86-ca7971a8373a",
   "metadata": {},
   "outputs": [
    {
     "data": {
      "text/plain": [
       "<Figure size 400x320 with 0 Axes>"
      ]
     },
     "metadata": {},
     "output_type": "display_data"
    },
    {
     "data": {
      "image/png": "[encoded data removed]",
      "text/plain": [
       "<Figure size 400x320 with 2 Axes>"
      ]
     },
     "metadata": {},
     "output_type": "display_data"
    }
   ],
   "source": [
    "plt.set_cmap( \"viridis_r\" )\n",
    "fig, ax = plt.subplots()\n",
    "\n",
    "cax = ax.matshow( asrcmMat )\n",
    "\n",
    "ax.tick_params( axis='x', direction=\"in\", length=5, top=False, bottom=False )\n",
    "ax.tick_params( axis='y', direction=\"in\", length=5, left=False, right=False )\n",
    "ax.tick_params( axis='x', which=\"minor\", top=False, bottom=False )\n",
    "ax.tick_params( axis='y', which=\"minor\", left=False, right=False )\n",
    "ax.set_xticklabels( [ '' ] + asrcmIndex.tolist() )\n",
    "ax.set_yticklabels( [ '' ] + asrcmIndex.tolist() )\n",
    "ax.set_xticks( np.arange( -.5, len( asrcmIndex ), 1 ), minor=True )\n",
    "ax.set_yticks( np.arange( -.5, len( asrcmIndex ), 1 ), minor=True )\n",
    "ax.grid( which=\"minor\", color='w', linestyle='-', linewidth=2 )\n",
    "ax.set_ylabel( \"From\" )\n",
    "ax.set_xlabel( \"To\" )\n",
    "ax.xaxis.set_label_position( \"top\" )\n",
    "ax.set_title( \"ASTM simple range counting matrix\", y=-0.15 )\n",
    "\n",
    "fig.colorbar(cax)\n",
    "plt.tight_layout()\n",
    "plt.show()"
   ]
  },
  {
   "cell_type": "markdown",
   "id": "5ec28b09-64d1-4270-b410-10a64c530c7a",
   "metadata": {},
   "source": [
    "### ASTM range pair counting matrix"
   ]
  },
  {
   "cell_type": "markdown",
   "id": "212a17d0-19fc-41a0-944a-a07369882b2b",
   "metadata": {},
   "source": [
    "#### Function help"
   ]
  },
  {
   "cell_type": "code",
   "execution_count": 14,
   "id": "470cb904-37d3-439d-acb2-3eabf566811a",
   "metadata": {},
   "outputs": [
    {
     "name": "stdout",
     "output_type": "stream",
     "text": [
      "Help on function astmRangePairCountingMatrix in module ffpack.lsm.cycleCountingMatrix:\n",
      "\n",
      "astmRangePairCountingMatrix(data, resolution=0.5)\n",
      "    Calculate ASTM range pair counting matrix.\n",
      "    \n",
      "    Parameters\n",
      "    ----------\n",
      "    data: 1d array\n",
      "        Sequence data to calculate range pair counting matrix.\n",
      "    resolution: bool, optional\n",
      "        The desired resolution to round the data points.\n",
      "    \n",
      "    Returns\n",
      "    -------\n",
      "    rst: 2d array\n",
      "        A matrix contains the counting results.\n",
      "    matrixIndexKey: 1d array\n",
      "        A sorted array contains the index keys for the counting matrix.\n",
      "    \n",
      "    Raises\n",
      "    ------\n",
      "    ValueError\n",
      "        If the data dimension is not 1.\n",
      "        If the data length is less than 2.\n",
      "    \n",
      "    Notes\n",
      "    -----\n",
      "    The default round function will round half to even: 1.5, 2.5 => 2.0:\n",
      "    \n",
      "    Examples\n",
      "    --------\n",
      "    >>> from ffpack.lsm import astmRangePairCountingMatrix\n",
      "    >>> data = [ -2.0, 1.0, -3.0, 5.0, -1.0, 3.0, -4.0, 4.0, -2.0 ]\n",
      "    >>> rst, matrixIndexKey = astmRangePairCountingMatrix( data )\n",
      "\n"
     ]
    }
   ],
   "source": [
    "from ffpack.lsm import astmRangePairCountingMatrix\n",
    "help( astmRangePairCountingMatrix )"
   ]
  },
  {
   "cell_type": "markdown",
   "id": "19a0f283-61e5-43c5-b9fe-23e1ee793f3d",
   "metadata": {},
   "source": [
    "#### Example with default values"
   ]
  },
  {
   "cell_type": "code",
   "execution_count": 15,
   "id": "9bb5410c-5dcc-4fb4-a0ce-b46b2817607e",
   "metadata": {},
   "outputs": [],
   "source": [
    "arpcmData = [ -2.0, 1.0, -3.0, 5.0, -1.0, 3.0, -4.0, 4.0, -2.0 ]\n",
    "arpcmMat, arpcmIndex = astmRangePairCountingMatrix( arpcmData )\n",
    "\n",
    "arpcmMat = np.array( arpcmMat )\n",
    "arpcmIndex = np.array( arpcmIndex ).astype( float )"
   ]
  },
  {
   "cell_type": "code",
   "execution_count": 16,
   "id": "a7c9ec71-2b7e-4781-adfa-e37583dc5527",
   "metadata": {},
   "outputs": [
    {
     "name": "stdout",
     "output_type": "stream",
     "text": [
      "ASTM range pair counting matrix\n",
      "[[0. 0. 0. 0. 0. 0. 1.]\n",
      " [0. 0. 0. 1. 0. 0. 0.]\n",
      " [0. 0. 0. 0. 1. 0. 0.]\n",
      " [0. 0. 0. 0. 0. 0. 0.]\n",
      " [0. 0. 0. 0. 0. 0. 0.]\n",
      " [0. 1. 0. 0. 0. 0. 0.]\n",
      " [0. 0. 0. 0. 0. 0. 0.]]\n",
      "\n",
      "Matrix index\n",
      "[-3. -2. -1.  1.  3.  4.  5.]\n"
     ]
    }
   ],
   "source": [
    "print( \"ASTM range pair counting matrix\" )\n",
    "print( arpcmMat )\n",
    "print()\n",
    "print( \"Matrix index\" )\n",
    "print( arpcmIndex )"
   ]
  },
  {
   "cell_type": "code",
   "execution_count": 17,
   "id": "fac6797a-f7cb-42b3-b461-20f3b3e92d09",
   "metadata": {},
   "outputs": [
    {
     "data": {
      "text/plain": [
       "<Figure size 400x320 with 0 Axes>"
      ]
     },
     "metadata": {},
     "output_type": "display_data"
    },
    {
     "data": {
      "image/png": "[encoded data removed]",
      "text/plain": [
       "<Figure size 400x320 with 2 Axes>"
      ]
     },
     "metadata": {},
     "output_type": "display_data"
    }
   ],
   "source": [
    "plt.set_cmap( \"viridis_r\" )\n",
    "fig, ax = plt.subplots()\n",
    "\n",
    "cax = ax.matshow( arpcmMat )\n",
    "\n",
    "ax.tick_params( axis='x', direction=\"in\", length=5, top=False, bottom=False )\n",
    "ax.tick_params( axis='y', direction=\"in\", length=5, left=False, right=False )\n",
    "ax.tick_params( axis='x', which=\"minor\", top=False, bottom=False )\n",
    "ax.tick_params( axis='y', which=\"minor\", left=False, right=False )\n",
    "ax.set_xticklabels( [ '' ] + arpcmIndex.tolist() )\n",
    "ax.set_yticklabels( [ '' ] + arpcmIndex.tolist() )\n",
    "ax.set_xticks( np.arange( -.5, len( arpcmIndex ), 1 ), minor=True )\n",
    "ax.set_yticks( np.arange( -.5, len( arpcmIndex ), 1 ), minor=True )\n",
    "ax.grid( which=\"minor\", color='w', linestyle='-', linewidth=2 )\n",
    "ax.set_ylabel( \"From\" )\n",
    "ax.set_xlabel( \"To\" )\n",
    "ax.xaxis.set_label_position( \"top\" )\n",
    "ax.set_title( \"ASTM range pair counting matrix\", y=-0.15 )\n",
    "\n",
    "fig.colorbar(cax)\n",
    "plt.tight_layout()\n",
    "plt.show()"
   ]
  },
  {
   "cell_type": "markdown",
   "id": "db8e6698-97e4-4267-ad0f-5c2863111830",
   "metadata": {},
   "source": [
    "### ASTM rainflow counting matrix"
   ]
  },
  {
   "cell_type": "markdown",
   "id": "1e70075c-ad86-4c4f-84db-97d300037fbe",
   "metadata": {},
   "source": [
    "#### Function help"
   ]
  },
  {
   "cell_type": "code",
   "execution_count": 18,
   "id": "199af94c-a98d-401a-a80c-3b436581032e",
   "metadata": {},
   "outputs": [
    {
     "name": "stdout",
     "output_type": "stream",
     "text": [
      "Help on function astmRainflowCountingMatrix in module ffpack.lsm.cycleCountingMatrix:\n",
      "\n",
      "astmRainflowCountingMatrix(data, resolution=0.5)\n",
      "    Calculate ASTM rainflow counting matrix.\n",
      "    \n",
      "    Parameters\n",
      "    ----------\n",
      "    data: 1d array\n",
      "        Sequence data to calculate rainflow counting matrix.\n",
      "    resolution: bool, optional\n",
      "        The desired resolution to round the data points.\n",
      "    \n",
      "    Returns\n",
      "    -------\n",
      "    rst: 2d array\n",
      "        A matrix contains the counting results.\n",
      "    matrixIndexKey: 1d array\n",
      "        A sorted array contains the index keys for the counting matrix.\n",
      "       \n",
      "    Raises\n",
      "    ------\n",
      "    ValueError\n",
      "        If the data dimension is not 1.\n",
      "        If the data length is less than 2.\n",
      "    \n",
      "    Notes\n",
      "    -----\n",
      "    The default round function will round half to even: 1.5, 2.5 => 2.0:\n",
      "    \n",
      "    Examples\n",
      "    --------\n",
      "    >>> from ffpack.lsm import astmRainflowCountingMatrix\n",
      "    >>> data = [ -2.0, 1.0, -3.0, 5.0, -1.0, 3.0, -4.0, 4.0, -2.0 ]\n",
      "    >>> rst, matrixIndexKey = astmRainflowCountingMatrix( data )\n",
      "\n"
     ]
    }
   ],
   "source": [
    "from ffpack.lsm import astmRainflowCountingMatrix\n",
    "help( astmRainflowCountingMatrix )"
   ]
  },
  {
   "cell_type": "markdown",
   "id": "5113d8f0-1d72-455c-b797-a931ae8d7a46",
   "metadata": {},
   "source": [
    "#### Example with default values"
   ]
  },
  {
   "cell_type": "code",
   "execution_count": 19,
   "id": "80b5a3cc-0b65-43dd-ab3c-67c6d861f028",
   "metadata": {},
   "outputs": [],
   "source": [
    "arcmData = [ -2.0, 1.0, -3.0, 5.0, -1.0, 3.0, -4.0, 4.0, -2.0 ]\n",
    "arcmMat, arcmIndex = astmRainflowCountingMatrix( arcmData )\n",
    "\n",
    "arcmMat = np.array( arcmMat )\n",
    "arcmIndex = np.array( arcmIndex ).astype( float )"
   ]
  },
  {
   "cell_type": "code",
   "execution_count": 20,
   "id": "7728d376-1eb1-4c53-bbcb-22f88034f2f8",
   "metadata": {},
   "outputs": [
    {
     "name": "stdout",
     "output_type": "stream",
     "text": [
      "ASTM rainflow counting matrix\n",
      "[[0.  0.  0.  0.  0.  0.  0.5 0. ]\n",
      " [0.  0.  0.  0.  0.  0.  0.  0.5]\n",
      " [0.  0.  0.  0.  0.5 0.  0.  0. ]\n",
      " [0.  0.  0.  0.  0.  1.  0.  0. ]\n",
      " [0.  0.5 0.  0.  0.  0.  0.  0. ]\n",
      " [0.  0.  0.  0.  0.  0.  0.  0. ]\n",
      " [0.  0.  0.5 0.  0.  0.  0.  0. ]\n",
      " [0.5 0.  0.  0.  0.  0.  0.  0. ]]\n",
      "\n",
      "Matrix index\n",
      "[-4. -3. -2. -1.  1.  3.  4.  5.]\n"
     ]
    }
   ],
   "source": [
    "print( \"ASTM rainflow counting matrix\" )\n",
    "print( arcmMat )\n",
    "print()\n",
    "print( \"Matrix index\" )\n",
    "print( arcmIndex )"
   ]
  },
  {
   "cell_type": "code",
   "execution_count": 21,
   "id": "c27a6799-3412-442e-afbd-24b76cb992e2",
   "metadata": {},
   "outputs": [
    {
     "data": {
      "text/plain": [
       "<Figure size 400x320 with 0 Axes>"
      ]
     },
     "metadata": {},
     "output_type": "display_data"
    },
    {
     "data": {
      "image/png": "[encoded data removed]",
      "text/plain": [
       "<Figure size 400x320 with 2 Axes>"
      ]
     },
     "metadata": {},
     "output_type": "display_data"
    }
   ],
   "source": [
    "plt.set_cmap( \"viridis_r\")\n",
    "fig, ax = plt.subplots()\n",
    "\n",
    "cax = ax.matshow( arcmMat )\n",
    "\n",
    "ax.tick_params( axis='x', direction=\"in\", length=5, top=False, bottom=False )\n",
    "ax.tick_params( axis='y', direction=\"in\", length=5, left=False, right=False )\n",
    "ax.tick_params( axis='x', which=\"minor\", top=False, bottom=False )\n",
    "ax.tick_params( axis='y', which=\"minor\", left=False, right=False )\n",
    "ax.set_xticklabels( [ '' ] + arcmIndex.tolist() )\n",
    "ax.set_yticklabels( [ '' ] + arcmIndex.tolist() )\n",
    "ax.set_xticks( np.arange( -.5, len( arcmIndex ), 1 ), minor=True )\n",
    "ax.set_yticks( np.arange( -.5, len( arcmIndex ), 1 ), minor=True )\n",
    "ax.grid( which=\"minor\", color='w', linestyle='-', linewidth=2 )\n",
    "ax.set_ylabel( \"From\" )\n",
    "ax.set_xlabel( \"To\" )\n",
    "ax.xaxis.set_label_position( \"top\" )\n",
    "ax.set_title( \"ASTM rainflow counting matrix\", y=-0.15 )\n",
    "\n",
    "fig.colorbar( cax )\n",
    "plt.tight_layout()\n",
    "plt.show()"
   ]
  },
  {
   "cell_type": "markdown",
   "id": "a7ec276a-8202-47ba-806f-9016602fe851",
   "metadata": {},
   "source": [
    "### ASTM rainflow counting matrix for repeating histories"
   ]
  },
  {
   "cell_type": "markdown",
   "id": "abb3abbf-dea0-411f-92b6-b52dc54b3ef5",
   "metadata": {},
   "source": [
    "#### Function help"
   ]
  },
  {
   "cell_type": "code",
   "execution_count": 22,
   "id": "6ceff664-9cc8-4c62-9403-1bf0fd371113",
   "metadata": {},
   "outputs": [
    {
     "name": "stdout",
     "output_type": "stream",
     "text": [
      "Help on function astmRainflowRepeatHistoryCountingMatrix in module ffpack.lsm.cycleCountingMatrix:\n",
      "\n",
      "astmRainflowRepeatHistoryCountingMatrix(data, resolution=0.5)\n",
      "    Calculate ASTM simplified rainflow counting matrix for repeating histories.\n",
      "    \n",
      "    Parameters\n",
      "    ----------\n",
      "    data: 1d array\n",
      "        Sequence data to calculate simplified rainflow counting matrix \n",
      "        for repeating histories.\n",
      "    resolution: bool, optional\n",
      "        The desired resolution to round the data points.\n",
      "    \n",
      "    Returns\n",
      "    -------\n",
      "    rst: 2d array\n",
      "        A matrix contains the counting results.\n",
      "    matrixIndexKey: 1d array\n",
      "        A sorted array contains the index keys for the counting matrix.\n",
      "    \n",
      "    Raises\n",
      "    ------\n",
      "    ValueError\n",
      "        If the data dimension is not 1.\n",
      "        If the data length is less than 2.\n",
      "    \n",
      "    Notes\n",
      "    -----\n",
      "    The default round function will round half to even: 1.5, 2.5 => 2.0:\n",
      "    \n",
      "    Examples\n",
      "    --------\n",
      "    >>> from ffpack.lsm import astmRainflowRepeatHistoryCountingMatrix\n",
      "    >>> data = [ -2.0, 1.0, -3.0, 5.0, -1.0, 3.0, -4.0, 4.0, -2.0 ]\n",
      "    >>> rst, matrixIndexKey = astmRainflowRepeatHistoryCountingMatrix( data )\n",
      "\n"
     ]
    }
   ],
   "source": [
    "from ffpack.lsm import astmRainflowRepeatHistoryCountingMatrix\n",
    "help( astmRainflowRepeatHistoryCountingMatrix )"
   ]
  },
  {
   "cell_type": "markdown",
   "id": "b6dacc5a-5720-488e-84ac-dd11dead8ec7",
   "metadata": {},
   "source": [
    "#### Example with default values"
   ]
  },
  {
   "cell_type": "code",
   "execution_count": 23,
   "id": "a9689eb6-fb88-465f-9c95-2fc71a3b77a9",
   "metadata": {},
   "outputs": [],
   "source": [
    "arrhcmData = [ -2.0, 1.0, -3.0, 5.0, -1.0, 3.0, -4.0, 4.0, -2.0 ]\n",
    "arrhcmMat, arrhcmIndex = astmRainflowRepeatHistoryCountingMatrix( arrhcmData )\n",
    "\n",
    "arrhcmMat = np.array( arrhcmMat )\n",
    "arrhcmIndex = np.array( arrhcmIndex ).astype( float )"
   ]
  },
  {
   "cell_type": "code",
   "execution_count": 24,
   "id": "62fec7d2-7cb2-4cc2-bcb1-8ac862f92445",
   "metadata": {},
   "outputs": [
    {
     "name": "stdout",
     "output_type": "stream",
     "text": [
      "ASTM rainflow counting matrix for repeating histories\n",
      "[[0. 0. 0. 0. 0. 0. 0. 0.]\n",
      " [0. 0. 0. 0. 0. 0. 0. 0.]\n",
      " [0. 0. 0. 0. 1. 0. 0. 0.]\n",
      " [0. 0. 0. 0. 0. 1. 0. 0.]\n",
      " [0. 0. 0. 0. 0. 0. 0. 0.]\n",
      " [0. 0. 0. 0. 0. 0. 0. 0.]\n",
      " [0. 1. 0. 0. 0. 0. 0. 0.]\n",
      " [1. 0. 0. 0. 0. 0. 0. 0.]]\n",
      "\n",
      "Matrix index\n",
      "[-4. -3. -2. -1.  1.  3.  4.  5.]\n"
     ]
    }
   ],
   "source": [
    "print( \"ASTM rainflow counting matrix for repeating histories\" )\n",
    "print( arrhcmMat )\n",
    "print()\n",
    "print( \"Matrix index\" )\n",
    "print( arrhcmIndex )"
   ]
  },
  {
   "cell_type": "code",
   "execution_count": 25,
   "id": "4dfe6d5b-e0a7-411c-a984-254f3fc6f6f2",
   "metadata": {},
   "outputs": [
    {
     "data": {
      "text/plain": [
       "<Figure size 400x320 with 0 Axes>"
      ]
     },
     "metadata": {},
     "output_type": "display_data"
    },
    {
     "data": {
      "image/png": "[encoded data removed]",
      "text/plain": [
       "<Figure size 400x320 with 2 Axes>"
      ]
     },
     "metadata": {},
     "output_type": "display_data"
    }
   ],
   "source": [
    "plt.set_cmap( \"viridis_r\")\n",
    "fig, ax = plt.subplots()\n",
    "\n",
    "cax = ax.matshow( arrhcmMat )\n",
    "\n",
    "ax.tick_params( axis='x', direction=\"in\", length=5, top=False, bottom=False )\n",
    "ax.tick_params( axis='y', direction=\"in\", length=5, left=False, right=False )\n",
    "ax.tick_params( axis='x', which=\"minor\", top=False, bottom=False )\n",
    "ax.tick_params( axis='y', which=\"minor\", left=False, right=False )\n",
    "ax.set_xticklabels( [ '' ] + arrhcmIndex.tolist() )\n",
    "ax.set_yticklabels( [ '' ] + arrhcmIndex.tolist() )\n",
    "ax.set_xticks( np.arange( -.5, len( arrhcmIndex ), 1 ), minor=True )\n",
    "ax.set_yticks( np.arange( -.5, len( arrhcmIndex ), 1 ), minor=True )\n",
    "ax.grid( which=\"minor\", color='w', linestyle='-', linewidth=2 )\n",
    "ax.set_ylabel( \"From\" )\n",
    "ax.set_xlabel( \"To\" )\n",
    "ax.xaxis.set_label_position( \"top\" )\n",
    "ax.set_title( \"ASTM rainflow counting matrix for repeating histories\", y=-0.15 )\n",
    "\n",
    "fig.colorbar( cax )\n",
    "plt.tight_layout()\n",
    "plt.show()"
   ]
  },
  {
   "cell_type": "markdown",
   "id": "448c04fa-6ab5-403d-8eb5-05156c8bb2c3",
   "metadata": {},
   "source": [
    "### Johannesson min max counting matrix"
   ]
  },
  {
   "cell_type": "markdown",
   "id": "5c916626-59a6-4278-a713-11e3c29328e8",
   "metadata": {},
   "source": [
    "#### Function help"
   ]
  },
  {
   "cell_type": "code",
   "execution_count": 26,
   "id": "3bbc0219-fc0b-4443-9396-39aa2dd6d350",
   "metadata": {},
   "outputs": [
    {
     "name": "stdout",
     "output_type": "stream",
     "text": [
      "Help on function johannessonMinMaxCountingMatrix in module ffpack.lsm.cycleCountingMatrix:\n",
      "\n",
      "johannessonMinMaxCountingMatrix(data, resolution=0.5)\n",
      "    Calculate Johannesson minMax cycle counting matrix.\n",
      "    \n",
      "    Parameters\n",
      "    ----------\n",
      "    data: 1d array\n",
      "        Sequence data to calculate rainflow counting matrix.\n",
      "    resolution: bool, optional\n",
      "        The desired resolution to round the data points.\n",
      "    \n",
      "    Returns\n",
      "    -------\n",
      "    rst: 2d array\n",
      "        A matrix contains the counting results.\n",
      "    matrixIndexKey: 1d array\n",
      "        A sorted array contains the index keys for the counting matrix.\n",
      "    \n",
      "    Raises\n",
      "    ------\n",
      "    ValueError\n",
      "        If the data dimension is not 1.\n",
      "        If the data length is less than 2.\n",
      "    \n",
      "    Notes\n",
      "    -----\n",
      "    The default round function will round half to even: 1.5, 2.5 => 2.0:\n",
      "    \n",
      "    Examples\n",
      "    --------\n",
      "    >>> from ffpack.lsm import johannessonMinMaxCountingMatrix\n",
      "    >>> data = [ -2.0, 1.0, -3.0, 5.0, -1.0, 3.0, -4.0, 4.0, -2.0 ]\n",
      "    >>> rst, matrixIndexKey = johannessonMinMaxCountingMatrix( data )\n",
      "\n"
     ]
    }
   ],
   "source": [
    "from ffpack.lsm import johannessonMinMaxCountingMatrix\n",
    "help( johannessonMinMaxCountingMatrix )"
   ]
  },
  {
   "cell_type": "markdown",
   "id": "25552ae9-9b75-49ab-a5f5-7dc78d46c3ad",
   "metadata": {},
   "source": [
    "#### Example with default values"
   ]
  },
  {
   "cell_type": "code",
   "execution_count": 27,
   "id": "a3d9f13a-9233-4fe5-9eaa-62e69c4346cc",
   "metadata": {},
   "outputs": [],
   "source": [
    "jmmcmData = [ -2.0, 1.0, -3.0, 5.0, -1.0, 3.0, -4.0, 4.0, -2.0 ]\n",
    "jmmcmMat, jmmcmIndex = johannessonMinMaxCountingMatrix( jmmcmData )\n",
    "\n",
    "jmmcmMat = np.array( jmmcmMat )\n",
    "jmmcmIndex = np.array( jmmcmIndex ).astype( float )"
   ]
  },
  {
   "cell_type": "code",
   "execution_count": 28,
   "id": "50db201e-2f58-42b3-a5e4-3c6a965ff82f",
   "metadata": {},
   "outputs": [
    {
     "name": "stdout",
     "output_type": "stream",
     "text": [
      "Rychlik rainflow counting matrix\n",
      "[[0. 0. 0. 0. 0. 0. 1. 0.]\n",
      " [0. 0. 0. 0. 0. 0. 0. 1.]\n",
      " [0. 0. 0. 0. 1. 0. 0. 0.]\n",
      " [0. 0. 0. 0. 0. 1. 0. 0.]\n",
      " [0. 0. 0. 0. 0. 0. 0. 0.]\n",
      " [0. 0. 0. 0. 0. 0. 0. 0.]\n",
      " [0. 0. 0. 0. 0. 0. 0. 0.]\n",
      " [0. 0. 0. 0. 0. 0. 0. 0.]]\n",
      "\n",
      "Matrix index\n",
      "[-4. -3. -2. -1.  1.  3.  4.  5.]\n"
     ]
    }
   ],
   "source": [
    "print( \"Rychlik rainflow counting matrix\" )\n",
    "print( jmmcmMat )\n",
    "print()\n",
    "print( \"Matrix index\" )\n",
    "print( jmmcmIndex )"
   ]
  },
  {
   "cell_type": "code",
   "execution_count": 29,
   "id": "a9752613-e6cd-413a-a064-96a0198e8cba",
   "metadata": {},
   "outputs": [
    {
     "data": {
      "text/plain": [
       "<Figure size 400x320 with 0 Axes>"
      ]
     },
     "metadata": {},
     "output_type": "display_data"
    },
    {
     "data": {
      "image/png": "[encoded data removed]",
      "text/plain": [
       "<Figure size 400x320 with 2 Axes>"
      ]
     },
     "metadata": {},
     "output_type": "display_data"
    }
   ],
   "source": [
    "plt.set_cmap( \"viridis_r\" )\n",
    "fig, ax = plt.subplots()\n",
    "\n",
    "cax = ax.matshow( jmmcmMat )\n",
    "\n",
    "ax.tick_params( axis='x', direction=\"in\", length=5, top=False, bottom=False )\n",
    "ax.tick_params( axis='y', direction=\"in\", length=5, left=False, right=False )\n",
    "ax.tick_params( axis='x', which=\"minor\", top=False, bottom=False )\n",
    "ax.tick_params( axis='y', which=\"minor\", left=False, right=False )\n",
    "ax.set_xticklabels( [ '' ] + jmmcmIndex.tolist() )\n",
    "ax.set_yticklabels( [ '' ] + jmmcmIndex.tolist() )\n",
    "ax.set_xticks( np.arange( -.5, len( jmmcmIndex ), 1 ), minor=True )\n",
    "ax.set_yticks( np.arange( -.5, len( jmmcmIndex ), 1 ), minor=True )\n",
    "ax.grid( which=\"minor\", color='w', linestyle='-', linewidth=2 )\n",
    "ax.set_ylabel( \"From\" )\n",
    "ax.set_xlabel( \"To\" )\n",
    "ax.xaxis.set_label_position( \"top\" )\n",
    "ax.set_title( \"Johannesson min max counting matrix\", y=-0.15 )\n",
    "\n",
    "fig.colorbar( cax )\n",
    "plt.tight_layout()\n",
    "plt.show()"
   ]
  },
  {
   "cell_type": "markdown",
   "id": "24e709e9-4d8a-45c6-8e03-eae3eefb3bb3",
   "metadata": {},
   "source": [
    "### Rychlik rainflow counting matrix"
   ]
  },
  {
   "cell_type": "markdown",
   "id": "358f6a38-ad78-4a7a-bcc7-bfb7a28b07bc",
   "metadata": {},
   "source": [
    "#### Function help"
   ]
  },
  {
   "cell_type": "code",
   "execution_count": 30,
   "id": "bbac20af-0ec9-4e12-98ce-5388d06274af",
   "metadata": {},
   "outputs": [
    {
     "name": "stdout",
     "output_type": "stream",
     "text": [
      "Help on function rychlikRainflowCountingMatrix in module ffpack.lsm.cycleCountingMatrix:\n",
      "\n",
      "rychlikRainflowCountingMatrix(data, resolution=0.5)\n",
      "    Calculate Rychlik rainflow counting matrix.\n",
      "    \n",
      "    Parameters\n",
      "    ----------\n",
      "    data: 1d array\n",
      "        Sequence data to calculate rainflow counting matrix.\n",
      "    resolution: bool, optional\n",
      "        The desired resolution to round the data points.\n",
      "    \n",
      "    Returns\n",
      "    -------\n",
      "    rst: 2d array\n",
      "        A matrix contains the counting results.\n",
      "    matrixIndexKey: 1d array\n",
      "        A sorted array contains the index keys for the counting matrix.\n",
      "    \n",
      "    Raises\n",
      "    ------\n",
      "    ValueError\n",
      "        If the data dimension is not 1.\n",
      "        If the data length is less than 2.\n",
      "    \n",
      "    Notes\n",
      "    -----\n",
      "    The default round function will round half to even: 1.5, 2.5 => 2.0:\n",
      "    \n",
      "    Examples\n",
      "    --------\n",
      "    >>> from ffpack.lsm import rychlikRainflowCountingMatrix\n",
      "    >>> data = [ -2.0, 1.0, -3.0, 5.0, -1.0, 3.0, -4.0, 4.0, -2.0 ]\n",
      "    >>> rst, matrixIndexKey = rychlikRainflowCountingMatrix( data )\n",
      "\n"
     ]
    }
   ],
   "source": [
    "from ffpack.lsm import rychlikRainflowCountingMatrix\n",
    "help( rychlikRainflowCountingMatrix )"
   ]
  },
  {
   "cell_type": "markdown",
   "id": "e2087799-f094-4851-a471-e194b9f590cb",
   "metadata": {},
   "source": [
    "#### Example with default values"
   ]
  },
  {
   "cell_type": "code",
   "execution_count": 31,
   "id": "fde8a36d-10d6-4ed4-8744-76c8364d27ad",
   "metadata": {},
   "outputs": [],
   "source": [
    "rrcmData = [ -2.0, 1.0, -3.0, 5.0, -1.0, 3.0, -4.0, 4.0, -2.0 ]\n",
    "rrcmMat, rrcmIndex = rychlikRainflowCountingMatrix( rrcmData )\n",
    "\n",
    "rrcmMat = np.array( rrcmMat )\n",
    "rrcmIndex = np.array( rrcmIndex ).astype( float )"
   ]
  },
  {
   "cell_type": "code",
   "execution_count": 32,
   "id": "417e61cf-c5a5-43aa-b604-92724a409482",
   "metadata": {},
   "outputs": [
    {
     "name": "stdout",
     "output_type": "stream",
     "text": [
      "Rychlik rainflow counting matrix\n",
      "[[0. 0. 0. 0. 0. 0. 1.]\n",
      " [0. 0. 0. 1. 0. 1. 0.]\n",
      " [0. 0. 0. 0. 1. 0. 0.]\n",
      " [0. 0. 0. 0. 0. 0. 0.]\n",
      " [0. 0. 0. 0. 0. 0. 0.]\n",
      " [0. 0. 0. 0. 0. 0. 0.]\n",
      " [0. 0. 0. 0. 0. 0. 0.]]\n",
      "\n",
      "Matrix index\n",
      "[-3. -2. -1.  1.  3.  4.  5.]\n"
     ]
    }
   ],
   "source": [
    "print( \"Rychlik rainflow counting matrix\" )\n",
    "print( rrcmMat )\n",
    "print()\n",
    "print( \"Matrix index\" )\n",
    "print( rrcmIndex )"
   ]
  },
  {
   "cell_type": "code",
   "execution_count": 33,
   "id": "f54376da-7988-4a8d-a61b-cd569016860a",
   "metadata": {},
   "outputs": [
    {
     "data": {
      "text/plain": [
       "<Figure size 400x320 with 0 Axes>"
      ]
     },
     "metadata": {},
     "output_type": "display_data"
    },
    {
     "data": {
      "image/png": "[encoded data removed]",
      "text/plain": [
       "<Figure size 400x320 with 2 Axes>"
      ]
     },
     "metadata": {},
     "output_type": "display_data"
    }
   ],
   "source": [
    "plt.set_cmap( \"viridis_r\" )\n",
    "fig, ax = plt.subplots()\n",
    "\n",
    "cax = ax.matshow( rrcmMat )\n",
    "\n",
    "ax.tick_params( axis='x', direction=\"in\", length=5, top=False, bottom=False )\n",
    "ax.tick_params( axis='y', direction=\"in\", length=5, left=False, right=False )\n",
    "ax.tick_params( axis='x', which=\"minor\", top=False, bottom=False )\n",
    "ax.tick_params( axis='y', which=\"minor\", left=False, right=False )\n",
    "ax.set_xticklabels( [ '' ] + rrcmIndex.tolist() )\n",
    "ax.set_yticklabels( [ '' ] + rrcmIndex.tolist() )\n",
    "ax.set_xticks( np.arange( -.5, len( rrcmIndex ), 1 ), minor=True )\n",
    "ax.set_yticks( np.arange( -.5, len( rrcmIndex ), 1 ), minor=True )\n",
    "ax.grid( which=\"minor\", color='w', linestyle='-', linewidth=2 )\n",
    "ax.set_ylabel( \"From\" )\n",
    "ax.set_xlabel( \"To\" )\n",
    "ax.xaxis.set_label_position( \"top\" )\n",
    "ax.set_title( \"Rychlik rainflow counting matrix\", y=-0.15 )\n",
    "\n",
    "fig.colorbar( cax )\n",
    "plt.tight_layout()\n",
    "plt.show()"
   ]
  }
 ],
 "metadata": {
  "kernelspec": {
   "display_name": "Python 3 (ipykernel)",
   "language": "python",
   "name": "python3"
  },
  "language_info": {
   "codemirror_mode": {
    "name": "ipython",
    "version": 3
   },
   "file_extension": ".py",
   "mimetype": "text/x-python",
   "name": "python",
   "nbconvert_exporter": "python",
   "pygments_lexer": "ipython3",
   "version": "3.7.9"
  }
 },
 "nbformat": 4,
 "nbformat_minor": 5
}
