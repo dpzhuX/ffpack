{
 "cells": [
  {
   "cell_type": "markdown",
   "id": "40c82c30-8681-4338-a461-f7e070a0287c",
   "metadata": {},
   "source": [
    "# Load sequence generator ( lsg )"
   ]
  },
  {
   "cell_type": "markdown",
   "id": "ed453fd6-9920-478f-8605-c6a8c3ff402f",
   "metadata": {},
   "source": [
    "Load sequence generator can generate the pseudo load sequence for fatigue and fracture test."
   ]
  },
  {
   "cell_type": "code",
   "execution_count": 1,
   "id": "66fde08c-60d7-4ffe-aa96-22a4a8ad7698",
   "metadata": {},
   "outputs": [],
   "source": [
    "# Import auxiliary libraries for demonstration\n",
    "\n",
    "import matplotlib as mpl\n",
    "import matplotlib.pyplot as plt\n",
    "import numpy as np\n",
    "\n",
    "plt.rcParams[ \"figure.figsize\" ] = [ 5, 4 ]\n",
    "\n",
    "plt.rcParams[ \"figure.dpi\" ] = 80\n",
    "plt.rcParams[ \"font.family\" ] = \"Times New Roman\"\n",
    "plt.rcParams[ \"font.size\" ] = '14'"
   ]
  },
  {
   "cell_type": "markdown",
   "id": "886dac88-e5e9-4072-9daf-e3483e7d73f2",
   "metadata": {},
   "source": [
    "## Random walk"
   ]
  },
  {
   "cell_type": "markdown",
   "id": "5bd75ad6-b8cf-4360-9223-bdfd7b967d85",
   "metadata": {},
   "source": [
    "Random walk is a random process describing a succession of random steps in the mathematical space."
   ]
  },
  {
   "cell_type": "markdown",
   "id": "4dda87bb-bfb8-4450-abec-afe0d2cab892",
   "metadata": {},
   "source": [
    "### Uniform random walk"
   ]
  },
  {
   "cell_type": "markdown",
   "id": "0f662dcf-1358-47ba-b0e6-1bb33064e668",
   "metadata": {},
   "source": [
    "Function `randomWalkUniform` implements the uniform random walk function.\n",
    "\n",
    "The uniform random walk starts from the mathematical origin. The function then update the coordinates by randomly picking a dimension and a direction."
   ]
  },
  {
   "cell_type": "markdown",
   "id": "a16d2e28-2915-4f2c-af99-9399e9537d13",
   "metadata": {},
   "source": [
    "#### Function help"
   ]
  },
  {
   "cell_type": "code",
   "execution_count": 2,
   "id": "a23f0ea3-6aef-4346-a45a-f60138f6b730",
   "metadata": {},
   "outputs": [
    {
     "name": "stdout",
     "output_type": "stream",
     "text": [
      "Help on function randomWalkUniform in module ffpack.lsg.randomWalk:\n",
      "\n",
      "randomWalkUniform(numSteps, dim=1)\n",
      "    Generate load sequence by random walk.\n",
      "    \n",
      "    Parameters\n",
      "    ----------\n",
      "    numSteps: integer \n",
      "        Number of numSteps for generating.\n",
      "    dim: scalar, optional\n",
      "        Data dimension.\n",
      "    \n",
      "    Returns\n",
      "    -------\n",
      "    rst: 2d array\n",
      "        A 2d (numSteps by dim) matrix holding the coordinates \n",
      "        of the position at each step.\n",
      "    \n",
      "    Raises\n",
      "    ------\n",
      "    ValueError\n",
      "        If the numSteps is less than 1 or the dim is less than 1.\n",
      "    \n",
      "    Examples\n",
      "    --------\n",
      "    >>> from ffpack.lsg import randomWalkUniform\n",
      "    >>> rst = randomWalkUniform( 5 )\n",
      "\n"
     ]
    }
   ],
   "source": [
    "from ffpack.lsg import randomWalkUniform\n",
    "help( randomWalkUniform )"
   ]
  },
  {
   "cell_type": "markdown",
   "id": "55dc8718-e96c-490a-8dff-08679ce7facb",
   "metadata": {},
   "source": [
    "#### Example in 2D space"
   ]
  },
  {
   "cell_type": "code",
   "execution_count": 3,
   "id": "c969611f-fc73-42b1-9b10-9b516b40280b",
   "metadata": {},
   "outputs": [],
   "source": [
    "urwResults = randomWalkUniform( 500, 2 )"
   ]
  },
  {
   "cell_type": "code",
   "execution_count": 4,
   "id": "5e569cbf-1f52-4c9e-bd3a-e1402986ea56",
   "metadata": {},
   "outputs": [
    {
     "data": {
      "image/png": "[encoded data removed]",
      "text/plain": [
       "<Figure size 400x400 with 1 Axes>"
      ]
     },
     "metadata": {},
     "output_type": "display_data"
    }
   ],
   "source": [
    "fig, ax = plt.subplots( figsize=( 5, 5 ) )\n",
    "\n",
    "ax.plot( np.array( urwResults )[ :, 0 ], \n",
    "         np.array( urwResults )[ :, 1 ] )\n",
    "\n",
    "ax.tick_params(axis='x', direction=\"in\", length=5)\n",
    "ax.tick_params(axis='y', direction=\"in\", length=5)\n",
    "ax.set_ylabel( \"Y\" )\n",
    "ax.set_xlabel( \"X\" )\n",
    "ax.set_title( \"2D random walk\" )\n",
    "\n",
    "plt.tight_layout()\n",
    "plt.show()"
   ]
  },
  {
   "cell_type": "markdown",
   "id": "c894bd1d-c55e-4585-85fd-80e6cffab67d",
   "metadata": {},
   "source": [
    "## Autoregressive model"
   ]
  },
  {
   "cell_type": "markdown",
   "id": "aa50a4cf-1987-4ea1-8dcc-5cb5e4dea1b3",
   "metadata": {},
   "source": [
    "Autoregressive model is a random process describing the time-varying procedure in which the output depends on the previous values."
   ]
  },
  {
   "cell_type": "markdown",
   "id": "c12aa94d-9769-4cf8-a4db-e9d931b3dacd",
   "metadata": {},
   "source": [
    "### Normal autoregressive model"
   ]
  },
  {
   "cell_type": "markdown",
   "id": "66bb9d6d-f684-45f3-852c-ea054085b4ec",
   "metadata": {},
   "source": [
    "Function `arNormal` implements the autoregressive model for arbitrary order. The order depends on the length of the initial observed values."
   ]
  },
  {
   "cell_type": "markdown",
   "id": "d6968133-4f7d-46d3-91b6-0a14e136f560",
   "metadata": {},
   "source": [
    "#### Function help"
   ]
  },
  {
   "cell_type": "code",
   "execution_count": 5,
   "id": "ae9bdac7-95a9-4eea-8364-0b65cc1af379",
   "metadata": {},
   "outputs": [
    {
     "name": "stdout",
     "output_type": "stream",
     "text": [
      "Help on function arNormal in module ffpack.lsg.autoregressiveMode:\n",
      "\n",
      "arNormal(numSteps, obs, phis, mu, sigma)\n",
      "    Generate load sequence by autoregressive model.\n",
      "    \n",
      "    The white noise is generated by the normal distribution.\n",
      "    \n",
      "    Parameters\n",
      "    ----------\n",
      "    numSteps: integer \n",
      "        Number of steps for generating.\n",
      "    obs: 1d array\n",
      "        Initial observed values.\n",
      "    phis: 1d array\n",
      "        Coefficients for autoregressive model.\n",
      "    mu: scalar\n",
      "        Mean of the white noise.\n",
      "    sigma: scalar\n",
      "        Standard deviation of the white noise.\n",
      "    \n",
      "    Returns\n",
      "    -------\n",
      "    rst: 1d array\n",
      "        Generated sequence includes the observed values.\n",
      "    \n",
      "    Raises\n",
      "    ------\n",
      "    ValueError\n",
      "        If the numSteps is less than 1.\n",
      "        If lengths of obs and phis are not equal.\n",
      "    \n",
      "    Examples\n",
      "    --------\n",
      "    >>> from ffpack.lsg import arNormal\n",
      "    >>> obs = [ 0, 0  ]\n",
      "    >>> phis = [ 0.5, 0.3 ]\n",
      "    >>> rst = arNormal( 500, obs, phis, 0, 0.5 )\n",
      "\n"
     ]
    }
   ],
   "source": [
    "from ffpack.lsg import arNormal\n",
    "help( arNormal )"
   ]
  },
  {
   "cell_type": "markdown",
   "id": "0918e382-32c6-4938-adff-3a90ccfc0232",
   "metadata": {},
   "source": [
    "#### Example with default values"
   ]
  },
  {
   "cell_type": "code",
   "execution_count": 6,
   "id": "e788abed-e9b3-4549-b555-59a858a7f551",
   "metadata": {},
   "outputs": [],
   "source": [
    "obs = [ 0, 0 ]\n",
    "phis = [ 0.5, 0.3 ]\n",
    "arnResults = arNormal( 500, obs, phis, 0, 0.5 )"
   ]
  },
  {
   "cell_type": "code",
   "execution_count": 7,
   "id": "4668c489-a88e-42d3-8a20-a404938f5daf",
   "metadata": {},
   "outputs": [
    {
     "data": {
      "image/png": "[encoded data removed]",
      "text/plain": [
       "<Figure size 400x320 with 1 Axes>"
      ]
     },
     "metadata": {},
     "output_type": "display_data"
    }
   ],
   "source": [
    "fig, ax = plt.subplots()\n",
    "\n",
    "ax.plot( np.array( arnResults ) )\n",
    "\n",
    "ax.tick_params(axis='x', direction=\"in\", length=5)\n",
    "ax.tick_params(axis='y', direction=\"in\", length=5)\n",
    "ax.set_ylabel( \"Y\" )\n",
    "ax.set_xlabel( \"X\" )\n",
    "ax.set_title( \"Autoregressive model ( AR2 )\" )\n",
    "\n",
    "plt.tight_layout()\n",
    "plt.show()"
   ]
  }
 ],
 "metadata": {
  "kernelspec": {
   "display_name": "Python 3 (ipykernel)",
   "language": "python",
   "name": "python3"
  },
  "language_info": {
   "codemirror_mode": {
    "name": "ipython",
    "version": 3
   },
   "file_extension": ".py",
   "mimetype": "text/x-python",
   "name": "python",
   "nbconvert_exporter": "python",
   "pygments_lexer": "ipython3",
   "version": "3.9.13"
  }
 },
 "nbformat": 4,
 "nbformat_minor": 5
}
