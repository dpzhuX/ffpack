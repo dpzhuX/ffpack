{
 "cells": [
  {
   "cell_type": "markdown",
   "id": "26459d36-e9ef-497f-b469-02e54f28526d",
   "metadata": {},
   "source": [
    "# Random and probabilistic model ( rpm )"
   ]
  },
  {
   "cell_type": "code",
   "execution_count": 1,
   "id": "b9cf1d2f-56be-48fa-b999-ffafaa37c6c2",
   "metadata": {},
   "outputs": [],
   "source": [
    "# Import auxiliary libraries for demonstration\n",
    "\n",
    "import matplotlib as mpl\n",
    "import matplotlib.pyplot as plt\n",
    "import numpy as np\n",
    "from scipy import stats\n",
    "\n",
    "plt.rcParams[ \"figure.figsize\" ] = [ 5, 4 ]\n",
    "\n",
    "plt.rcParams[ \"figure.dpi\" ] = 80\n",
    "plt.rcParams[ \"font.family\" ] = \"Times New Roman\"\n",
    "plt.rcParams[ \"font.size\" ] = '14'"
   ]
  },
  {
   "cell_type": "markdown",
   "id": "2383dad6-0c83-45d0-ac61-6ae79aab24fb",
   "metadata": {},
   "source": [
    "## Metropolis–Hastings algorithm"
   ]
  },
  {
   "cell_type": "markdown",
   "id": "d327bedb-ea2c-4e5d-8b56-9d5900662c8d",
   "metadata": {},
   "source": [
    "The metropolis-Hastings algorithm is a typical algorithm that generates the samples for an arbitrary density function (i.e., target density function). It uses the transition kernel (i.e., proposal density) to generate the next sample candidate. The candidate is accepted with the acceptance ratio calculated by the target density function."
   ]
  },
  {
   "cell_type": "markdown",
   "id": "d0f01a5a-2aa0-478e-a244-0b280f4c48ce",
   "metadata": {},
   "source": [
    "### Metropolis–Hastings sampler"
   ]
  },
  {
   "cell_type": "markdown",
   "id": "497f3e47-ad61-4b76-a7f4-c198fa16f0c9",
   "metadata": {},
   "source": [
    "Class `MetropolisHastingsSampler` implements the Metropolis-Hastings sampler.\n",
    "\n",
    "Based on the algorithm, three input parameters, namely `initialVal`, `targetPdf`, `proposalCSampler` are required to create a Metropolis-Hastings sampler. \n",
    "\n",
    "`initialVal` is the first observed data point that is used to start the sampling procedure. \n",
    "\n",
    "`targetPdf` is a target density function that returns the probability for a given value. It should be noted that the `targetPdf` function can be proportional to the target density function up to a multiplicative constant. \n",
    "\n",
    "`proposalCSampler` is a sampler that can return a sample for a given observation. For example, for a given observation $x_t$, the sampler can be $x_{t+1} \\sim \\mathcal{N}(x_t, 1)$ and it can return a sample based on the current observation $x_t$.\n",
    "\n",
    "The following examples show the application of the Metropolis-Hastings sampler for exponential-like and lognormal-like target distribution."
   ]
  },
  {
   "cell_type": "markdown",
   "id": "4c917a7c-5897-4d15-907e-4c52c934d028",
   "metadata": {},
   "source": [
    "#### Class initialization help"
   ]
  },
  {
   "cell_type": "code",
   "execution_count": 2,
   "id": "f2d4db22-46ff-43ea-a600-dcaa65f8f24c",
   "metadata": {},
   "outputs": [
    {
     "name": "stdout",
     "output_type": "stream",
     "text": [
      "Help on function __init__ in module ffpack.rpm.metropolisHastings:\n",
      "\n",
      "__init__(self, initialVal=None, targetPdf=None, proposalCSampler=None)\n",
      "    Initialize the Metropolis-Hastings sampler\n",
      "    \n",
      "    Parameters\n",
      "    ----------\n",
      "    initialVal: scalar or array_like of scalar\n",
      "        Initial observed data point.\n",
      "    targetPdf: function\n",
      "        Target probability density function or target distribution function.\n",
      "        targetPdf takes one input parameter and return the corresponding \n",
      "        probability.\n",
      "    proposalCSampler: function\n",
      "        Proposal conditional sampler. proposalCSampler is a sampler that will \n",
      "        return a sample for the given observed data point. A usual choice is to \n",
      "        let proposalCSampler be a Gaussian/normal distribution centered at the \n",
      "        observed data point.\n",
      "    \n",
      "    Raises\n",
      "    ------\n",
      "    ValueError\n",
      "        If any input parameter is None.\n",
      "        If targetPdf returns negative value.\n",
      "    \n",
      "    Examples\n",
      "    --------\n",
      "    >>> from ffpack.rpm import MetropolisHastingsSampler\n",
      "    >>> initialVal = 1.0\n",
      "    >>> targetPdf = lambda x : 0 if x < 0 else np.exp( -x )\n",
      "    >>> proposalCSampler = lambda x : np.random.normal( x, 1 )\n",
      "    >>> mhSampler = MetropolisHastingsSampler( initialVal, targetPdf, \n",
      "    >>>                                        proposalCsampler )\n",
      "\n"
     ]
    }
   ],
   "source": [
    "from ffpack.rpm import MetropolisHastingsSampler\n",
    "help( MetropolisHastingsSampler.__init__ )"
   ]
  },
  {
   "cell_type": "markdown",
   "id": "4111d974-7854-4e10-89e1-456700cf5640",
   "metadata": {},
   "source": [
    "#### Example with exponential-like distribution"
   ]
  },
  {
   "cell_type": "code",
   "execution_count": 3,
   "id": "f3d97445-8c37-485d-806e-f669d747fe2f",
   "metadata": {},
   "outputs": [],
   "source": [
    "# Set random seed for repeatable results\n",
    "from ffpack.config import globalConfig\n",
    "globalConfig.setSeed( 0 )\n",
    "\n",
    "mhsInitialVal = 1.0\n",
    "\n",
    "# def mhsTargetPdf( x ):\n",
    "#     return 0 if x < 0 else np.exp( -x )\n",
    "mhsTargetPdf = lambda x : 0 if x < 0 else np.exp( -x )\n",
    "\n",
    "# def mhsProposalCSampler( x ):\n",
    "#     return np.random.normal( x, 1 )\n",
    "mhsProposalCSampler = lambda x : np.random.normal( x, 1 )"
   ]
  },
  {
   "cell_type": "code",
   "execution_count": 4,
   "id": "8daa7ce1-c0a5-4a96-a597-9a6eb0368460",
   "metadata": {},
   "outputs": [],
   "source": [
    "mhSampler = MetropolisHastingsSampler( initialVal=mhsInitialVal, \n",
    "                                       targetPdf=mhsTargetPdf, \n",
    "                                       proposalCSampler=mhsProposalCSampler )"
   ]
  },
  {
   "cell_type": "code",
   "execution_count": 5,
   "id": "caddbc0e-5014-44e0-82dd-9bf707a88542",
   "metadata": {},
   "outputs": [],
   "source": [
    "mhsResults = np.zeros( 10000 )\n",
    "for i in range( 10000 ):\n",
    "    mhsResults[ i ] = mhSampler.getSample()"
   ]
  },
  {
   "cell_type": "code",
   "execution_count": 6,
   "id": "a94d4ae8-018a-490e-8e62-fc6a4b36583d",
   "metadata": {},
   "outputs": [
    {
     "data": {
      "image/png": "[encoded data removed]",
      "text/plain": [
       "<Figure size 400x320 with 1 Axes>"
      ]
     },
     "metadata": {},
     "output_type": "display_data"
    }
   ],
   "source": [
    "fig, ax = plt.subplots()\n",
    "\n",
    "ax.hist( np.array( mhsResults ), bins=20 )\n",
    "\n",
    "ax.tick_params(axis='x', direction=\"in\", length=5)\n",
    "ax.tick_params(axis='y', direction=\"in\", length=5)\n",
    "ax.set_ylabel( \"Count\" )\n",
    "ax.set_xlabel( \"Value\" )\n",
    "ax.set_title( \"Histogram of Metropolis–Hastings samples\" )\n",
    "\n",
    "plt.tight_layout()\n",
    "plt.show()"
   ]
  },
  {
   "cell_type": "markdown",
   "id": "d8b9bddb-ba53-4255-8b24-2a3a67027dc1",
   "metadata": {},
   "source": [
    "#### Example with lognormal-like distribution"
   ]
  },
  {
   "cell_type": "code",
   "execution_count": 7,
   "id": "4997f9ae-dcfb-49c0-b169-b4576242e177",
   "metadata": {},
   "outputs": [],
   "source": [
    "# Set random seed for repeatable results\n",
    "from ffpack.config import globalConfig\n",
    "globalConfig.setSeed( 0 )\n",
    "\n",
    "mhsInitialVal = 1.0\n",
    "\n",
    "def mhsTargetPdf( x ):\n",
    "    return 0 if x < 0 else 1 / x * np.exp( -1 * np.power( np.log( x ), 2 ) )\n",
    "\n",
    "def mhsProposalCSampler( x ):\n",
    "    return np.random.normal( x, 1 )"
   ]
  },
  {
   "cell_type": "code",
   "execution_count": 8,
   "id": "07dcc155-2124-4419-b2c9-d1ba7237428d",
   "metadata": {},
   "outputs": [],
   "source": [
    "mhSampler = MetropolisHastingsSampler( initialVal=mhsInitialVal, \n",
    "                                       targetPdf=mhsTargetPdf, \n",
    "                                       proposalCSampler=mhsProposalCSampler )"
   ]
  },
  {
   "cell_type": "code",
   "execution_count": 9,
   "id": "8657fb42-7244-4b6b-baf5-6cc866c261d2",
   "metadata": {},
   "outputs": [],
   "source": [
    "mhsResults = np.zeros( 10000 )\n",
    "for i in range( 10000 ):\n",
    "    mhsResults[ i ] = mhSampler.getSample()"
   ]
  },
  {
   "cell_type": "code",
   "execution_count": 10,
   "id": "0faed08b-ce84-4491-afae-48ca1142d8c3",
   "metadata": {},
   "outputs": [
    {
     "data": {
      "image/png": "[encoded data removed]",
      "text/plain": [
       "<Figure size 400x320 with 1 Axes>"
      ]
     },
     "metadata": {},
     "output_type": "display_data"
    }
   ],
   "source": [
    "fig, ax = plt.subplots()\n",
    "\n",
    "ax.hist( np.array( mhsResults ), bins=20 )\n",
    "\n",
    "ax.tick_params(axis='x', direction=\"in\", length=5)\n",
    "ax.tick_params(axis='y', direction=\"in\", length=5)\n",
    "ax.set_ylabel( \"Count\" )\n",
    "ax.set_xlabel( \"Value\" )\n",
    "ax.set_title( \"Histogram of Metropolis–Hastings samples\" )\n",
    "\n",
    "plt.tight_layout()\n",
    "plt.show()"
   ]
  },
  {
   "cell_type": "markdown",
   "id": "a0dccb9c-a6da-46e1-8d64-9c2b3b5fa55e",
   "metadata": {},
   "source": [
    "## Nataf algorithm"
   ]
  },
  {
   "cell_type": "markdown",
   "id": "d541b8cb-3df4-4a72-9252-f9f6d257519d",
   "metadata": {},
   "source": [
    "### Nataf transformation"
   ]
  },
  {
   "cell_type": "markdown",
   "id": "c973f3be-63e6-4392-974e-4f9d8509d58f",
   "metadata": {},
   "source": [
    "Nataf transformation is a isoprobabilistic transformation to create the joint distribution based on the marginal distributions and linear correlation coefficients. Gaussian copula is assumed in the Nataf transformation for the joint distribution.\n",
    "\n",
    "Here, we give a brief introduction to the Nataf transformation. The details can be found in the references. For the random variables $\\mathbf{X} = (X_1, X_2, \\dots, X_n)$, we know the marginal distributions $f_{X_i}$ for each random variable and the correlation coefficients $\\rho_{ij}$ for any two random variables $X_i$ and $X_j$. Nataf transformation represents the joint distribution of the random variables $\\mathbf{X}$ with the Gaussian copula. There are two steps in Nataf transformaton:\n",
    "\n",
    "1. Transfrom correlated random variables $\\mathbf{X}$ into correlated standard normal variables $\\mathbf{Z}$.\n",
    "2. Transfrom correlated standard normal variables $\\mathbf{Z}$ into independent standard normal variables $\\mathbf{U}$.\n",
    "\n",
    "To transform a random variable $X_i$ to standard normal variables $Z_i$, the following transformation can be performed for each random variable,\n",
    "\n",
    "$$\n",
    "z_i = \\mathbf{\\Phi}^{-1} ( F_{X_i}(x_i) )\n",
    "$$\n",
    "\n",
    "Since the random variables $\\mathbf{X}$ are correlated with the correlation coefficients $\\rho_{ij}$ for $X_i$ and $X_j$, the key for the step 1 in Nataf transformation is to solve the $\\rho_{0,ij}$ for $\\mathbf{Z}$. The $\\rho_{0,ij}$ for $Z_i$ and $Z_j$ can be expressed with the implicit function,\n",
    "\n",
    "$$\n",
    "\\rho_{ij} = \\int_R \\int_R \\left( \\frac{F^{-1}_{X_i} (\\Phi(z_i))-\\mu_i}{\\sigma_i} \\right)\\left( \\frac{F^{-1}_{X_j} (\\Phi(z_j))-\\mu_j}{\\sigma_j} \\right) \\phi(z_i, z_j; \\rho_{0,ij}) \\text{d}z_i \\text{d}z_j\n",
    "$$\n",
    "\n",
    "where $\\phi( x, y; \\rho) $ is the standard bivariate normal distribution with correlation coefficient $\\rho$.\n",
    "\n",
    "$$\n",
    "\\phi( x, y; \\rho) = \\frac{1}{2 \\pi \\sqrt{ 1 - \\rho^2 }} \\exp{\\left( -\\frac{x^2 - 2 \\rho x y + y^2}{2 (1 - \\rho^2 ) } \\right) }\n",
    "$$\n",
    "\n",
    "After solving the aforementioned equation, we know the correlation coefficient $\\rho_{0,ij}$ for $Z_i$ and $Z_j$. The correlation matrix for $\\mathbf{Z}$ is denoted by $\\mathbf{R}_0$. Then, Cholesky decomposition of correlation matrix $\\mathbf{R}_0$ is performed,\n",
    "\n",
    "$$\n",
    "\\mathbf{R}_0 = \\mathbf{L}_0 \\mathbf{L}_0^T\n",
    "$$\n",
    "\n",
    "The step 2 in Nataf transformation can be performed,\n",
    "\n",
    "$$\n",
    "\\mathbf{U} = \\mathbf{L}_0^{-1} \\mathbf{Z}\n",
    "$$\n",
    "\n",
    "Then, we map the correlated random variable $\\mathbf{X}$ (data point in X space) to independent standard normal variables $\\mathbf{U}$ (data point in U space) now.\n",
    "\n",
    "Reference: \n",
    "\n",
    "* Lemaire, M., 2013. Structural reliability. John Wiley & Sons.\n",
    "* Bourinet, J.M., 2018. Reliability analysis and optimal design under uncertainty-Focus on adaptive surrogate-based approaches (Doctoral dissertation, Université Clermont Auvergne).\n",
    "* Wang, C., 2021. Structural reliability and time-dependent reliability. Cham, Switzerland: Springer."
   ]
  },
  {
   "cell_type": "markdown",
   "id": "f55101fa-e107-40b3-86c5-2d97e82336d9",
   "metadata": {},
   "source": [
    "#### Class initialization help"
   ]
  },
  {
   "cell_type": "code",
   "execution_count": 11,
   "id": "9951785e-5f6c-40d1-a965-156d8bc7f012",
   "metadata": {},
   "outputs": [
    {
     "name": "stdout",
     "output_type": "stream",
     "text": [
      "Help on function __init__ in module ffpack.rpm.nataf:\n",
      "\n",
      "__init__(self, distObjs, corrMat, quadDeg=99, quadRange=8)\n",
      "    Initialize the Nataf distribution.\n",
      "    \n",
      "    Parameters\n",
      "    ----------\n",
      "    distObjs: array_like of distributions\n",
      "        Marginal distribution objects. It should be the freezed distribution \n",
      "        objects with pdf, cdf, ppf. We recommend to use scipy.stats functions.\n",
      "    corrMat: 2d matrix\n",
      "        Correlation matrix of the marginal distributions.\n",
      "    quadDeg: int\n",
      "        Quadrature degree.\n",
      "    quadRange: scalar\n",
      "        Quadrature range. The integral will be performed in the range\n",
      "        [ -quadRange, quadRange ].\n",
      "    \n",
      "    Raises\n",
      "    ------\n",
      "    ValueError\n",
      "        If distObjs is empty.\n",
      "        If dimensions are not match for distObjs and corrMat.\n",
      "        If corrMat is not 2d matrix.\n",
      "        If corrMat is not positive definite.\n",
      "        If corrMat is not symmetric.\n",
      "        If corrMat diagonal is not 1.\n",
      "    \n",
      "    Examples\n",
      "    --------\n",
      "    >>> from ffpack.rpm import NatafTransformation\n",
      "    >>> distObjs = [ stats.norm(), stats.norm() ]\n",
      "    >>> corrMat = [ [ 1.0, 0.5 ], [ 0.5, 1.0 ] ]\n",
      "    >>> natafDist = NatafTransformation( distObjs=distObjs, corrMat=corrMat )\n",
      "\n"
     ]
    }
   ],
   "source": [
    "from ffpack.rpm import NatafTransformation\n",
    "help( NatafTransformation.__init__ )"
   ]
  },
  {
   "cell_type": "markdown",
   "id": "5feb6f94-def0-4a95-813f-0be44dc3c117",
   "metadata": {},
   "source": [
    "#### Example with normal distribution"
   ]
  },
  {
   "cell_type": "code",
   "execution_count": 12,
   "id": "0c892d5b-1cef-42cc-8037-1b5006fd6a36",
   "metadata": {},
   "outputs": [],
   "source": [
    "# Define a standard bivariate normal distribution with correlation coefficient for comparison\n",
    "def standardBivariateNormalDistributionWithCorrelationCoefficient( x, y, rho ):\n",
    "    return 1 / ( 2 * np.pi * np.sqrt( 1 - rho**2) ) * \\\n",
    "           np.exp( -1 / ( 2 * ( 1 - rho**2 ) ) * \n",
    "           ( x**2 - 2 * rho * x * y + y**2 ) )"
   ]
  },
  {
   "cell_type": "code",
   "execution_count": 13,
   "id": "31195146-28ee-41e7-9790-c3b67b7909f7",
   "metadata": {},
   "outputs": [],
   "source": [
    "# We create the Nataf transformation with 2 normal distributions\n",
    "natafDistObjs = [ stats.norm(), stats.norm() ]\n",
    "natafCorrMat = [ [ 1.0, 0.5 ], [ 0.5, 1.0 ] ]\n",
    "\n",
    "natafNormDist = NatafTransformation( distObjs=natafDistObjs, corrMat=natafCorrMat )"
   ]
  },
  {
   "cell_type": "code",
   "execution_count": 14,
   "id": "a4a09385-72f2-4467-8c7c-f50654ea7e95",
   "metadata": {},
   "outputs": [
    {
     "name": "stdout",
     "output_type": "stream",
     "text": [
      "Data point coordinate in U space: \n",
      "[1.0, 1.0]\n",
      "\n",
      "Data point coordinate in X space: \n",
      "[1.        1.3660254]\n",
      "\n",
      "Jacobian matrix for transformation: \n",
      "[[ 1.          0.        ]\n",
      " [-0.57735027  1.15470054]]\n"
     ]
    }
   ],
   "source": [
    "# Transformation from U space to X space\n",
    "natafU = [ 1.0, 1.0 ]\n",
    "natafX, natafJ = natafNormDist.getX( natafU )\n",
    "print( \"Data point coordinate in U space: \" )\n",
    "print( natafU )\n",
    "print()\n",
    "print( \"Data point coordinate in X space: \" )\n",
    "print( natafX )\n",
    "print()\n",
    "print( \"Jacobian matrix for transformation: \" )\n",
    "print( natafJ )"
   ]
  },
  {
   "cell_type": "code",
   "execution_count": 15,
   "id": "1d2c261a-5b67-4b65-b32a-486358685148",
   "metadata": {},
   "outputs": [
    {
     "name": "stdout",
     "output_type": "stream",
     "text": [
      "Data point coordinate in X space: \n",
      "[1.0, 1.0]\n",
      "\n",
      "Data point coordinate in U space: \n",
      "[1.         0.57735027]\n",
      "\n",
      "Jacobian matrix for transformation: \n",
      "[[1.        0.       ]\n",
      " [0.5       0.8660254]]\n"
     ]
    }
   ],
   "source": [
    "# Transformation from X space to U space\n",
    "natafX = [ 1.0, 1.0 ]\n",
    "natafU, natafJ = natafNormDist.getU( natafX )\n",
    "print( \"Data point coordinate in X space: \" )\n",
    "print( natafX )\n",
    "print()\n",
    "print( \"Data point coordinate in U space: \" )\n",
    "print( natafU )\n",
    "print()\n",
    "print( \"Jacobian matrix for transformation: \" )\n",
    "print( natafJ )"
   ]
  },
  {
   "cell_type": "code",
   "execution_count": 16,
   "id": "8eccbc9e-d71e-4f61-ba12-ed451c17cb78",
   "metadata": {},
   "outputs": [
    {
     "name": "stdout",
     "output_type": "stream",
     "text": [
      "pdf from Nataf transformation: \n",
      "0.11146595955294503\n",
      "\n",
      "pdf from standard bivariate normal distribution with correlation coefficient:\n",
      "0.11146595955293902\n"
     ]
    }
   ],
   "source": [
    "# Joint pdf for X\n",
    "natafX = [ 1.0, 0.5 ]\n",
    "natafPdfX = natafNormDist.pdf( natafX )\n",
    "print( \"pdf from Nataf transformation: \" )\n",
    "print( natafPdfX )\n",
    "print()\n",
    "print( \"pdf from standard bivariate normal distribution with correlation coefficient:\" )\n",
    "print( standardBivariateNormalDistributionWithCorrelationCoefficient( 1.0, 0.5, 0.5 ) ) "
   ]
  },
  {
   "cell_type": "code",
   "execution_count": 17,
   "id": "f81b10e1-35a8-47c4-ab69-9dd835a17d07",
   "metadata": {},
   "outputs": [
    {
     "name": "stdout",
     "output_type": "stream",
     "text": [
      "cdf from Nataf transformation: \n",
      "0.630283927552582\n"
     ]
    }
   ],
   "source": [
    "# Joint cdf for X\n",
    "natafX = [ 1.0, 0.5 ]\n",
    "natafCdfX = natafNormDist.cdf( natafX )\n",
    "print( \"cdf from Nataf transformation: \" )\n",
    "print( natafCdfX )"
   ]
  },
  {
   "cell_type": "markdown",
   "id": "bd7024b6-7f1b-48f7-90b3-b923344e6e58",
   "metadata": {},
   "source": [
    "#### Example with exponential distribution"
   ]
  },
  {
   "cell_type": "code",
   "execution_count": 18,
   "id": "1a4a268f-0044-4357-bd23-05af6a77cfbf",
   "metadata": {},
   "outputs": [],
   "source": [
    "# We create the Nataf transformation with 2 normal distributions\n",
    "natafDistObjs = [ stats.expon(), stats.expon() ]\n",
    "natafCorrMat = [ [ 1.0, 0.2 ], [ 0.2, 1.0 ] ]\n",
    "\n",
    "natafExponDist = NatafTransformation( distObjs=natafDistObjs, corrMat=natafCorrMat )"
   ]
  },
  {
   "cell_type": "code",
   "execution_count": 19,
   "id": "8763c59f-6cca-4179-9612-64522d7a1174",
   "metadata": {},
   "outputs": [
    {
     "name": "stdout",
     "output_type": "stream",
     "text": [
      "Data point coordinate in U space: \n",
      "[1.0, 1.0]\n",
      "\n",
      "Data point coordinate in X space: \n",
      "[1.84102165 2.17177436]\n",
      "\n",
      "Jacobian matrix for transformation: \n",
      "[[ 0.65567954  0.        ]\n",
      " [-0.15726467  0.6077046 ]]\n"
     ]
    }
   ],
   "source": [
    "# Transformation from U space to X space\n",
    "natafU = [ 1.0, 1.0 ]\n",
    "natafX, natafJ = natafExponDist.getX( natafU )\n",
    "print( \"Data point coordinate in U space: \" )\n",
    "print( natafU )\n",
    "print()\n",
    "print( \"Data point coordinate in X space: \" )\n",
    "print( natafX )\n",
    "print()\n",
    "print( \"Jacobian matrix for transformation: \" )\n",
    "print( natafJ )"
   ]
  },
  {
   "cell_type": "code",
   "execution_count": 20,
   "id": "82f010f1-7b99-4d75-a30f-b02aa7166dfc",
   "metadata": {},
   "outputs": [
    {
     "name": "stdout",
     "output_type": "stream",
     "text": [
      "Data point coordinate in X space: \n",
      "[1.0, 1.0]\n",
      "\n",
      "Data point coordinate in U space: \n",
      "[0.33747496 0.26610302]\n",
      "\n",
      "Jacobian matrix for transformation: \n",
      "[[1.02440995 0.        ]\n",
      " [0.23892819 0.99615715]]\n"
     ]
    }
   ],
   "source": [
    "# Transformation from X space to U space\n",
    "natafX = [ 1.0, 1.0 ]\n",
    "natafU, natafJ = natafExponDist.getU( natafX )\n",
    "print( \"Data point coordinate in X space: \" )\n",
    "print( natafX )\n",
    "print()\n",
    "print( \"Data point coordinate in U space: \" )\n",
    "print( natafU )\n",
    "print()\n",
    "print( \"Jacobian matrix for transformation: \" )\n",
    "print( natafJ )"
   ]
  },
  {
   "cell_type": "code",
   "execution_count": 21,
   "id": "6fa0eb6b-3402-46e1-8a58-8a6509bcfe49",
   "metadata": {},
   "outputs": [
    {
     "name": "stdout",
     "output_type": "stream",
     "text": [
      "pdf from Nataf transformation: \n",
      "0.22315052067193208\n"
     ]
    }
   ],
   "source": [
    "# Joint pdf for X\n",
    "natafX = [ 1.0, 0.5 ]\n",
    "natafPdfX = natafExponDist.pdf( natafX )\n",
    "print( \"pdf from Nataf transformation: \" )\n",
    "print( natafPdfX )"
   ]
  },
  {
   "cell_type": "code",
   "execution_count": 22,
   "id": "d953ecfa-8981-4ff2-a3d6-3ea2b9a2bf1a",
   "metadata": {},
   "outputs": [
    {
     "name": "stdout",
     "output_type": "stream",
     "text": [
      "cdf from Nataf transformation: \n",
      "0.2824109061173752\n"
     ]
    }
   ],
   "source": [
    "# Joint cdf for X\n",
    "natafX = [ 1.0, 0.5 ]\n",
    "natafCdfX = natafExponDist.cdf( natafX )\n",
    "print( \"cdf from Nataf transformation: \" )\n",
    "print( natafCdfX )"
   ]
  }
 ],
 "metadata": {
  "kernelspec": {
   "display_name": "Python 3 (ipykernel)",
   "language": "python",
   "name": "python3"
  },
  "language_info": {
   "codemirror_mode": {
    "name": "ipython",
    "version": 3
   },
   "file_extension": ".py",
   "mimetype": "text/x-python",
   "name": "python",
   "nbconvert_exporter": "python",
   "pygments_lexer": "ipython3",
   "version": "3.9.13"
  }
 },
 "nbformat": 4,
 "nbformat_minor": 5
}
