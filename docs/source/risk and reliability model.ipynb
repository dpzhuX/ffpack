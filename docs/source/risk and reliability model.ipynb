{
 "cells": [
  {
   "cell_type": "markdown",
   "id": "2a31575a-0585-4e91-a5d7-16f554c53368",
   "metadata": {},
   "source": [
    "# Risk and reliability model ( rrm )"
   ]
  },
  {
   "cell_type": "code",
   "execution_count": 1,
   "id": "4f4f5d78-0a54-4ec1-ac14-4aa4eaf53012",
   "metadata": {},
   "outputs": [],
   "source": [
    "# Import auxiliary libraries for demonstration\n",
    "\n",
    "import matplotlib as mpl\n",
    "import matplotlib.pyplot as plt\n",
    "import numpy as np\n",
    "from scipy import stats\n",
    "\n",
    "plt.rcParams[ \"figure.figsize\" ] = [ 5, 4 ]\n",
    "\n",
    "plt.rcParams[ \"figure.dpi\" ] = 80\n",
    "plt.rcParams[ \"font.family\" ] = \"Times New Roman\"\n",
    "plt.rcParams[ \"font.size\" ] = '14'"
   ]
  },
  {
   "cell_type": "markdown",
   "id": "0e1e78b2-d28b-49aa-aeba-6b1484911579",
   "metadata": {},
   "source": [
    "## First order second moment"
   ]
  },
  {
   "cell_type": "markdown",
   "id": "69b6d3f1-3368-4154-bd90-d96882eed0b2",
   "metadata": {},
   "source": [
    "### FOSM with mean value algorithm"
   ]
  },
  {
   "cell_type": "markdown",
   "id": "308a93d6-400e-48a1-b623-b499f32cb0bf",
   "metadata": {},
   "source": [
    "FOSM with mean value algorithm can be expressed by the following equation,\n",
    "\n",
    "$$\n",
    "\\beta = \\frac{g(\\mu_1, \\mu_2, \\dots, \\mu_n)}{\\sqrt{ \\sum_{i=1}^n \\alpha_i \\sigma_i}}\n",
    "$$\n",
    "\n",
    "where $g$ is the limit state function (LSF); $\\alpha_i$ is given by,\n",
    "\n",
    "$$\n",
    "\\alpha_i = \\frac{\\partial g}{ \\partial X_i} \\Bigr|_{\\mu_i}\n",
    "$$\n",
    "\n",
    "Function `fosmMVAL` implements the FOSM with mean value algorithm.\n",
    "\n",
    "Reference: Nowak, A.S. and Collins, K.R., 2012. Reliability of structures. CRC press."
   ]
  },
  {
   "cell_type": "markdown",
   "id": "9ce27867-4ca5-4cdd-a4cc-3eee9446dc29",
   "metadata": {},
   "source": [
    "#### Function help"
   ]
  },
  {
   "cell_type": "code",
   "execution_count": 2,
   "id": "33e38c23-b5fd-4b86-8dcf-df8b4d0594de",
   "metadata": {},
   "outputs": [
    {
     "name": "stdout",
     "output_type": "stream",
     "text": [
      "Help on function fosmMVAL in module ffpack.rrm.firstOrderSecondMoment:\n",
      "\n",
      "fosmMVAL(dim, g, dg, mus, sigmas)\n",
      "    First order second moment method based on mean value algorithm.\n",
      "    \n",
      "    Parameters\n",
      "    ----------\n",
      "    dim: integer\n",
      "        Space dimension ( number of random variables ).\n",
      "    g: function\n",
      "        Limit state function. It will be called like g( [ x1, x2, ... ] ).\n",
      "    dg: array_like of function \n",
      "        Gradient of the limit state function. It should be an array_like of function\n",
      "        like dg = [ dg_dx1, dg_dx2, ... ]. To get the derivative of i-th random \n",
      "        variable at ( x1*, x2*, ... ), dg[ i ]( x1*, x2*, ... ) will be called.\n",
      "        dg can be None, see the following Notes.\n",
      "    mus: 1d array\n",
      "        Mean of the random variables.\n",
      "    sigmas: 1d array\n",
      "        Variance of the random variables.\n",
      "    \n",
      "    Returns\n",
      "    -------\n",
      "    beta: scalar\n",
      "        Reliability index.\n",
      "    pf: scalar\n",
      "        probability of failure.\n",
      "    \n",
      "    Raises\n",
      "    ------\n",
      "    ValueError\n",
      "        If the dim is less than 1.\n",
      "        If the dim does not match the length of mus and sigmas.\n",
      "    \n",
      "    Notes\n",
      "    -----\n",
      "    If dg is None, the numerical differentiation will be used. The tolerance of the \n",
      "    numerical differentiation can be changed in globalConfig.\n",
      "    \n",
      "    Examples\n",
      "    --------\n",
      "    >>> from ffpack.rrm import fosmMVAL\n",
      "    >>> dim = 2\n",
      "    >>> g = lambda X: 3 * X[ 0 ] - 2 * X[ 1 ]\n",
      "    >>> dg = [ lambda X: 3, lambda X: -2 ]\n",
      "    >>> mus = [ 1, 1 ]\n",
      "    >>> sigmas = [ 3, 4 ]\n",
      "    >>> beta, pf = fosmMVAL( dim, g, dg, mus, sigmas)\n",
      "\n"
     ]
    }
   ],
   "source": [
    "from ffpack.rrm import fosmMVAL\n",
    "help( fosmMVAL )"
   ]
  },
  {
   "cell_type": "markdown",
   "id": "ad99ce29-136d-448f-9faf-fcde69d9ba39",
   "metadata": {},
   "source": [
    "#### Example with explicit derivative of LSF"
   ]
  },
  {
   "cell_type": "code",
   "execution_count": 3,
   "id": "92a4b9be-cf3e-4f99-ab02-11226a053fb4",
   "metadata": {},
   "outputs": [],
   "source": [
    "# Define the dimension for the FOSM problem\n",
    "dim = 2\n",
    "\n",
    "# Define the limit state function (LSF) g\n",
    "g = lambda X: 3 * X[ 0 ] - 2 * X[ 1 ]\n",
    "\n",
    "# Explicit derivative of LSF\n",
    "# dg is a list in which each element is a partial derivative function of g w.r.t. X\n",
    "# dg[0] = partial g / partial X[0]\n",
    "# dg[1] = partial g / partial X[1]\n",
    "dg = [ lambda X: 3, lambda X: -2 ]\n",
    "\n",
    "# Mean and standard deviation of the random variables\n",
    "mus = [ 1, 1 ]\n",
    "sigmas = [ 3, 4 ]\n",
    "\n",
    "# Use mean value algorithm to get results\n",
    "beta, pf = fosmMVAL( dim, g, dg, mus, sigmas)"
   ]
  },
  {
   "cell_type": "code",
   "execution_count": 4,
   "id": "580f878b-211e-41ee-a233-dc6cf0c578da",
   "metadata": {},
   "outputs": [
    {
     "name": "stdout",
     "output_type": "stream",
     "text": [
      "Reliability index: \n",
      "0.08304547985373997\n",
      "\n",
      "Failure probability: \n",
      "0.46690768839408386\n"
     ]
    }
   ],
   "source": [
    "print( \"Reliability index: \" )\n",
    "print( beta )\n",
    "print()\n",
    "print( \"Failure probability: \" )\n",
    "print( pf )"
   ]
  },
  {
   "cell_type": "markdown",
   "id": "aa5d27c4-1763-4b66-a5a0-4f6ed472c1ee",
   "metadata": {},
   "source": [
    "#### Example with automatic differentiation of LSF"
   ]
  },
  {
   "cell_type": "code",
   "execution_count": 5,
   "id": "5860ec4c-e5be-4571-b60e-e20ede29a87a",
   "metadata": {},
   "outputs": [],
   "source": [
    "# Define the dimension for the FOSM problem\n",
    "dim = 2\n",
    "\n",
    "# Define the limit state function (LSF) g\n",
    "g = lambda X: 3 * X[ 0 ] - 2 * X[ 1 ]\n",
    "\n",
    "# If dg is None, the internal automatic differentiation algorithm will be used\n",
    "dg = None\n",
    "\n",
    "# Mean and standard deviation of the random variables\n",
    "mus = [ 1, 1 ]\n",
    "sigmas = [ 3, 4 ]\n",
    "\n",
    "# Use mean value algorithm to get results\n",
    "beta, pf = fosmMVAL( dim, g, dg, mus, sigmas)"
   ]
  },
  {
   "cell_type": "code",
   "execution_count": 6,
   "id": "869eb46f-3c85-40ba-8c6b-d2423093c020",
   "metadata": {},
   "outputs": [
    {
     "name": "stdout",
     "output_type": "stream",
     "text": [
      "Reliability index: \n",
      "0.08304547985853711\n",
      "\n",
      "Failure probability: \n",
      "0.46690768839217667\n"
     ]
    }
   ],
   "source": [
    "print( \"Reliability index: \" )\n",
    "print( beta )\n",
    "print()\n",
    "print( \"Failure probability: \" )\n",
    "print( pf )"
   ]
  },
  {
   "cell_type": "markdown",
   "id": "03b36a94-c81d-47dd-b99d-0f50c656a4f3",
   "metadata": {},
   "source": [
    "## First order reliability method"
   ]
  },
  {
   "cell_type": "markdown",
   "id": "ba5cfab2-1586-41f9-81fb-38b6aa3899ae",
   "metadata": {},
   "source": [
    "### FORM with Hasofer-Lind-Rackwitz-Fiessler algorithm"
   ]
  },
  {
   "cell_type": "markdown",
   "id": "aeba2833-9e15-493f-ac0b-9a6e33bda0c5",
   "metadata": {},
   "source": [
    "Hasofer-Lind-Rackwitz-Fiessler (HLRF) algorithm is an iterative method to find the reliability index. It is shown that the HLRF algorithm is very effective in many situations even if the convergence is not assured in all cases. \n",
    "\n",
    "Function `formHLRF` implements the FORM with Hasofer-Lind-Rackwitz-Fiessler algorithm. The Nataf transformation is used in the method to map the random variables from X space to U space.\n",
    "\n",
    "Reference:\n",
    "\n",
    "1. Wang, C., 2021. Structural reliability and time-dependent reliability. Cham, Switzerland: Springer.\n",
    "2. Lemaire, M., 2013. Structural reliability. John Wiley & Sons."
   ]
  },
  {
   "cell_type": "markdown",
   "id": "8933072a-1d10-4036-98fc-4392753596da",
   "metadata": {},
   "source": [
    "#### Function help"
   ]
  },
  {
   "cell_type": "code",
   "execution_count": 7,
   "id": "b59f8eeb-40cc-487d-970f-7fc97e6a591c",
   "metadata": {},
   "outputs": [
    {
     "name": "stdout",
     "output_type": "stream",
     "text": [
      "Help on function formHLRF in module ffpack.rrm.firstOrderReliabilityMethod:\n",
      "\n",
      "formHLRF(dim, g, dg, distObjs, corrMat, iter=1000, tol=1e-06, quadDeg=99, quadRange=8)\n",
      "    First order reliability method based on Hasofer-Lind-Rackwitz-Fiessler algorithm.\n",
      "    \n",
      "    Parameters\n",
      "    ----------\n",
      "    dim: integer\n",
      "        Space dimension ( number of random variables ).\n",
      "    g: function\n",
      "        Limit state function. It will be called like g( [ x1, x2, ... ] ).\n",
      "    dg: array_like of function \n",
      "        Gradient of the limit state function. It should be an array_like of function\n",
      "        like dg = [ dg_dx1, dg_dx2, ... ]. To get the derivative of i-th random \n",
      "        variable at ( x1*, x2*, ... ), dg[ i ]( x1*, x2*, ... ) will be called.\n",
      "        dg can be None, see the following Notes.\n",
      "    distObjs: array_like of distributions\n",
      "        Marginal distribution objects. It should be the freezed distribution \n",
      "        objects with pdf, cdf, ppf. We recommend to use scipy.stats functions.\n",
      "    corrMat: 2d matrix\n",
      "        Correlation matrix of the marginal distributions.\n",
      "    iter: integer\n",
      "        Maximum iteration steps.\n",
      "    tol: scalar\n",
      "        Tolerance to demtermine if the iteration converges.\n",
      "    quadDeg: integer\n",
      "        Quadrature degree for Nataf transformation\n",
      "    quadRange: scalar\n",
      "        Quadrature range for Nataf transformation. The integral will be performed \n",
      "        in the range [ -quadRange, quadRange ].\n",
      "    \n",
      "    Returns\n",
      "    -------\n",
      "    beta: scalar\n",
      "        Reliability index.\n",
      "    pf: scalar\n",
      "        Probability of failure.\n",
      "    uCoord: 1d array\n",
      "        Design point coordinate in U space.\n",
      "    xCoord: 1d array\n",
      "        Design point coordinate in X space.\n",
      "    \n",
      "    Raises\n",
      "    ------\n",
      "    ValueError\n",
      "        If the dim is less than 1.\n",
      "        If the dim does not match the disObjs and corrMat.\n",
      "        If corrMat is not 2d matrix.\n",
      "        If corrMat is not positive definite.\n",
      "        If corrMat is not symmetric.\n",
      "        If corrMat diagonal is not 1.\n",
      "    \n",
      "    Notes\n",
      "    -----\n",
      "    If dg is None, the numerical differentiation will be used. The tolerance of the \n",
      "    numerical differentiation can be changed in globalConfig.\n",
      "    \n",
      "    Examples\n",
      "    --------\n",
      "    >>> from ffpack.rrm import formHLRF\n",
      "    >>> dim = 2\n",
      "    >>> g = lambda X: -np.sum( X ) + 1\n",
      "    >>> dg = [ lambda X: -1, lambda X: -1 ]\n",
      "    >>> distObjs = [ stats.norm(), stats.norm() ]\n",
      "    >>> corrMat = np.eye( dim )\n",
      "    >>> beta, pf, uCoord, xCoord = formHLRF( dim, g, dg, distObjs, corrMat )\n",
      "\n"
     ]
    }
   ],
   "source": [
    "from ffpack.rrm import formHLRF\n",
    "help( formHLRF )"
   ]
  },
  {
   "cell_type": "markdown",
   "id": "50b248f2-c448-41de-8091-90c69deb20cf",
   "metadata": {},
   "source": [
    "#### Example with explicit derivative of LSF"
   ]
  },
  {
   "cell_type": "code",
   "execution_count": 8,
   "id": "14c575c2-ca10-44d1-8c4a-142a2b8454a5",
   "metadata": {},
   "outputs": [],
   "source": [
    "# Define the dimension for the FORM problem\n",
    "dim = 2\n",
    "\n",
    "# Define the limit state function (LSF) g\n",
    "g = lambda X: 1.0 - X[ 0 ] - X[ 1 ]\n",
    "\n",
    "# Explicit derivative of LSF\n",
    "# dg is a list in which each element is a partial derivative function of g w.r.t. X\n",
    "# dg[0] = partial g / partial X[0]\n",
    "# dg[1] = partial g / partial X[1]\n",
    "dg = [ lambda X: -1, lambda X: -1 ]\n",
    "\n",
    "# Marginal distributions and correlation Matrix of the random variables\n",
    "distObjs = [ stats.norm(), stats.norm() ]\n",
    "corrMat = np.eye( dim )\n",
    "\n",
    "# Use Hasofer-Lind-Rackwitz-Fiessler algorithm to get results\n",
    "beta, pf, uCoord, xCoord = formHLRF( dim, g, dg, distObjs, corrMat )"
   ]
  },
  {
   "cell_type": "code",
   "execution_count": 9,
   "id": "831375b4-9531-41bd-9d9a-440a8ec51a27",
   "metadata": {},
   "outputs": [
    {
     "name": "stdout",
     "output_type": "stream",
     "text": [
      "Reliability index: \n",
      "0.7071067811865477\n",
      "\n",
      "Failure probability: \n",
      "0.23975006109347669\n",
      "\n",
      "Design point coordinate in U space: \n",
      "[0.5 0.5]\n",
      "\n",
      "Design point coordinate in X space: \n",
      "[0.5 0.5]\n"
     ]
    }
   ],
   "source": [
    "print( \"Reliability index: \" )\n",
    "print( beta )\n",
    "print()\n",
    "print( \"Failure probability: \" )\n",
    "print( pf )\n",
    "print()\n",
    "print( \"Design point coordinate in U space: \" )\n",
    "print( uCoord )\n",
    "print()\n",
    "print( \"Design point coordinate in X space: \" )\n",
    "print( xCoord )"
   ]
  },
  {
   "cell_type": "markdown",
   "id": "b31cdee5-34d8-43f3-ab05-8522b65dbf0e",
   "metadata": {},
   "source": [
    "#### Example with automatic differentiation of LSF"
   ]
  },
  {
   "cell_type": "code",
   "execution_count": 10,
   "id": "6925afe8-cfa0-43de-8c14-c15c6e1ab6eb",
   "metadata": {},
   "outputs": [],
   "source": [
    "# Define the dimension for the FORM problem\n",
    "dim = 2\n",
    "\n",
    "# Define the limit state function (LSF) g\n",
    "g = lambda X: 1.0 - X[ 0 ] - X[ 1 ]\n",
    "\n",
    "# If dg is None, the internal automatic differentiation algorithm will be used\n",
    "dg = None\n",
    "\n",
    "# Marginal distributions and correlation Matrix of the random variables\n",
    "distObjs = [ stats.norm(), stats.norm() ]\n",
    "corrMat = np.eye( dim )\n",
    "\n",
    "# Use Hasofer-Lind-Rackwitz-Fiessler algorithm to get results\n",
    "beta, pf, uCoord, xCoord = formHLRF( dim, g, dg, distObjs, corrMat )"
   ]
  },
  {
   "cell_type": "code",
   "execution_count": 11,
   "id": "590316da-53c1-4d7a-8fbf-8036551d37ef",
   "metadata": {},
   "outputs": [
    {
     "name": "stdout",
     "output_type": "stream",
     "text": [
      "Reliability index: \n",
      "0.7071053669729852\n",
      "\n",
      "Failure probability: \n",
      "0.23975050048498586\n",
      "\n",
      "Design point coordinate in U space: \n",
      "[0.499999 0.499999]\n",
      "\n",
      "Design point coordinate in X space: \n",
      "[0.499999 0.499999]\n"
     ]
    }
   ],
   "source": [
    "print( \"Reliability index: \" )\n",
    "print( beta )\n",
    "print()\n",
    "print( \"Failure probability: \" )\n",
    "print( pf )\n",
    "print()\n",
    "print( \"Design point coordinate in U space: \" )\n",
    "print( uCoord )\n",
    "print()\n",
    "print( \"Design point coordinate in X space: \" )\n",
    "print( xCoord )"
   ]
  },
  {
   "cell_type": "markdown",
   "id": "98970ba6-9523-4796-9260-dc966c266b1e",
   "metadata": {},
   "source": [
    "### FORM with constrained optimization algorithm"
   ]
  },
  {
   "cell_type": "markdown",
   "id": "747110cc-edf6-4e13-b3c0-ade727937d6e",
   "metadata": {},
   "source": [
    "Finding the design point or most probable point (MPP) for a given limit state function is basically a constrained optimization problem. It can be represented by the following equation,\n",
    "\n",
    "$$\n",
    "\\beta = \\underset{\\beta}{\\operatorname{argmin}}||\\mathbf{U}||\n",
    "$$\n",
    "\n",
    "$$\n",
    "s.t. g( \\mathbf{X} ) = g( \\mathbf{T}^{-1} ( \\mathbf{U} ) ) = g( \\mathbf{U} ) = 0\n",
    "$$\n",
    "\n",
    "where transformation $\\mathbf{T}$ is introduced to map the original random variables $\\mathbf{X}$ (in X-space) to the standard, uncorrelated normal variables $\\mathbf{U}$ with $\\mathbf{U} = \\mathbf{T} ( \\mathbf{X} )$.\n",
    "\n",
    "Function `formCOPT` implements the FORM with constrained optimization algorithm. The Nataf transformation is used in the method to map the random variables from X space to U space."
   ]
  },
  {
   "cell_type": "markdown",
   "id": "a388793c-d27f-411c-88af-c0125a04f6e8",
   "metadata": {},
   "source": [
    "#### Function help"
   ]
  },
  {
   "cell_type": "code",
   "execution_count": 12,
   "id": "9831e3bb-e171-4160-8dcd-00d4c0804c99",
   "metadata": {},
   "outputs": [
    {
     "name": "stdout",
     "output_type": "stream",
     "text": [
      "Help on function formCOPT in module ffpack.rrm.firstOrderReliabilityMethod:\n",
      "\n",
      "formCOPT(dim, g, distObjs, corrMat, quadDeg=99, quadRange=8)\n",
      "    First order reliability method based on constrained optimization.\n",
      "    \n",
      "    Parameters\n",
      "    ----------\n",
      "    dim: integer\n",
      "        Space dimension ( number of random variables ).\n",
      "    g: function\n",
      "        Limit state function. It will be called like g( [ x1, x2, ... ] ).\n",
      "    distObjs: array_like of distributions\n",
      "        Marginal distribution objects. It should be the freezed distribution \n",
      "        objects with pdf, cdf, ppf. We recommend to use scipy.stats functions.\n",
      "    corrMat: 2d matrix\n",
      "        Correlation matrix of the marginal distributions.\n",
      "    quadDeg: integer\n",
      "        Quadrature degree for Nataf transformation\n",
      "    quadRange: scalar\n",
      "        Quadrature range for Nataf transformation. The integral will be performed \n",
      "        in the range [ -quadRange, quadRange ].\n",
      "    \n",
      "    Returns\n",
      "    -------\n",
      "    beta: scalar\n",
      "        Reliability index.\n",
      "    pf: scalar\n",
      "        Probability of failure.\n",
      "    uCoord: 1d array\n",
      "        Design point coordinate in U space.\n",
      "    xCoord: 1d array\n",
      "        Design point coordinate in X space.\n",
      "    \n",
      "    Raises\n",
      "    ------\n",
      "    ValueError\n",
      "        If the dim is less than 1.\n",
      "        If the dim does not match the disObjs and corrMat.\n",
      "        If corrMat is not 2d matrix.\n",
      "        If corrMat is not positive definite.\n",
      "        If corrMat is not symmetric.\n",
      "        If corrMat diagonal is not 1.\n",
      "    \n",
      "    Examples\n",
      "    --------\n",
      "    >>> from ffpack.rrm import formCOPT\n",
      "    >>> dim = 2\n",
      "    >>> g = lambda X: -np.sum( X ) + 1\n",
      "    >>> distObjs = [ stats.norm(), stats.norm() ]\n",
      "    >>> corrMat = np.eye( dim )\n",
      "    >>> beta, pf, uCoord, xCoord = formCOPT( dim, g, distObjs, corrMat )\n",
      "\n"
     ]
    }
   ],
   "source": [
    "from ffpack.rrm import formCOPT\n",
    "help( formCOPT )"
   ]
  },
  {
   "cell_type": "markdown",
   "id": "7ec31a32-3c2e-4719-bfe6-b44f8312f26e",
   "metadata": {},
   "source": [
    "#### Example with default values"
   ]
  },
  {
   "cell_type": "code",
   "execution_count": 13,
   "id": "4922981a-052b-4861-baa3-3ad9df1da058",
   "metadata": {},
   "outputs": [],
   "source": [
    "# Define the dimension for the FORM problem\n",
    "dim = 2\n",
    "\n",
    "# Define the limit state function (LSF) g\n",
    "g = lambda X: 1.0 - X[ 0 ] - X[ 1 ]\n",
    "\n",
    "# Marginal distributions and correlation Matrix of the random variables\n",
    "distObjs = [ stats.norm(), stats.norm() ]\n",
    "corrMat = np.eye( dim )\n",
    "\n",
    "# Use Hasofer-Lind-Rackwitz-Fiessler algorithm to get results\n",
    "beta, pf, uCoord, xCoord = formCOPT( dim, g, distObjs, corrMat )"
   ]
  },
  {
   "cell_type": "code",
   "execution_count": 14,
   "id": "eab06634-c858-4b80-85bf-3825e28a7739",
   "metadata": {},
   "outputs": [
    {
     "name": "stdout",
     "output_type": "stream",
     "text": [
      "Reliability index: \n",
      "0.7071067706498352\n",
      "\n",
      "Failure probability: \n",
      "0.23975006436719704\n",
      "\n",
      "Design point coordinate in U space: \n",
      "[0.49999999 0.49999999]\n",
      "\n",
      "Design point coordinate in X space: \n",
      "[0.49999999 0.49999999]\n"
     ]
    }
   ],
   "source": [
    "print( \"Reliability index: \" )\n",
    "print( beta )\n",
    "print()\n",
    "print( \"Failure probability: \" )\n",
    "print( pf )\n",
    "print()\n",
    "print( \"Design point coordinate in U space: \" )\n",
    "print( uCoord )\n",
    "print()\n",
    "print( \"Design point coordinate in X space: \" )\n",
    "print( xCoord )"
   ]
  }
 ],
 "metadata": {
  "kernelspec": {
   "display_name": "Python 3 (ipykernel)",
   "language": "python",
   "name": "python3"
  },
  "language_info": {
   "codemirror_mode": {
    "name": "ipython",
    "version": 3
   },
   "file_extension": ".py",
   "mimetype": "text/x-python",
   "name": "python",
   "nbconvert_exporter": "python",
   "pygments_lexer": "ipython3",
   "version": "3.9.13"
  }
 },
 "nbformat": 4,
 "nbformat_minor": 5
}
