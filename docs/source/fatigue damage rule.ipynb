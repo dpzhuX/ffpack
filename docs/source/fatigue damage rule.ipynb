{
 "cells": [
  {
   "cell_type": "markdown",
   "id": "e7e82799-7fa3-4b63-b63d-d0ae49d50227",
   "metadata": {},
   "source": [
    "# Fatigue damage rule ( fdr )"
   ]
  },
  {
   "cell_type": "markdown",
   "id": "59a78634-b651-4aca-8d35-9eb18d2d0ebe",
   "metadata": {},
   "source": [
    "## Palmgren-miner damage rule"
   ]
  },
  {
   "cell_type": "markdown",
   "id": "829f716d-ed1d-4bb2-80b3-d2cb3f2db4c2",
   "metadata": {},
   "source": [
    "Palmgren-miner damage rule also known as linear damage rule is one of the famous damage rule used in the engineering field. Based on the Palmgren-miner's rule, the cumulative damage can be expressed by the following equation,\n",
    "\n",
    "$$D = \\sum \\frac{C_i}{F_i}$$\n",
    "\n",
    "where $C_i$ and $F_i$ is the counting cycles and the failure cycles at a specific load level.\n",
    "\n",
    "In essense, the Palmgren-miner damage rule treats the fatigue damage on different load levels seperately. Therefore, the total damage can be calcuated by adding the damage from each load level. Although the discrepancy can be found between the experimental resutls and the Palmgren-miner damage rule, it is still widely used due to the its simplicity.\n",
    "\n",
    "Reference: \n",
    "\n",
    "* Palmgren, A.G., 1924. Die Lebensdaur von Kugellagern [Life Length of Roller Bearings]. Zeitschrift des Vereines Deutscher Ingenieure (VDI Zeitschrift), 68(14), pp.339-341.\n",
    "* Miner, M.A., 1945. Cumulative damage in fatigue. Journal of Applied Mechanics 12(3): A159–A164."
   ]
  },
  {
   "cell_type": "markdown",
   "id": "3ed8bda0-48fa-4c3f-8f60-11cff92c965e",
   "metadata": {},
   "source": [
    "### Naive Palmgren-miner damage rule"
   ]
  },
  {
   "cell_type": "markdown",
   "id": "6fdf4826-ebd3-4447-b70e-20e6525f2073",
   "metadata": {},
   "source": [
    "Function `minerDamageRuleNaive` implements the native Palmgren-miner damage rule.\n",
    "\n",
    "The naive Palmgren-miner dmage rule refers the damage calculation directly based on the aforedmentioned equation. When we know the counting cycles and failure cycles at each level, then the totol damage can be calculated by summing the damage from all load level."
   ]
  },
  {
   "cell_type": "markdown",
   "id": "7966425d-f8f8-4bd7-8f51-3bc27b230609",
   "metadata": {},
   "source": [
    "#### Function help"
   ]
  },
  {
   "cell_type": "code",
   "execution_count": 1,
   "id": "c06a89d2-120f-4759-8c30-9711220dd7ed",
   "metadata": {},
   "outputs": [
    {
     "name": "stdout",
     "output_type": "stream",
     "text": [
      "Help on function minerDamageRuleNaive in module ffpack.fdr.minerRule:\n",
      "\n",
      "minerDamageRuleNaive(fatigueData)\n",
      "    Naive Palmgren-miner damage rule directly calcuates the damage results.\n",
      "    \n",
      "    Parameters\n",
      "    ----------\n",
      "    fatigueData: 2d array \n",
      "        Paired counting and experimental data under each load condition,\n",
      "        e.g., [ [ C_1, F_1 ], [ C_2, F_2 ], ..., [ C_i, F_i ] ] \n",
      "        where C_i and F_i represent the counting cycles and failure cycles\n",
      "        under the same load condition.\n",
      "    \n",
      "    Returns\n",
      "    -------\n",
      "    rst: scalar\n",
      "        Fatigue damage calculated based on the Palmgren-miner rule\n",
      "    \n",
      "    Raises\n",
      "    ------\n",
      "    ValueError\n",
      "        If fatigueData length is less than 1.\n",
      "        If counting cycles is less than 0.\n",
      "        If failure cycles is less than or equal 0.\n",
      "        If counting cycles is large than failure cycles.\n",
      "    \n",
      "    \n",
      "    Examples\n",
      "    --------\n",
      "    >>> from ffpack.fdr import minerDamageRuleNaive\n",
      "    >>> fatigueData = [ [ 10, 100 ], [ 200, 2000 ] ]\n",
      "    >>> rst = minerDamageRuleNaive( fatigueData )\n",
      "\n"
     ]
    }
   ],
   "source": [
    "from ffpack.fdr import minerDamageRuleNaive\n",
    "help( minerDamageRuleNaive )"
   ]
  },
  {
   "cell_type": "markdown",
   "id": "36bde7b0-8afd-4308-bc92-6f35bd0697ed",
   "metadata": {},
   "source": [
    "#### Example with default values"
   ]
  },
  {
   "cell_type": "code",
   "execution_count": 2,
   "id": "74026480-565a-4c70-afdd-e48a8be9f9a6",
   "metadata": {},
   "outputs": [],
   "source": [
    "nmdrFatigueData =  [ [ 10, 100 ], [ 200, 2000 ] ]\n",
    "\n",
    "nmdrResults = minerDamageRuleNaive( nmdrFatigueData )"
   ]
  },
  {
   "cell_type": "code",
   "execution_count": 3,
   "id": "537bdee7-d793-4fd8-8052-c9ccece137dd",
   "metadata": {},
   "outputs": [
    {
     "name": "stdout",
     "output_type": "stream",
     "text": [
      "0.2\n"
     ]
    }
   ],
   "source": [
    "print( nmdrResults )"
   ]
  },
  {
   "cell_type": "markdown",
   "id": "81c2578b-63af-4db0-815d-293c7663d1ae",
   "metadata": {},
   "source": [
    "### Classic Palmgren-miner damage rule"
   ]
  },
  {
   "cell_type": "markdown",
   "id": "fe2000e7-f368-4788-9e22-d5cd038b85d9",
   "metadata": {},
   "source": [
    "Function `minerDamageRuleClassic` implements the classic Palmgren-miner damage rule.\n",
    "\n",
    "The classic Palmgren-miner damage rule can calculate the totol damage based on the experimental SN curve. Since the load level for counting cycles might be unavailable for failure cycles, the experimental SN curve will be fitted first and determine the failure cycles at the same load level.\n",
    "\n",
    "**Notes**\n",
    "\n",
    "The load levels under or equal the fatigueLimit will be ignored for fatigue damage calculate since these load levels does not contribute to the fatigue damage."
   ]
  },
  {
   "cell_type": "markdown",
   "id": "17feaa2e-ecc5-4826-9065-9747b9302a25",
   "metadata": {},
   "source": [
    "#### Function help"
   ]
  },
  {
   "cell_type": "code",
   "execution_count": 4,
   "id": "96f0914c-814f-4b55-be4e-0ffd1b25da8e",
   "metadata": {},
   "outputs": [
    {
     "name": "stdout",
     "output_type": "stream",
     "text": [
      "Help on function minerDamageRuleClassic in module ffpack.fdr.minerRule:\n",
      "\n",
      "minerDamageRuleClassic(lccData, snData, fatigueLimit)\n",
      "    Classical Palmgren-miner damage rule calcuates the damage results based on SN curve.\n",
      "    \n",
      "    Parameters\n",
      "    ----------\n",
      "    lccData: 2d array\n",
      "        Load cycle counting results in 2D matrix,\n",
      "        e.g., [ [ value, count ], ... ]\n",
      "    \n",
      "    snData: 2d array\n",
      "        Experimental SN data in 2D matrix,\n",
      "        e.g., [ [ N_1, S_1 ], [ N_2, S_2 ], ..., [ N_i, S_i ] ]\n",
      "    \n",
      "    fatigueLimit: scalar\n",
      "        Fatigue limit indicating the minimum S that can cause fatigue.\n",
      "    \n",
      "    Returns\n",
      "    -------\n",
      "    rst: scalar\n",
      "        Fatigue damage calculated based on the Palmgren-miner rule\n",
      "    \n",
      "    Raises\n",
      "    ------\n",
      "    ValueError\n",
      "        If the lccData dimension is not 2.\n",
      "        If the lccData length is less than 1.\n",
      "    \n",
      "    Examples\n",
      "    --------\n",
      "    >>> from ffpack.fdr import minerDamageRuleClassic\n",
      "    >>> lccData = [ [ 1, 100 ], [ 2, 10 ] ]\n",
      "    >>> snData = [ [ 10, 3 ], [ 1000, 1 ] ]\n",
      "    >>> fatigueLimit = 0.5\n",
      "    >>> rst = minerDamageRuleClassic( lccData, snData, fatigueLimit )\n",
      "\n"
     ]
    }
   ],
   "source": [
    "from ffpack.fdr import minerDamageRuleClassic\n",
    "help( minerDamageRuleClassic )"
   ]
  },
  {
   "cell_type": "markdown",
   "id": "c02b26eb-6125-4b88-825f-6313e0945e77",
   "metadata": {},
   "source": [
    "#### Example with default values"
   ]
  },
  {
   "cell_type": "code",
   "execution_count": 5,
   "id": "6a6dc6ea-04f4-4339-9ff8-e78153018e0c",
   "metadata": {},
   "outputs": [],
   "source": [
    "cmdrLccData = [ [ 1, 100 ], [ 2, 10 ] ]\n",
    "cmdrSnData = [ [ 10, 3 ], [ 1000, 1 ] ]\n",
    "cmdrFatigueLimit = 0.5\n",
    "\n",
    "cmdrResults = minerDamageRuleClassic( cmdrLccData, cmdrSnData, cmdrFatigueLimit )"
   ]
  },
  {
   "cell_type": "code",
   "execution_count": 6,
   "id": "00a59a0a-71cb-4723-9238-5a280723fe21",
   "metadata": {},
   "outputs": [
    {
     "name": "stdout",
     "output_type": "stream",
     "text": [
      "0.20\n"
     ]
    }
   ],
   "source": [
    "print( \"{:.2f}\".format(cmdrResults) )"
   ]
  }
 ],
 "metadata": {
  "kernelspec": {
   "display_name": "Python 3 (ipykernel)",
   "language": "python",
   "name": "python3"
  },
  "language_info": {
   "codemirror_mode": {
    "name": "ipython",
    "version": 3
   },
   "file_extension": ".py",
   "mimetype": "text/x-python",
   "name": "python",
   "nbconvert_exporter": "python",
   "pygments_lexer": "ipython3",
   "version": "3.9.13"
  }
 },
 "nbformat": 4,
 "nbformat_minor": 5
}
